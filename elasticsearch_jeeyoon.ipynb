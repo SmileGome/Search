{
 "cells": [
  {
   "cell_type": "markdown",
   "metadata": {},
   "source": [
    "### 1. elasticsearch clinent 연결"
   ]
  },
  {
   "cell_type": "code",
   "execution_count": 1,
   "metadata": {},
   "outputs": [
    {
     "name": "stderr",
     "output_type": "stream",
     "text": [
      "/var/folders/3c/k281jc6s6yq4s3qndkn6tw880000gn/T/ipykernel_17248/1599703845.py:5: ElasticsearchWarning: Elasticsearch built-in security features are not enabled. Without authentication, your cluster could be accessible to anyone. See https://www.elastic.co/guide/en/elasticsearch/reference/7.17/security-minimal-setup.html to enable security.\n",
      "  es.info()\n"
     ]
    },
    {
     "data": {
      "text/plain": [
       "ObjectApiResponse({'name': 'single-node', 'cluster_name': 'fastcampus', 'cluster_uuid': 'oliiLtTLTAyiKLsERJNtFQ', 'version': {'number': '7.17.4', 'build_flavor': 'default', 'build_type': 'tar', 'build_hash': '79878662c54c886ae89206c685d9f1051a9d6411', 'build_date': '2022-05-18T18:04:20.964345128Z', 'build_snapshot': False, 'lucene_version': '8.11.1', 'minimum_wire_compatibility_version': '6.8.0', 'minimum_index_compatibility_version': '6.0.0-beta1'}, 'tagline': 'You Know, for Search'})"
      ]
     },
     "execution_count": 1,
     "metadata": {},
     "output_type": "execute_result"
    }
   ],
   "source": [
    "from elasticsearch import Elasticsearch\n",
    "# from datasets import load_from_disk\n",
    "\n",
    "es = Elasticsearch('http://localhost:9200')\n",
    "es.info()"
   ]
  },
  {
   "cell_type": "code",
   "execution_count": 2,
   "metadata": {},
   "outputs": [
    {
     "name": "stdout",
     "output_type": "stream",
     "text": [
      "{\n",
      "  \"name\" : \"single-node\",\n",
      "  \"cluster_name\" : \"fastcampus\",\n",
      "  \"cluster_uuid\" : \"oliiLtTLTAyiKLsERJNtFQ\",\n",
      "  \"version\" : {\n",
      "    \"number\" : \"7.17.4\",\n",
      "    \"build_flavor\" : \"default\",\n",
      "    \"build_type\" : \"tar\",\n",
      "    \"build_hash\" : \"79878662c54c886ae89206c685d9f1051a9d6411\",\n",
      "    \"build_date\" : \"2022-05-18T18:04:20.964345128Z\",\n",
      "    \"build_snapshot\" : false,\n",
      "    \"lucene_version\" : \"8.11.1\",\n",
      "    \"minimum_wire_compatibility_version\" : \"6.8.0\",\n",
      "    \"minimum_index_compatibility_version\" : \"6.0.0-beta1\"\n",
      "  },\n",
      "  \"tagline\" : \"You Know, for Search\"\n",
      "}\n"
     ]
    }
   ],
   "source": [
    "# 실행된 node 정보\n",
    "!curl -XGET localhost:9200"
   ]
  },
  {
   "cell_type": "markdown",
   "metadata": {},
   "source": [
    "### 2. index & mapping 생성"
   ]
  },
  {
   "cell_type": "code",
   "execution_count": 46,
   "metadata": {},
   "outputs": [
    {
     "name": "stderr",
     "output_type": "stream",
     "text": [
      "/var/folders/3c/k281jc6s6yq4s3qndkn6tw880000gn/T/ipykernel_17248/3033068698.py:24: ElasticsearchWarning: Elasticsearch built-in security features are not enabled. Without authentication, your cluster could be accessible to anyone. See https://www.elastic.co/guide/en/elasticsearch/reference/7.17/security-minimal-setup.html to enable security.\n",
      "  if es.indices.exists(index=INDEX):\n",
      "/var/folders/3c/k281jc6s6yq4s3qndkn6tw880000gn/T/ipykernel_17248/3033068698.py:27: DeprecationWarning: The 'body' parameter is deprecated and will be removed in a future version. Instead use individual parameters.\n",
      "  es.indices.create(index=INDEX, body = index_settings)\n",
      "/var/folders/3c/k281jc6s6yq4s3qndkn6tw880000gn/T/ipykernel_17248/3033068698.py:27: ElasticsearchWarning: Elasticsearch built-in security features are not enabled. Without authentication, your cluster could be accessible to anyone. See https://www.elastic.co/guide/en/elasticsearch/reference/7.17/security-minimal-setup.html to enable security.\n",
      "  es.indices.create(index=INDEX, body = index_settings)\n"
     ]
    }
   ],
   "source": [
    "# index명\n",
    "INDEX = 'search_index' \n",
    "# mapping 정보 ->  대부분 json으로 저장해서 불러와서 쓴다. \n",
    "index_settings = {\n",
    "    \"settings\" : {\n",
    "        \"number_of_shards\" : 2,\n",
    "        \"number_of_replicas\" : 1 \n",
    "    },\n",
    "    \"mappings\" : {\n",
    "        \"properties\" : {\n",
    "            \"id\" : {\"type\":\"text\"},\n",
    "            \"link\" : {\"type\":\"text\"},\n",
    "            \"title\" : {\"type\":\"text\"},\n",
    "            \"latex\" : {\"type\":\"text\"},\n",
    "            \"embedding\" : {\"type\":\"dense_vector\", \n",
    "                           \"dims\": 512}, # 벡터를 넣기 위해서는 차원을 지정해야 한다. \n",
    "            \"@timestamp\" : {\"type\":\"date\"}\n",
    "        }\n",
    "    }\n",
    "}\n",
    "# mapping 정보를 지정하지 않는 경우 mapping이 자동으로 생성되지만 데이터 타입을 지정하지 못한다. \n",
    "\n",
    "# 생성된 인덱스는 다시 create하지 않게 \n",
    "if es.indices.exists(index=INDEX):\n",
    "\tpass\n",
    "else:\n",
    "\tes.indices.create(index=INDEX, body = index_settings)"
   ]
  },
  {
   "cell_type": "code",
   "execution_count": 47,
   "metadata": {},
   "outputs": [],
   "source": [
    "# es.indices.delete(index='search_index') # 잘못 생성된 index 없애기"
   ]
  },
  {
   "cell_type": "code",
   "execution_count": 48,
   "metadata": {},
   "outputs": [
    {
     "name": "stderr",
     "output_type": "stream",
     "text": [
      "/var/folders/3c/k281jc6s6yq4s3qndkn6tw880000gn/T/ipykernel_17248/979579740.py:1: ElasticsearchWarning: Elasticsearch built-in security features are not enabled. Without authentication, your cluster could be accessible to anyone. See https://www.elastic.co/guide/en/elasticsearch/reference/7.17/security-minimal-setup.html to enable security.\n",
      "  es.indices.get_settings() # 설정 확인\n"
     ]
    },
    {
     "data": {
      "text/plain": [
       "ObjectApiResponse({'search_index': {'settings': {'index': {'routing': {'allocation': {'include': {'_tier_preference': 'data_content'}}}, 'number_of_shards': '2', 'provided_name': 'search_index', 'creation_date': '1662365207963', 'number_of_replicas': '1', 'uuid': 'MJQKsuuvSQC4J-F-9txm7A', 'version': {'created': '7170499'}}}}})"
      ]
     },
     "execution_count": 48,
     "metadata": {},
     "output_type": "execute_result"
    }
   ],
   "source": [
    "es.indices.get_settings() # 설정 확인"
   ]
  },
  {
   "cell_type": "markdown",
   "metadata": {},
   "source": [
    "### 3. latex 임베딩 생성"
   ]
  },
  {
   "cell_type": "code",
   "execution_count": 43,
   "metadata": {},
   "outputs": [
    {
     "name": "stdout",
     "output_type": "stream",
     "text": [
      "dc9fd2c45824afc\n",
      "u,v\\in \\Gamma (\\mathrm {T} M)\n",
      "리만 곡률 텐서\n",
      "Lengths of unique contexts : 289\n"
     ]
    }
   ],
   "source": [
    "# 수집된 데이터 불러오기 -> 데이터 크롤링 파트와 연동 (바로 클라우드에 연동될 수 있게 변경)\n",
    "import json \n",
    "with open(\"anno.json\", \"r\", encoding=\"utf-8\") as json_file:\n",
    "    latex_data = json.load(json_file)\n",
    "print(latex_data['latex_anno'][0]['id'])\n",
    "print(latex_data['latex_anno'][0]['latex'][0])\n",
    "print(latex_data['latex_anno'][0]['title'])\n",
    "\n",
    "contexts = list()\n",
    "for v in latex_data['latex_anno']:\n",
    "    id, link, title = v['id'], v['link'], v['title']\n",
    "    for latex in v['latex']:\n",
    "        contexts.append((latex, id, link, title))\n",
    "\n",
    "print(f\"Lengths of unique contexts : {len(contexts)}\")"
   ]
  },
  {
   "cell_type": "markdown",
   "metadata": {},
   "source": [
    "(추가 사항) latex의 임베딩을 하나의 property로 추가"
   ]
  },
  {
   "cell_type": "markdown",
   "metadata": {},
   "source": [
    "### 3. 데이터 삽입"
   ]
  },
  {
   "cell_type": "code",
   "execution_count": 36,
   "metadata": {},
   "outputs": [
    {
     "name": "stderr",
     "output_type": "stream",
     "text": [
      "/var/folders/3c/k281jc6s6yq4s3qndkn6tw880000gn/T/ipykernel_17248/4251627907.py:5: DeprecationWarning: The 'body' parameter is deprecated and will be removed in a future version. Instead use the 'document' parameter. See https://github.com/elastic/elasticsearch-py/issues/1698 for more information\n",
      "  es.index(index=INDEX, id=id, body=body)\n",
      "/var/folders/3c/k281jc6s6yq4s3qndkn6tw880000gn/T/ipykernel_17248/4251627907.py:5: ElasticsearchWarning: Elasticsearch built-in security features are not enabled. Without authentication, your cluster could be accessible to anyone. See https://www.elastic.co/guide/en/elasticsearch/reference/7.17/security-minimal-setup.html to enable security.\n",
      "  es.index(index=INDEX, id=id, body=body)\n"
     ]
    }
   ],
   "source": [
    "for idx, data in enumerate(contexts):\n",
    "    latex, id, link, title = data\n",
    "    body = {'latex': latex, 'id': id, 'link': link, 'title': title}\n",
    "    # print(body)\n",
    "    es.index(index=INDEX, id=id, body=body)"
   ]
  },
  {
   "cell_type": "code",
   "execution_count": 37,
   "metadata": {},
   "outputs": [
    {
     "name": "stderr",
     "output_type": "stream",
     "text": [
      "/var/folders/3c/k281jc6s6yq4s3qndkn6tw880000gn/T/ipykernel_17248/1279614632.py:1: ElasticsearchWarning: Elasticsearch built-in security features are not enabled. Without authentication, your cluster could be accessible to anyone. See https://www.elastic.co/guide/en/elasticsearch/reference/7.17/security-minimal-setup.html to enable security.\n",
      "  es.get(index=INDEX, id='dc9fd2c45824afc')\n"
     ]
    },
    {
     "data": {
      "text/plain": [
       "ObjectApiResponse({'_index': 'search_index', '_type': '_doc', '_id': 'dc9fd2c45824afc', '_version': 50, '_seq_no': 124, '_primary_term': 1, 'found': True, '_source': {'latex': \"(\\\\iota \\\\iota ',\\\\iota ''\\\\iota ''')\", 'id': 'dc9fd2c45824afc', 'link': 'https://ko.wikipedia.org/wiki/%EB%A6%AC%EB%A7%8C_%EA%B3%A1%EB%A5%A0', 'title': '리만 곡률 텐서'}})"
      ]
     },
     "execution_count": 37,
     "metadata": {},
     "output_type": "execute_result"
    }
   ],
   "source": [
    "es.get(index=INDEX, id='dc9fd2c45824afc')"
   ]
  },
  {
   "cell_type": "markdown",
   "metadata": {},
   "source": []
  },
  {
   "cell_type": "code",
   "execution_count": 41,
   "metadata": {},
   "outputs": [
    {
     "name": "stderr",
     "output_type": "stream",
     "text": [
      "/var/folders/3c/k281jc6s6yq4s3qndkn6tw880000gn/T/ipykernel_17248/639292111.py:8: DeprecationWarning: The 'body' parameter is deprecated and will be removed in a future version. Instead use individual parameters.\n",
      "  res = es.search(index=INDEX, body=body)\n"
     ]
    },
    {
     "name": "stdout",
     "output_type": "stream",
     "text": [
      "{'took': 519, 'timed_out': False, '_shards': {'total': 2, 'successful': 2, 'skipped': 0, 'failed': 0}, 'hits': {'total': {'value': 3, 'relation': 'eq'}, 'max_score': 9.281366, 'hits': [{'_index': 'search_index', '_type': '_doc', '_id': 'f49097b47f255c6', '_score': 9.281366, '_source': {'latex': '\\\\scriptstyle \\\\mathrm {distance\\\\ in\\\\ parsecs} ={\\\\frac {1000}{\\\\mathrm {parallax\\\\ in\\\\ milliarcseconds} }}', 'id': 'f49097b47f255c6', 'link': 'https://ko.wikipedia.org/wiki/HR_8799_b', 'title': 'HR 8799 b'}}, {'_index': 'search_index', '_type': '_doc', '_id': '77e840f5bef1b29', '_score': 6.7158313, '_source': {'latex': '{\\\\mathcal {L}}={{\\\\psi }}(i\\\\gamma ^{\\\\mu }\\\\partial _{\\\\mu }-m)\\\\psi -{\\\\frac {1}{2}}g(\\\\psi \\\\gamma ^{\\\\mu }\\\\psi )^{2}', 'id': '77e840f5bef1b29', 'link': 'https://ko.wikipedia.org/wiki/%ED%8B%B0%EB%A7%81_%EB%AA%A8%ED%98%95', 'title': '티링 모형'}}, {'_index': 'search_index', '_type': '_doc', '_id': 'fa9b06265c0f6c9', '_score': 3.2517695, '_source': {'latex': '\\\\mathbf {G} ={\\\\frac {8\\\\pi G}{c^{4}}}\\\\mathbf {T} ', 'id': 'fa9b06265c0f6c9', 'link': 'https://ko.wikipedia.org/wiki/%EA%B0%88%EB%A6%B4%EB%A0%88%EC%9D%B4_%EA%B5%B0', 'title': '갈릴레이 군'}}]}}\n"
     ]
    },
    {
     "name": "stderr",
     "output_type": "stream",
     "text": [
      "/var/folders/3c/k281jc6s6yq4s3qndkn6tw880000gn/T/ipykernel_17248/639292111.py:8: ElasticsearchWarning: Elasticsearch built-in security features are not enabled. Without authentication, your cluster could be accessible to anyone. See https://www.elastic.co/guide/en/elasticsearch/reference/7.17/security-minimal-setup.html to enable security.\n",
      "  res = es.search(index=INDEX, body=body)\n"
     ]
    }
   ],
   "source": [
    "body = {\n",
    "\t\t'query': {\n",
    "\t\t\t\t'match': {\n",
    "\t\t\t\t\t\t'latex': 'u,v\\in \\Gamma (\\mathrm {T} M)'\n",
    "\t\t\t\t}\n",
    "\t\t}\n",
    "}\n",
    "res = es.search(index=INDEX, body=body)\n",
    "print(res)"
   ]
  },
  {
   "cell_type": "code",
   "execution_count": null,
   "metadata": {},
   "outputs": [],
   "source": []
  }
 ],
 "metadata": {
  "kernelspec": {
   "display_name": "Python 3.8.1 64-bit ('search')",
   "language": "python",
   "name": "python3"
  },
  "language_info": {
   "codemirror_mode": {
    "name": "ipython",
    "version": 3
   },
   "file_extension": ".py",
   "mimetype": "text/x-python",
   "name": "python",
   "nbconvert_exporter": "python",
   "pygments_lexer": "ipython3",
   "version": "3.10.5"
  },
  "vscode": {
   "interpreter": {
    "hash": "158cfa67cb22e04d45aaf053e08c20f748d209cd8afcbc683eea0fb6444962a4"
   }
  }
 },
 "nbformat": 4,
 "nbformat_minor": 4
}
