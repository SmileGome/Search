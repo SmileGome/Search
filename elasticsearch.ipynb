{
 "cells": [
  {
   "cell_type": "code",
   "execution_count": 1,
   "metadata": {},
   "outputs": [],
   "source": [
    "from elasticsearch import Elasticsearch\n",
    "# from datasets import load_from_disk"
   ]
  },
  {
   "cell_type": "code",
   "execution_count": 2,
   "metadata": {},
   "outputs": [],
   "source": [
    "es = Elasticsearch('http://localhost:9200')"
   ]
  },
  {
   "cell_type": "code",
   "execution_count": 3,
   "metadata": {},
   "outputs": [
    {
     "name": "stderr",
     "output_type": "stream",
     "text": [
      "/var/folders/lp/tb5q9ks973gdt01t1w07s95m0000gn/T/ipykernel_8779/515033876.py:1: ElasticsearchWarning: Elasticsearch built-in security features are not enabled. Without authentication, your cluster could be accessible to anyone. See https://www.elastic.co/guide/en/elasticsearch/reference/7.17/security-minimal-setup.html to enable security.\n",
      "  es.info()\n"
     ]
    },
    {
     "data": {
      "text/plain": [
       "ObjectApiResponse({'name': '82365160d178', 'cluster_name': 'docker-cluster', 'cluster_uuid': 'RSL0QICXQ6uGZJ-EP_X6mA', 'version': {'number': '7.17.4', 'build_flavor': 'default', 'build_type': 'docker', 'build_hash': '79878662c54c886ae89206c685d9f1051a9d6411', 'build_date': '2022-05-18T18:04:20.964345128Z', 'build_snapshot': False, 'lucene_version': '8.11.1', 'minimum_wire_compatibility_version': '6.8.0', 'minimum_index_compatibility_version': '6.0.0-beta1'}, 'tagline': 'You Know, for Search'})"
      ]
     },
     "execution_count": 3,
     "metadata": {},
     "output_type": "execute_result"
    }
   ],
   "source": [
    "es.info()"
   ]
  },
  {
   "cell_type": "code",
   "execution_count": 5,
   "metadata": {},
   "outputs": [
    {
     "name": "stdout",
     "output_type": "stream",
     "text": [
      "{\n",
      "  \"name\" : \"82365160d178\",\n",
      "  \"cluster_name\" : \"docker-cluster\",\n",
      "  \"cluster_uuid\" : \"RSL0QICXQ6uGZJ-EP_X6mA\",\n",
      "  \"version\" : {\n",
      "    \"number\" : \"7.17.4\",\n",
      "    \"build_flavor\" : \"default\",\n",
      "    \"build_type\" : \"docker\",\n",
      "    \"build_hash\" : \"79878662c54c886ae89206c685d9f1051a9d6411\",\n",
      "    \"build_date\" : \"2022-05-18T18:04:20.964345128Z\",\n",
      "    \"build_snapshot\" : false,\n",
      "    \"lucene_version\" : \"8.11.1\",\n",
      "    \"minimum_wire_compatibility_version\" : \"6.8.0\",\n",
      "    \"minimum_index_compatibility_version\" : \"6.0.0-beta1\"\n",
      "  },\n",
      "  \"tagline\" : \"You Know, for Search\"\n",
      "}\n"
     ]
    }
   ],
   "source": [
    "!curl -XGET localhost:9200"
   ]
  },
  {
   "cell_type": "code",
   "execution_count": 6,
   "metadata": {},
   "outputs": [
    {
     "name": "stderr",
     "output_type": "stream",
     "text": [
      "/var/folders/lp/tb5q9ks973gdt01t1w07s95m0000gn/T/ipykernel_8779/515627836.py:2: ElasticsearchWarning: Elasticsearch built-in security features are not enabled. Without authentication, your cluster could be accessible to anyone. See https://www.elastic.co/guide/en/elasticsearch/reference/7.17/security-minimal-setup.html to enable security.\n",
      "  es.indices.create(index=INDEX)\n"
     ]
    },
    {
     "data": {
      "text/plain": [
       "ObjectApiResponse({'acknowledged': True, 'shards_acknowledged': True, 'index': 'search_test'})"
      ]
     },
     "execution_count": 6,
     "metadata": {},
     "output_type": "execute_result"
    }
   ],
   "source": [
    "INDEX = 'search_test'\n",
    "es.indices.create(index=INDEX)"
   ]
  },
  {
   "cell_type": "code",
   "execution_count": 8,
   "metadata": {},
   "outputs": [
    {
     "name": "stdout",
     "output_type": "stream",
     "text": [
      "zsh:1: no matches found: localhost:9200/_cat/indices?v\n"
     ]
    }
   ],
   "source": [
    "!curl -XGET localhost:9200/_cat/indices?v"
   ]
  },
  {
   "cell_type": "code",
   "execution_count": 9,
   "metadata": {},
   "outputs": [],
   "source": [
    "import json\n",
    "with open(\"anno.json\", \"r\", encoding=\"utf-8\") as json_file:\n",
    "    latex_data = json.load(json_file)"
   ]
  },
  {
   "cell_type": "code",
   "execution_count": 15,
   "metadata": {},
   "outputs": [
    {
     "data": {
      "text/plain": [
       "['u,v\\\\in \\\\Gamma (\\\\mathrm {T} M)',\n",
       " '\\\\operatorname {Riem} (u,v)w=\\\\nabla _{u}\\\\nabla _{v}w-\\\\nabla _{v}\\\\nabla _{u}w-\\\\nabla _{[u,v]}w',\n",
       " '{\\\\operatorname {Riem} ^{\\\\rho }}_{\\\\sigma \\\\mu \\\\nu }=\\\\partial _{\\\\mu }\\\\Gamma _{\\\\nu \\\\sigma }^{\\\\rho }-\\\\partial _{\\\\nu }\\\\Gamma _{\\\\mu \\\\sigma }^{\\\\rho }+\\\\Gamma _{\\\\mu \\\\lambda }^{\\\\rho }\\\\Gamma _{\\\\nu \\\\sigma }^{\\\\lambda }-\\\\Gamma _{\\\\nu \\\\lambda }^{\\\\rho }\\\\Gamma _{\\\\mu \\\\sigma }^{\\\\lambda }',\n",
       " '\\\\operatorname {Riem} (u,v)=-\\\\operatorname {Riem} (v,u)',\n",
       " '\\\\langle \\\\operatorname {Riem} (u,v)w,z\\\\rangle =-\\\\langle \\\\operatorname {Riem} (u,v)z,w\\\\rangle ',\n",
       " '\\\\langle \\\\operatorname {Riem} (u,v)w,z\\\\rangle =\\\\langle \\\\operatorname {Riem} (w,z)u,v\\\\rangle ',\n",
       " '\\\\operatorname {Riem} (u,v)w+\\\\operatorname {Riem} (v,w)u+\\\\operatorname {Riem} (w,u)v=0',\n",
       " '(\\\\nabla _{u}\\\\operatorname {Riem} )(v,w)+(\\\\nabla _{v}\\\\operatorname {Riem} )(w,u)+(\\\\nabla _{w}\\\\operatorname {Riem} )(u,v)=0',\n",
       " '\\\\operatorname {Riem} _{(\\\\rho \\\\sigma )\\\\mu \\\\nu }=R_{\\\\rho \\\\sigma (\\\\mu \\\\nu )}=0',\n",
       " '\\\\operatorname {Riem} _{\\\\rho \\\\sigma \\\\mu \\\\nu }=\\\\operatorname {Riem} _{\\\\mu \\\\nu \\\\rho \\\\sigma }',\n",
       " '\\\\operatorname {Riem} _{\\\\rho [\\\\sigma \\\\mu \\\\nu ]}=0',\n",
       " '\\\\operatorname {Riem} _{\\\\rho \\\\sigma [\\\\mu \\\\nu ;\\\\tau ]}=0',\n",
       " '[\\\\mu \\\\nu \\\\rho ]',\n",
       " '(\\\\mu \\\\nu )',\n",
       " '{\\\\frac {1}{12}}n^{2}(n^{2}-1)',\n",
       " '{\\\\tfrac {1}{2}}n(n+1)',\n",
       " '{\\\\frac {1}{2}}(n-3){\\\\binom {n+2}{3}}\\\\qquad (n\\\\geq 3)',\n",
       " '(\\\\nabla _{\\\\mu }\\\\nabla _{\\\\nu }-\\\\nabla _{\\\\nu }\\\\nabla _{\\\\mu })X^{\\\\rho }=\\\\operatorname {Riem} ^{\\\\rho }{}_{\\\\sigma \\\\mu \\\\nu }X^{\\\\sigma }',\n",
       " '(\\\\nabla _{\\\\mu }\\\\nabla _{\\\\nu }-\\\\nabla _{\\\\nu }\\\\nabla _{\\\\mu })\\\\alpha _{\\\\sigma }=-\\\\operatorname {Riem} ^{\\\\rho }{}_{\\\\sigma \\\\mu \\\\nu }\\\\alpha _{\\\\rho }',\n",
       " '(\\\\nabla _{\\\\mu }\\\\nabla _{\\\\nu }-\\\\nabla _{\\\\nu }\\\\nabla _{\\\\mu })T_{\\\\beta _{1}\\\\dotsi \\\\beta _{s}}^{\\\\alpha _{1}\\\\dotsi \\\\alpha _{r}}=\\\\operatorname {Riem} ^{\\\\alpha _{1}}{}_{\\\\rho \\\\mu \\\\nu }T_{\\\\beta _{1}\\\\dotsi \\\\beta _{s}}^{\\\\rho \\\\alpha _{2}\\\\cdots \\\\alpha _{r}}+\\\\dotsb +\\\\operatorname {Riem} ^{\\\\alpha _{r}}{}_{\\\\rho \\\\mu \\\\nu }T_{\\\\beta _{1}\\\\dotsi \\\\beta _{s}}^{\\\\alpha _{1}\\\\cdots \\\\alpha _{r-1}\\\\rho }-\\\\operatorname {Riem} ^{\\\\sigma }{}_{\\\\beta _{1}\\\\mu \\\\nu }T_{\\\\sigma \\\\beta _{2}\\\\dotsi \\\\beta _{s}}^{\\\\alpha _{1}\\\\cdots \\\\alpha _{r}}-\\\\cdots -\\\\operatorname {Riem} ^{\\\\sigma }{}_{\\\\beta _{s}\\\\mu \\\\nu }T_{\\\\beta _{1}\\\\cdots \\\\beta _{s-1}\\\\sigma }^{\\\\alpha _{1}\\\\dotsi \\\\alpha _{r}}',\n",
       " '\\\\operatorname {Riem} _{abcd}^{}=K(g_{ac}g_{db}-g_{ad}g_{cb})',\n",
       " 'K={\\\\frac {1}{2}}\\\\operatorname {tr} \\\\operatorname {Ric} ',\n",
       " '\\\\operatorname {Riem} _{abcd}=F_{ac}g_{bd}-F_{ad}g_{bc}+F_{bd}g_{ac}-F_{bc}g_{ad}',\n",
       " 'F_{ab}=\\\\operatorname {Ric} _{ab}-{\\\\frac {1}{4}}(\\\\operatorname {tr} \\\\operatorname {Ric} )g_{ab}',\n",
       " \"(\\\\iota \\\\iota ',\\\\iota ''\\\\iota ''')\"]"
      ]
     },
     "execution_count": 15,
     "metadata": {},
     "output_type": "execute_result"
    }
   ],
   "source": [
    "latex_list = latex_data['latex_anno'][0]['latex']"
   ]
  },
  {
   "cell_type": "code",
   "execution_count": 17,
   "metadata": {},
   "outputs": [
    {
     "name": "stdout",
     "output_type": "stream",
     "text": [
      "Lengths of unique contexts : 289\n",
      "['u,v\\\\in \\\\Gamma (\\\\mathrm {T} M)', '\\\\operatorname {Riem} (u,v)w=\\\\nabla _{u}\\\\nabla _{v}w-\\\\nabla _{v}\\\\nabla _{u}w-\\\\nabla _{[u,v]}w', '{\\\\operatorname {Riem} ^{\\\\rho }}_{\\\\sigma \\\\mu \\\\nu }=\\\\partial _{\\\\mu }\\\\Gamma _{\\\\nu \\\\sigma }^{\\\\rho }-\\\\partial _{\\\\nu }\\\\Gamma _{\\\\mu \\\\sigma }^{\\\\rho }+\\\\Gamma _{\\\\mu \\\\lambda }^{\\\\rho }\\\\Gamma _{\\\\nu \\\\sigma }^{\\\\lambda }-\\\\Gamma _{\\\\nu \\\\lambda }^{\\\\rho }\\\\Gamma _{\\\\mu \\\\sigma }^{\\\\lambda }', '\\\\operatorname {Riem} (u,v)=-\\\\operatorname {Riem} (v,u)', '\\\\langle \\\\operatorname {Riem} (u,v)w,z\\\\rangle =-\\\\langle \\\\operatorname {Riem} (u,v)z,w\\\\rangle ', '\\\\langle \\\\operatorname {Riem} (u,v)w,z\\\\rangle =\\\\langle \\\\operatorname {Riem} (w,z)u,v\\\\rangle ', '\\\\operatorname {Riem} (u,v)w+\\\\operatorname {Riem} (v,w)u+\\\\operatorname {Riem} (w,u)v=0', '(\\\\nabla _{u}\\\\operatorname {Riem} )(v,w)+(\\\\nabla _{v}\\\\operatorname {Riem} )(w,u)+(\\\\nabla _{w}\\\\operatorname {Riem} )(u,v)=0', '\\\\operatorname {Riem} _{(\\\\rho \\\\sigma )\\\\mu \\\\nu }=R_{\\\\rho \\\\sigma (\\\\mu \\\\nu )}=0', '\\\\operatorname {Riem} _{\\\\rho \\\\sigma \\\\mu \\\\nu }=\\\\operatorname {Riem} _{\\\\mu \\\\nu \\\\rho \\\\sigma }', '\\\\operatorname {Riem} _{\\\\rho [\\\\sigma \\\\mu \\\\nu ]}=0', '\\\\operatorname {Riem} _{\\\\rho \\\\sigma [\\\\mu \\\\nu ;\\\\tau ]}=0', '[\\\\mu \\\\nu \\\\rho ]', '(\\\\mu \\\\nu )', '{\\\\frac {1}{12}}n^{2}(n^{2}-1)', '{\\\\tfrac {1}{2}}n(n+1)', '{\\\\frac {1}{2}}(n-3){\\\\binom {n+2}{3}}\\\\qquad (n\\\\geq 3)', '(\\\\nabla _{\\\\mu }\\\\nabla _{\\\\nu }-\\\\nabla _{\\\\nu }\\\\nabla _{\\\\mu })X^{\\\\rho }=\\\\operatorname {Riem} ^{\\\\rho }{}_{\\\\sigma \\\\mu \\\\nu }X^{\\\\sigma }', '(\\\\nabla _{\\\\mu }\\\\nabla _{\\\\nu }-\\\\nabla _{\\\\nu }\\\\nabla _{\\\\mu })\\\\alpha _{\\\\sigma }=-\\\\operatorname {Riem} ^{\\\\rho }{}_{\\\\sigma \\\\mu \\\\nu }\\\\alpha _{\\\\rho }', '(\\\\nabla _{\\\\mu }\\\\nabla _{\\\\nu }-\\\\nabla _{\\\\nu }\\\\nabla _{\\\\mu })T_{\\\\beta _{1}\\\\dotsi \\\\beta _{s}}^{\\\\alpha _{1}\\\\dotsi \\\\alpha _{r}}=\\\\operatorname {Riem} ^{\\\\alpha _{1}}{}_{\\\\rho \\\\mu \\\\nu }T_{\\\\beta _{1}\\\\dotsi \\\\beta _{s}}^{\\\\rho \\\\alpha _{2}\\\\cdots \\\\alpha _{r}}+\\\\dotsb +\\\\operatorname {Riem} ^{\\\\alpha _{r}}{}_{\\\\rho \\\\mu \\\\nu }T_{\\\\beta _{1}\\\\dotsi \\\\beta _{s}}^{\\\\alpha _{1}\\\\cdots \\\\alpha _{r-1}\\\\rho }-\\\\operatorname {Riem} ^{\\\\sigma }{}_{\\\\beta _{1}\\\\mu \\\\nu }T_{\\\\sigma \\\\beta _{2}\\\\dotsi \\\\beta _{s}}^{\\\\alpha _{1}\\\\cdots \\\\alpha _{r}}-\\\\cdots -\\\\operatorname {Riem} ^{\\\\sigma }{}_{\\\\beta _{s}\\\\mu \\\\nu }T_{\\\\beta _{1}\\\\cdots \\\\beta _{s-1}\\\\sigma }^{\\\\alpha _{1}\\\\dotsi \\\\alpha _{r}}', '\\\\operatorname {Riem} _{abcd}^{}=K(g_{ac}g_{db}-g_{ad}g_{cb})', 'K={\\\\frac {1}{2}}\\\\operatorname {tr} \\\\operatorname {Ric} ', '\\\\operatorname {Riem} _{abcd}=F_{ac}g_{bd}-F_{ad}g_{bc}+F_{bd}g_{ac}-F_{bc}g_{ad}', 'F_{ab}=\\\\operatorname {Ric} _{ab}-{\\\\frac {1}{4}}(\\\\operatorname {tr} \\\\operatorname {Ric} )g_{ab}', \"(\\\\iota \\\\iota ',\\\\iota ''\\\\iota ''')\", 'a+b=c', 'a=c-b,b=c-a', 'a+b=0', 'b', '-a', 'a-b=0', '-b', '-a', 'a-b', 'a+(-b)', 'a\\\\times b=c', 'a=c\\\\div b,b=c\\\\div a', 'a\\\\times b=1', 'b', '{1 \\\\over a}', '\\\\scriptstyle \\\\mathrm {distance\\\\ in\\\\ parsecs} ={\\\\frac {1000}{\\\\mathrm {parallax\\\\ in\\\\ milliarcseconds} }}', '\\\\phi \\\\colon {\\\\mathcal {A}}\\\\to \\\\mathbb {C} ', '\\\\beta \\\\in \\\\mathbb {R} ^{+}', '\\\\alpha \\\\colon (\\\\mathbb {R} ,+)\\\\to \\\\operatorname {Aut} ({\\\\mathcal {A}})', 't\\\\mapsto \\\\alpha _{t}', 'A,B\\\\in {\\\\mathcal {A}}', 'F_{AB}\\\\colon \\\\mathbb {R} +\\\\mathrm {i} [0,\\\\beta ]\\\\to \\\\mathbb {C} ', 'F_{AB}', 'F_{AB}\\\\upharpoonright \\\\left(\\\\mathbb {R} +\\\\mathrm {i} (0,\\\\beta )\\\\right)', 'F_{AB}(t)=\\\\phi (A\\\\alpha _{t}B)\\\\qquad \\\\forall t\\\\in \\\\mathbb {R} ', 'F_{AB}(t+\\\\mathrm {i} \\\\beta )=\\\\phi ((\\\\alpha _{t}B)A)\\\\qquad \\\\forall t\\\\in \\\\mathbb {R} ', '+\\\\mathrm {i} \\\\beta ', 'F_{AB}', '\\\\phi \\\\circ \\\\alpha _{t}=\\\\phi \\\\qquad \\\\forall t\\\\in \\\\mathbb {R} ', 'V=\\\\mathbb {C} ^{N}', 'N\\\\times N', '\\\\beta \\\\in \\\\mathbb {R} ^{+}', 'N\\\\times N', '\\\\operatorname {B} (V,V)=\\\\operatorname {Mat} (n,n;\\\\mathbb {C} )', '\\\\alpha _{t}\\\\colon A\\\\mapsto \\\\exp(\\\\mathrm {i} tH)A\\\\exp(-\\\\mathrm {i} tH)', '\\\\alpha \\\\colon (\\\\mathbb {R} ,+)\\\\to \\\\operatorname {Aut} (\\\\operatorname {Mat} (n,n;\\\\mathbb {C} ))\\\\cong \\\\operatorname {U} (n)', '\\\\alpha \\\\colon t\\\\mapsto \\\\alpha _{t}', 'M\\\\in \\\\operatorname {Mat} (n,n;\\\\mathbb {C} )', '\\\\omega (A;\\\\beta )={\\\\frac {\\\\operatorname {tr} \\\\left(\\\\exp(-\\\\beta H)A\\\\right)}{\\\\operatorname {tr} \\\\exp(-\\\\beta H)}}', 'F_{AB}\\\\colon \\\\mathbb {R} +\\\\mathrm {i} [0,\\\\beta ]\\\\to \\\\mathbb {C} ', 'F_{AB}(z)=\\\\omega (A\\\\exp(\\\\mathrm {i} zH)B;\\\\beta )', 'F_{AB}(-)', '\\\\omega (-;\\\\beta )', 'z\\\\in \\\\mathbb {R} +\\\\mathrm {i} \\\\beta ', '{\\\\begin{aligned}\\\\left(\\\\operatorname {tr} \\\\exp(-\\\\beta H)\\\\right)F_{AB}(t+\\\\mathrm {i} \\\\beta )&=\\\\operatorname {tr} \\\\left(\\\\exp(-\\\\beta H)A\\\\exp(\\\\mathrm {i} (t+\\\\mathrm {i} \\\\beta )H)B\\\\exp(-\\\\mathrm {i} (t+\\\\mathrm {i} \\\\beta )H)\\\\right)\\\\\\\\&=\\\\operatorname {tr} \\\\left(\\\\exp(\\\\mathrm {i} (t+\\\\mathrm {i} \\\\beta )H)B\\\\exp(-\\\\mathrm {i} (t+\\\\mathrm {i} \\\\beta )H)\\\\exp(-\\\\beta H)A\\\\right)\\\\\\\\&=\\\\operatorname {tr} \\\\left(\\\\exp(-\\\\beta H)\\\\exp(\\\\mathrm {i} tH)B\\\\exp(-\\\\mathrm {i} tH)A\\\\right)\\\\end{aligned}}', 'H\\\\colon D\\\\to V', '\\\\exp(\\\\mathrm {i} tH)\\\\colon V\\\\to V', '\\\\operatorname {B} (V,V)', '\\\\alpha _{t}\\\\colon A\\\\mapsto \\\\exp(\\\\mathrm {i} tH)A\\\\exp(-\\\\mathrm {i} tH)', '\\\\exp(-\\\\beta H)', '\\\\phi _{H}\\\\colon A\\\\mapsto {\\\\frac {\\\\operatorname {tr} (\\\\exp(-\\\\beta H)A)}{\\\\operatorname {tr} \\\\exp(-\\\\beta H)}}', 'PV=C\\\\times {\\\\frac {1}{1+r}}', 'PV', '{\\\\frac {1}{1+r}}', 'PV={\\\\frac {C}{(1+r)^{t}}}=\\\\left[{\\\\frac {C}{1+r}}\\\\right]^{t}', 'PV={\\\\frac {C}{1+d}}', 'E=eV=mv^{2}/2', 'E_{n}={\\\\frac {E_{1}}{n^{2}}}={\\\\frac {-13.6{\\\\text{ eV}}}{n^{2}}},\\\\quad n=1,2,3,\\\\ldots ', '\\\\mathbf {L} =n\\\\cdot \\\\hbar =n\\\\cdot {h \\\\over 2\\\\pi }', 'n=n_{r}+\\\\ell +1\\\\,', '{\\\\frac {(x-h)^{2}}{a^{2}}}+{\\\\frac {(y-k)^{2}}{b^{2}}}=1;\\\\,\\\\!', 'b=a{\\\\sqrt {1-e^{2}}}\\\\,\\\\!', '{{AB}}', '{{CD}}', '{{OC}}^{2}={{CE}}^{2}+{{OE}}^{2}', '{{OC}}={{OB}}={{AO}}', '{{OB}}={{OE}}+{{EB}}', '{{CE}}^{2}={{OC}}^{2}-{{OE}}^{2}', '{{CE}}^{2}={{AO}}^{2}-{{OE}}^{2}', '{{AO}}^{2}-{{OE}}^{2}=\\\\left({{AO}}-{{OE}}\\\\right)\\\\left({{AO}}+{{OE}}\\\\right)', '{{AO}}^{2}-{{OE}}^{2}=\\\\left({{EB}}\\\\right)\\\\left({{AE}}\\\\right)', '\\\\left({{CE}}\\\\right)\\\\left({{CE}}\\\\right)=\\\\left({{EB}}\\\\right)\\\\left({{AE}}\\\\right)', '\\\\left({{CE}}\\\\right)\\\\left({{ED}}\\\\right)=\\\\left({{EB}}\\\\right)\\\\left({{AE}}\\\\right)', '{{1} \\\\over {2}}', '{\\\\sqrt {3}}', '{{\\\\sqrt {2}} \\\\over {2}}', '{\\\\sqrt {2}}', '{\\\\sqrt {{5+2{\\\\sqrt {5}}} \\\\over {10+2{\\\\sqrt {5}}}}}', '{{2{\\\\sqrt {5}}} \\\\over {\\\\sqrt {10+2{\\\\sqrt {5}}}}}', '{{\\\\sqrt {3}} \\\\over {2}}', '{\\\\sqrt {1}}', '{\\\\sqrt {2-{\\\\sqrt {2}}}}', '{{{\\\\sqrt {6}}-{\\\\sqrt {2}}} \\\\over {2}}', '\\\\operatorname {ad} \\\\colon {\\\\mathfrak {g}}\\\\to \\\\operatorname {GL} ({\\\\mathfrak {g}};k)', 'B\\\\colon {\\\\mathfrak {g}}\\\\times {\\\\mathfrak {g}}\\\\to K', 'B(a,b)=\\\\operatorname {tr} \\\\left(\\\\operatorname {ad} (a)\\\\operatorname {ad} (b)\\\\right)', '\\\\operatorname {ad} \\\\colon {\\\\mathfrak {g}}\\\\to \\\\operatorname {End} ({\\\\mathfrak {g}};K)', '\\\\operatorname {ad} (x)\\\\colon y\\\\mapsto [x,y\\\\}', 'B\\\\colon {\\\\mathfrak {g}}\\\\times {\\\\mathfrak {g}}\\\\to K', 'B(a,b)=\\\\operatorname {str} \\\\left(\\\\operatorname {ad} (a)\\\\operatorname {ad} (b)\\\\right)', '[x_{i},x_{j}]=f_{ij}{}^{k}x_{k}', 'B(x_{i},x_{j})=B_{ij}=\\\\sum _{k}\\\\sum _{l}f_{ik}{}^{l}f_{jl}{}^{k}', '\\\\operatorname {tr} (XY)=\\\\operatorname {tr} (YX)', 'B([x,y],z)=B(x,[y,z])', 'B({\\\\mathfrak {g}}_{0},{\\\\mathfrak {g}}_{1})=0', 'B(x,y)=(-)^{\\\\deg x\\\\deg y}B(y,x)\\\\qquad \\\\forall x,y\\\\in {\\\\mathfrak {g}}_{0}\\\\cup {\\\\mathfrak {g}}_{1}', 'B([x,y\\\\},z)=B(x,[y,z\\\\})\\\\qquad \\\\forall x,y,z\\\\in {\\\\mathfrak {g}}', '{\\\\mathfrak {sl}}(n|n)', '{\\\\mathfrak {osp}}(4|2;\\\\alpha )', '{\\\\mathfrak {osp}}(2n+2|2n)', \"{\\\\mathfrak {g}}'\", \"{\\\\mathfrak {g}}\\\\oplus {\\\\mathfrak {g}}'\", \"B_{{\\\\mathfrak {g}}\\\\oplus {\\\\mathfrak {g}}'}(x\\\\oplus x',y\\\\oplus y')=B_{\\\\mathfrak {g}}(x,y)+B_{\\\\mathfrak {h}}(x',y')\\\\qquad (x,y\\\\in {\\\\mathfrak {g}},\\\\;x',y'\\\\in {\\\\mathfrak {g}}')\", '\\\\operatorname {\\\\mathfrak {gl}} (n;K)', 'B_{{\\\\mathfrak {gl}}(n)}(X,Y)=2n\\\\operatorname {tr} (XY)-2\\\\operatorname {tr} (X)\\\\operatorname {tr} (Y)', '\\\\operatorname {\\\\mathfrak {sl}} (n;K)', 'B_{{\\\\mathfrak {sl}}(n)}(X,Y)=2n\\\\operatorname {tr} (XY)', '(e_{ij})_{1\\\\leq i,j\\\\leq n}', '[M,e_{ij}]_{ab}=\\\\delta _{jb}M_{ai}-\\\\delta _{ia}M_{jb}', '[M,[N,e_{ij}]]+[e_{ij},[M,N]]+[N,[e_{ij},M]]=0', 'c_{ij}=([M,[N,e_{ij}])_{ij}', 'B(M,N)=\\\\sum _{ij}c_{ij}', 'c_{ij}=\\\\left(\\\\sum _{a=1}^{n}M_{ia}N_{ai}\\\\right)-M_{ii}N_{jj}-N_{ii}M_{jj}+\\\\left(\\\\sum _{a=1}^{n}N_{ja}M_{aj}\\\\right)', 'B(M,N)=\\\\sum _{i,j=1}^{n}\\\\left(\\\\left(\\\\sum _{a=1}^{n}M_{ia}N_{ai}\\\\right)-M_{ii}N_{jj}-N_{ii}M_{jj}+\\\\left(\\\\sum _{a=1}^{n}N_{ja}M_{aj}\\\\right)\\\\right)=2n\\\\operatorname {tr} (MN)-2\\\\operatorname {tr} M\\\\operatorname {tr} N', '{\\\\mathfrak {sl}}(n;K)\\\\oplus K\\\\cong {\\\\mathfrak {gl}}(n;K)', 'f\\\\colon \\\\mathbb {S} ^{3}\\\\to G', '\\\\operatorname {cl} X', 'S\\\\cup \\\\{\\\\bullet \\\\}', '{\\\\operatorname {Ord} }+1', 'R\\\\subset (S\\\\cup \\\\{\\\\bullet \\\\})^{\\\\times ({\\\\operatorname {Ord} }+1)}', 'r_{\\\\operatorname {Ord} }\\\\in S', 'r_{\\\\alpha }\\\\not \\\\in S\\\\implies r_{\\\\beta }\\\\not \\\\in S\\\\forall \\\\alpha <\\\\beta <\\\\operatorname {Ord} ', '\\\\alpha <\\\\operatorname {Ord} ', '\\\\min\\\\{\\\\beta \\\\colon r_{\\\\beta }\\\\not \\\\in S\\\\}=\\\\alpha ', '{\\\\operatorname {Ord} }+1', '(t_{\\\\alpha })_{\\\\alpha <\\\\operatorname {Ord} }\\\\subset T\\\\cup \\\\{\\\\bullet \\\\}', 't_{\\\\operatorname {Ord} }\\\\in S', '(t_{\\\\alpha })_{\\\\alpha \\\\leq \\\\operatorname {Ord} }\\\\in R', 't_{\\\\operatorname {Ord} }\\\\in T', 'S\\\\cup \\\\{\\\\bullet \\\\}', '{\\\\operatorname {Ord} }+1', '\\\\bigcup {\\\\mathcal {R}}', 'R\\\\in {\\\\mathcal {R}}', '\\\\operatorname {cl} _{P}T', 'T\\\\subset \\\\operatorname {cl} _{P}T\\\\in P', 'T\\\\subset U\\\\in P', '\\\\operatorname {cl} _{P}T\\\\subset U', '|X|+1', 'x_{0},x_{1},\\\\dots ,x_{|X|}\\\\in X', '(x_{0},x_{1},\\\\dots ,x_{|X|})\\\\in R\\\\iff x_{|X|}\\\\in \\\\operatorname {acc\\\\,pt} _{2}(\\\\{x_{\\\\alpha }\\\\}_{\\\\alpha <|X|})', '\\\\operatorname {acc\\\\,pt} _{2}', 'Y\\\\subset \\\\operatorname {cl} Y\\\\subset X', 'x_{0},x_{1},\\\\dots ,x_{\\\\omega }\\\\in X', '(x_{0},x_{1},\\\\dots ,x_{\\\\omega })\\\\in R\\\\iff x_{n}\\\\to x_{\\\\omega }', '\\\\{1_{G},\\\\cdot ,{}^{-1}\\\\}', 'S\\\\subset \\\\langle S\\\\rangle \\\\subset G', '{\\\\bar {L}}', 'K/{\\\\bar {L}}/L', 'X\\\\subset \\\\operatorname {cl_{trn}} X\\\\subset V', 'R\\\\subset S\\\\times S', 'S\\\\times S', '\\\\{(s,s)|s\\\\in S\\\\}\\\\subset S\\\\times S', '\\\\{(s,s)|s\\\\in S\\\\}\\\\subset R', 'R\\\\subset S\\\\times S', 'R\\\\subset \\\\operatorname {cl_{ref}} R\\\\subset S\\\\times S', 'A={\\\\frac {3{\\\\sqrt {3}}}{2}}a^{2}\\\\simeq 2.59808a^{2}', '\\\\omega \\\\in \\\\Omega ^{k+1}(M)', 'v\\\\in \\\\mathrm {T} _{x}M\\\\setminus \\\\{0\\\\}', 'v\\\\lrcorner \\\\omega _{x}\\\\neq 0\\\\in \\\\textstyle \\\\bigwedge ^{k}\\\\mathrm {T} _{x}^{*}M', '\\\\lrcorner \\\\colon \\\\mathrm {T} _{x}M\\\\times \\\\bigwedge ^{k+1}\\\\mathrm {T} ^{*}M\\\\to \\\\bigwedge ^{k}\\\\mathrm {T} ^{*}M', 'k+1\\\\leq n\\\\leq {\\\\binom {n}{k}}', '\\\\textstyle \\\\bigwedge ^{k}\\\\mathrm {T} _{x}^{*}M', '\\\\mathrm {T} _{x}M', 'n\\\\geq 6', 'n-4', '\\\\alpha \\\\in \\\\Omega ^{k-1}(M)', '\\\\exists X\\\\in \\\\operatorname {Vect} (M)\\\\colon \\\\mathrm {d} \\\\alpha =X\\\\lrcorner \\\\omega ', '\\\\Omega _{\\\\operatorname {Ham} }^{k-1}(M)', 'L=\\\\bigoplus _{i=0}^{n-1}L_{i}', 'L_{0}=\\\\Omega _{\\\\operatorname {Ham} }^{k-1}(M)', 'L_{i}=\\\\Omega ^{k-1-i}(M)\\\\qquad (i\\\\in \\\\{1,2,\\\\dotsc ,n-1\\\\}', '[\\\\alpha ]=\\\\mathrm {d} \\\\alpha \\\\qquad \\\\forall \\\\alpha \\\\in L,\\\\;\\\\deg \\\\alpha >0', '[\\\\alpha _{1},\\\\dotsc ,\\\\alpha _{p}]=(-)^{1+\\\\lceil p/2\\\\rceil }(X_{1}\\\\wedge \\\\dotsb \\\\wedge X_{p})\\\\lrcorner \\\\omega \\\\qquad (\\\\alpha _{1},\\\\dotsc ,\\\\alpha _{k}\\\\in \\\\Omega _{\\\\operatorname {Ham} }^{k-1}(M),\\\\;\\\\forall i\\\\colon \\\\mathrm {d} \\\\alpha _{i}=X_{i}\\\\lrcorner \\\\omega )', 'M=M_{1}\\\\times M_{2}', '\\\\pi _{i}\\\\colon M\\\\twoheadrightarrow M_{i}', '\\\\omega =\\\\pi _{1}^{*}\\\\omega _{1}+\\\\pi _{2}^{*}\\\\omega _{2}', 'x=(x_{1},x_{2})\\\\in M', 'v=(v_{1},v_{2})\\\\in \\\\mathrm {T} _{x}M=\\\\mathrm {T} _{x_{1}}M_{1}\\\\oplus \\\\mathrm {T} _{x_{2}}M_{2}', 'v\\\\lrcorner \\\\omega =v_{1}\\\\lrcorner \\\\omega _{1}+v_{2}\\\\lrcorner \\\\omega _{2}', 'M_{1}', '{\\\\mathfrak {g}}={\\\\mathfrak {lie}}(G)', '{\\\\mathfrak {string}}({\\\\mathfrak {g}})={\\\\mathfrak {g}}\\\\oplus \\\\mathbb {R} [1]', '[x,y,z]=\\\\mu (x,y,z)\\\\in \\\\mathbb {R} [1]\\\\qquad \\\\forall x,y,z\\\\in {\\\\mathfrak {g}}', 'L(G)=\\\\Omega _{\\\\operatorname {Ham} }^{1}(G)\\\\oplus \\\\Omega ^{0}(G)[1]', 'L(G)^{G}=\\\\Omega _{\\\\operatorname {Ham} }^{1}(G)^{G}\\\\oplus \\\\Omega ^{0}(G)^{G}[1]', '\\\\Omega _{\\\\operatorname {Ham} }^{1}(G)^{G}\\\\cong {\\\\mathfrak {g}}^{*}\\\\cong {\\\\mathfrak {g}}', '\\\\Omega ^{0}(G)^{G}\\\\cong \\\\mathbb {R} ', '\\\\omega _{1},\\\\omega _{2},\\\\omega _{3}', '\\\\omega _{1}\\\\wedge \\\\omega _{1}+\\\\omega _{2}\\\\wedge \\\\omega _{2}+\\\\omega _{3}\\\\wedge \\\\omega _{3}', '\\\\bigwedge ^{k}\\\\mathrm {T} ^{*}M', '\\\\theta \\\\in \\\\Omega ^{k}\\\\left(\\\\bigwedge ^{k}\\\\mathrm {T} _{x}^{*}M\\\\right)', '\\\\theta |_{(x,p)}=p_{i_{1}\\\\dotso i_{k}}\\\\,\\\\mathrm {d} x^{i_{1}}\\\\wedge \\\\dotsb \\\\wedge \\\\mathrm {d} x^{i_{k}}\\\\qquad \\\\left(x\\\\in M,\\\\;p\\\\in \\\\bigwedge ^{k}\\\\mathrm {T} _{x}^{*}M\\\\right)', '\\\\omega =\\\\mathrm {d} \\\\theta \\\\in \\\\Omega ^{k+1}\\\\left(\\\\bigwedge ^{k}\\\\mathrm {T} _{x}^{*}M\\\\right)', '\\\\omega |_{(x,p)}=\\\\mathrm {d} p_{i_{1}\\\\dotso i_{k}}\\\\,\\\\mathrm {d} x^{i_{1}}\\\\wedge \\\\dotsb \\\\wedge \\\\mathrm {d} x^{i_{k}}\\\\qquad \\\\left(x\\\\in M,\\\\;p\\\\in \\\\bigwedge ^{k}\\\\mathrm {T} _{x}^{*}M\\\\right)', 'n+\\\\textstyle {\\\\binom {n}{k}}', '\\\\textstyle \\\\bigwedge ^{k}\\\\mathrm {T} ^{*}M', '\\\\omega \\\\in \\\\Omega ^{k}(\\\\Sigma )', '\\\\mathrm {T} \\\\Sigma \\\\otimes _{M\\\\times \\\\Sigma }\\\\mathrm {T} ^{*}M', '(x^{\\\\mu },\\\\phi ^{i},\\\\pi _{i}^{\\\\mu })\\\\qquad (x\\\\in \\\\Sigma ,\\\\;\\\\phi \\\\in M,\\\\;\\\\pi \\\\in \\\\mathrm {T} _{x}\\\\Sigma \\\\otimes \\\\mathrm {T} _{x}^{*}M)', '\\\\theta =\\\\pi _{i}^{\\\\mu }\\\\mathrm {d} \\\\phi ^{i}\\\\wedge {\\\\frac {\\\\partial }{\\\\partial x^{\\\\mu }}}\\\\lrcorner \\\\omega ', '\\\\mathrm {d} \\\\theta =\\\\mathrm {d} \\\\pi _{i}^{\\\\mu }\\\\mathrm {d} \\\\phi ^{i}\\\\wedge {\\\\frac {\\\\partial }{\\\\partial x^{\\\\mu }}}\\\\lrcorner \\\\omega ', 'x\\\\in \\\\Sigma ', 'v^{\\\\mu }{\\\\frac {\\\\partial }{\\\\partial x^{\\\\mu }}}\\\\in \\\\mathrm {T} _{x}\\\\Sigma ', '\\\\chi ^{i}{\\\\frac {\\\\partial }{\\\\partial \\\\phi ^{i}}}\\\\in \\\\mathrm {T} _{\\\\phi }M', '\\\\nu _{\\\\mu }^{i}\\\\,\\\\mathrm {d} \\\\pi _{i}^{\\\\mu }\\\\in \\\\mathrm {T} _{\\\\phi }M\\\\otimes \\\\mathrm {T} _{x}^{*}N', '(v,\\\\chi ,\\\\nu )\\\\lrcorner \\\\mathrm {d} \\\\theta =\\\\mathrm {d} \\\\pi _{i}^{\\\\mu }\\\\wedge \\\\mathrm {d} \\\\phi ^{i}\\\\wedge v^{\\\\nu }\\\\psi _{\\\\nu \\\\mu }-\\\\chi ^{i}\\\\mathrm {d} \\\\pi _{i}^{\\\\mu }\\\\wedge \\\\psi _{\\\\mu }+\\\\nu _{i}^{\\\\mu }\\\\mathrm {d} \\\\phi ^{i}\\\\wedge \\\\psi _{\\\\mu }', '\\\\psi _{\\\\mu }={\\\\frac {\\\\partial }{\\\\partial x^{\\\\nu }}}\\\\lrcorner \\\\omega ', '\\\\psi _{\\\\mu \\\\nu }={\\\\frac {\\\\partial }{\\\\partial x^{\\\\mu }}}\\\\lrcorner {\\\\frac {\\\\partial }{\\\\partial x^{\\\\nu }}}\\\\lrcorner \\\\omega ', '\\\\psi _{\\\\nu \\\\mu }\\\\neq 0', '\\\\pi _{i}^{\\\\mu }', '{\\\\mathcal {L}}={{\\\\psi }}(i\\\\gamma ^{\\\\mu }\\\\partial _{\\\\mu }-m)\\\\psi -{\\\\frac {1}{2}}g(\\\\psi \\\\gamma ^{\\\\mu }\\\\psi )^{2}', '{\\\\begin{bmatrix}{\\\\nu _{e}}\\\\\\\\{\\\\nu _{\\\\mu }}\\\\\\\\{\\\\nu _{\\\\tau }}\\\\end{bmatrix}}={\\\\begin{bmatrix}U_{e1}&U_{e2}&U_{e3}\\\\\\\\U_{\\\\mu 1}&U_{\\\\mu 2}&U_{\\\\mu 3}\\\\\\\\U_{\\\\tau 1}&U_{\\\\tau 2}&U_{\\\\tau 3}\\\\end{bmatrix}}{\\\\begin{bmatrix}\\\\nu _{1}\\\\\\\\\\\\nu _{2}\\\\\\\\\\\\nu _{3}\\\\end{bmatrix}}\\\\ ', 'O\\\\left(\\\\exp \\\\left({\\\\sqrt {2\\\\ln(p\\\\ln(\\\\ln(p))}}\\\\right)\\\\right)', '\\\\lim _{n\\\\to \\\\infty }B_{n}^{{1} \\\\over {n}}=e^{\\\\beta }', '\\\\;\\\\;\\\\;=e^{{\\\\pi ^{2}} \\\\over {12\\\\ln(2)}}', '\\\\;\\\\;\\\\;=3.275823...(OEISA086702)', '\\\\beta ={{\\\\pi ^{2}} \\\\over {12\\\\ln(2)}}', '\\\\;\\\\;\\\\;=1.1865691104....', '\\\\beta ^{-1}={{12\\\\ln(2)} \\\\over {\\\\pi ^{2}}}', '\\\\;\\\\;\\\\;=0.8427659....(OEISA089729)', '', 'L={{1} \\\\over {2\\\\log _{10}(e^{\\\\beta })}}', '\\\\qquad e^{\\\\beta }', '\\\\;\\\\;\\\\;={{\\\\ln 10} \\\\over {2\\\\beta }}', '\\\\therefore \\\\beta ={{\\\\ln 10} \\\\over {2L}}', '', '{\\\\sqrt {152}}=2{\\\\sqrt {38}}', '{\\\\sqrt[{3}]{152}}=2{\\\\sqrt[{3}]{19}}', '(n+1)(n+2)/2', '{\\\\mathfrak {gal}}(n+1)', 'J_{ij}=-J_{ji}', '[H,P_{i}]=[P_{i},P_{j}]=[J_{ij},H]=[C_{i},C_{j}]=[C_{i},P_{j}]=0', '[J_{ij},J_{kl}]=i[\\\\delta _{ik}J_{jl}-\\\\delta _{il}J_{jk}-\\\\delta _{jk}J_{il}+\\\\delta _{jl}J_{ik}]', '\\\\dim \\\\operatorname {H} ^{2}({\\\\mathfrak {gal}}(3+1))=1', '[H,P_{i}]=[P_{i},P_{j}]=[J_{ij},H]=[C_{i},C_{j}]=0', '[J_{ij},J_{kl}]=i[\\\\delta _{ik}J_{jl}-\\\\delta _{il}J_{jk}-\\\\delta _{jk}J_{il}+\\\\delta _{jl}J_{ik}]', '[C_{i},P_{j}]=iM\\\\delta _{ij}', '{\\\\mathfrak {gal}}(3+1)', 'ME-P^{2}/2', 'W_{ij}=MJ_{ij}+P_{i}C_{j}-P_{j}C_{i}', 'W_{ijk}=P_{i}J_{jk}+P_{j}J_{ki}+P_{k}J_{ij}', 'W_{ij}', 'W_{ijk}', 'mE_{0}', 'w_{ij}', 'w_{ijk}', 'E_{0}\\\\geq 0', '(E,\\\\mathbf {P} )', 'mE=mE_{0}+P^{2}/2', '\\\\operatorname {Spin} (3)=\\\\operatorname {SU} (2)', 's\\\\in \\\\{0,1/2,1,3/2,\\\\dots \\\\}', 'mE-\\\\mathbf {p} ^{2}/2=-\\\\mathbf {p} ^{2}/2\\\\leq 0', '(E,\\\\mathbf {P} )', '\\\\mathbf {p} ^{2}=0', '\\\\operatorname {ISO} (n)\\\\cong \\\\mathbb {R} ^{n}\\\\rtimes \\\\operatorname {SO} (n)', '\\\\mathbf {p} ^{2}>0', '\\\\operatorname {ISO} (n-1)', '\\\\mathbf p', '\\\\operatorname {ISO} (n-1)', 'C\\\\mapsto x', 'H\\\\mapsto p', 'E=mc^{2}', '\\\\mathbf {G} ={\\\\frac {8\\\\pi G}{c^{4}}}\\\\mathbf {T} ', '{\\\\tfrac {p^{n}-1}{p-1}}']\n"
     ]
    }
   ],
   "source": [
    "contexts = list()\n",
    "for v in latex_data['latex_anno']:\n",
    "    for latex in v['latex']:\n",
    "        contexts.append(latex)\n",
    "\n",
    "print(f\"Lengths of unique contexts : {len(contexts)}\")\n",
    "print(contexts)"
   ]
  },
  {
   "cell_type": "code",
   "execution_count": 11,
   "metadata": {},
   "outputs": [
    {
     "ename": "AttributeError",
     "evalue": "'list' object has no attribute 'values'",
     "output_type": "error",
     "traceback": [
      "\u001b[0;31m---------------------------------------------------------------------------\u001b[0m",
      "\u001b[0;31mAttributeError\u001b[0m                            Traceback (most recent call last)",
      "\u001b[1;32m/Users/kim_yoonhye/Desktop/GOME/search/Search/elasticsearch.ipynb 셀 8\u001b[0m in \u001b[0;36m<cell line: 1>\u001b[0;34m()\u001b[0m\n\u001b[1;32m      <a href='vscode-notebook-cell:/Users/kim_yoonhye/Desktop/GOME/search/Search/elasticsearch.ipynb#ch0000007?line=0'>1</a>\u001b[0m contexts \u001b[39m=\u001b[39m \u001b[39mlist\u001b[39m(\n\u001b[0;32m----> <a href='vscode-notebook-cell:/Users/kim_yoonhye/Desktop/GOME/search/Search/elasticsearch.ipynb#ch0000007?line=1'>2</a>\u001b[0m     \u001b[39mdict\u001b[39m\u001b[39m.\u001b[39mfromkeys([v[\u001b[39m\"\u001b[39m\u001b[39mtext\u001b[39m\u001b[39m\"\u001b[39m] \u001b[39mfor\u001b[39;00m v \u001b[39min\u001b[39;00m latex_data[\u001b[39m'\u001b[39;49m\u001b[39mlatex_anno\u001b[39;49m\u001b[39m'\u001b[39;49m]\u001b[39m.\u001b[39;49mvalues()])\n\u001b[1;32m      <a href='vscode-notebook-cell:/Users/kim_yoonhye/Desktop/GOME/search/Search/elasticsearch.ipynb#ch0000007?line=2'>3</a>\u001b[0m )  \u001b[39m# set 은 매번 순서가 바뀌므로\u001b[39;00m\n\u001b[1;32m      <a href='vscode-notebook-cell:/Users/kim_yoonhye/Desktop/GOME/search/Search/elasticsearch.ipynb#ch0000007?line=3'>4</a>\u001b[0m \u001b[39mprint\u001b[39m(\u001b[39mf\u001b[39m\u001b[39m\"\u001b[39m\u001b[39mLengths of unique contexts : \u001b[39m\u001b[39m{\u001b[39;00m\u001b[39mlen\u001b[39m(contexts)\u001b[39m}\u001b[39;00m\u001b[39m\"\u001b[39m)\n",
      "\u001b[0;31mAttributeError\u001b[0m: 'list' object has no attribute 'values'"
     ]
    }
   ],
   "source": [
    "contexts = list(\n",
    "    dict.fromkeys([latex for latex in v[\"latex\"] for v in latex_data[\"latex_anno\"]])\n",
    ")  # set 은 매번 순서가 바뀌므로\n",
    "print(f\"Lengths of unique contexts : {len(contexts)}\")"
   ]
  },
  {
   "cell_type": "code",
   "execution_count": 24,
   "metadata": {},
   "outputs": [
    {
     "name": "stderr",
     "output_type": "stream",
     "text": [
      "/var/folders/lp/tb5q9ks973gdt01t1w07s95m0000gn/T/ipykernel_8779/2717589634.py:3: DeprecationWarning: The 'body' parameter is deprecated and will be removed in a future version. Instead use the 'document' parameter. See https://github.com/elastic/elasticsearch-py/issues/1698 for more information\n",
      "  es.index(index=INDEX, doc_type='latex', id=idx+1, body=body)\n"
     ]
    },
    {
     "ename": "TypeError",
     "evalue": "index() got an unexpected keyword argument 'doc_type'",
     "output_type": "error",
     "traceback": [
      "\u001b[0;31m---------------------------------------------------------------------------\u001b[0m",
      "\u001b[0;31mTypeError\u001b[0m                                 Traceback (most recent call last)",
      "\u001b[1;32m/Users/kim_yoonhye/Desktop/GOME/search/Search/elasticsearch.ipynb 셀 11\u001b[0m in \u001b[0;36m<cell line: 1>\u001b[0;34m()\u001b[0m\n\u001b[1;32m      <a href='vscode-notebook-cell:/Users/kim_yoonhye/Desktop/GOME/search/Search/elasticsearch.ipynb#ch0000008?line=0'>1</a>\u001b[0m \u001b[39mfor\u001b[39;00m idx, latex \u001b[39min\u001b[39;00m \u001b[39menumerate\u001b[39m(contexts):\n\u001b[1;32m      <a href='vscode-notebook-cell:/Users/kim_yoonhye/Desktop/GOME/search/Search/elasticsearch.ipynb#ch0000008?line=1'>2</a>\u001b[0m     body \u001b[39m=\u001b[39m {\u001b[39m'\u001b[39m\u001b[39mlatex\u001b[39m\u001b[39m'\u001b[39m: latex}\n\u001b[0;32m----> <a href='vscode-notebook-cell:/Users/kim_yoonhye/Desktop/GOME/search/Search/elasticsearch.ipynb#ch0000008?line=2'>3</a>\u001b[0m     es\u001b[39m.\u001b[39;49mindex(index\u001b[39m=\u001b[39;49mINDEX, doc_type\u001b[39m=\u001b[39;49m\u001b[39m'\u001b[39;49m\u001b[39mlatex\u001b[39;49m\u001b[39m'\u001b[39;49m, \u001b[39mid\u001b[39;49m\u001b[39m=\u001b[39;49midx\u001b[39m+\u001b[39;49m\u001b[39m1\u001b[39;49m, body\u001b[39m=\u001b[39;49mbody)\n",
      "File \u001b[0;32m~/.pyenv/versions/3.8.1/envs/search/lib/python3.8/site-packages/elasticsearch/_sync/client/utils.py:414\u001b[0m, in \u001b[0;36m_rewrite_parameters.<locals>.wrapper.<locals>.wrapped\u001b[0;34m(*args, **kwargs)\u001b[0m\n\u001b[1;32m    411\u001b[0m         \u001b[39mexcept\u001b[39;00m \u001b[39mKeyError\u001b[39;00m:\n\u001b[1;32m    412\u001b[0m             \u001b[39mpass\u001b[39;00m\n\u001b[0;32m--> 414\u001b[0m \u001b[39mreturn\u001b[39;00m api(\u001b[39m*\u001b[39;49margs, \u001b[39m*\u001b[39;49m\u001b[39m*\u001b[39;49mkwargs)\n",
      "\u001b[0;31mTypeError\u001b[0m: index() got an unexpected keyword argument 'doc_type'"
     ]
    }
   ],
   "source": [
    "for idx, latex in enumerate(contexts):\n",
    "    body = {'latex': latex}\n",
    "    es.index(index=INDEX, id=idx+1, body=body)"
   ]
  },
  {
   "cell_type": "code",
   "execution_count": 31,
   "metadata": {},
   "outputs": [
    {
     "name": "stderr",
     "output_type": "stream",
     "text": [
      "/var/folders/lp/tb5q9ks973gdt01t1w07s95m0000gn/T/ipykernel_8779/3179673133.py:1: ElasticsearchWarning: Elasticsearch built-in security features are not enabled. Without authentication, your cluster could be accessible to anyone. See https://www.elastic.co/guide/en/elasticsearch/reference/7.17/security-minimal-setup.html to enable security.\n",
      "  es.get(index=INDEX, id=250)\n"
     ]
    },
    {
     "data": {
      "text/plain": [
       "ObjectApiResponse({'_index': 'search_test', '_type': '_doc', '_id': '250', '_version': 1, '_seq_no': 249, '_primary_term': 1, 'found': True, '_source': {'latex': '\\\\therefore \\\\beta ={{\\\\ln 10} \\\\over {2L}}'}})"
      ]
     },
     "execution_count": 31,
     "metadata": {},
     "output_type": "execute_result"
    }
   ],
   "source": [
    "es.get(index=INDEX, id=250)"
   ]
  },
  {
   "cell_type": "markdown",
   "metadata": {},
   "source": []
  },
  {
   "cell_type": "code",
   "execution_count": 34,
   "metadata": {},
   "outputs": [
    {
     "name": "stdout",
     "output_type": "stream",
     "text": [
      "{'took': 13, 'timed_out': False, '_shards': {'total': 1, 'successful': 1, 'skipped': 0, 'failed': 0}, 'hits': {'total': {'value': 34, 'relation': 'eq'}, 'max_score': 16.99393, 'hits': [{'_index': 'search_test', '_type': '_doc', '_id': '250', '_score': 16.99393, '_source': {'latex': '\\\\therefore \\\\beta ={{\\\\ln 10} \\\\over {2L}}'}}, {'_index': 'search_test', '_type': '_doc', '_id': '249', '_score': 11.381777, '_source': {'latex': '\\\\;\\\\;\\\\;={{\\\\ln 10} \\\\over {2\\\\beta }}'}}, {'_index': 'search_test', '_type': '_doc', '_id': '242', '_score': 10.282867, '_source': {'latex': '\\\\beta ={{\\\\pi ^{2}} \\\\over {12\\\\ln(2)}}'}}, {'_index': 'search_test', '_type': '_doc', '_id': '244', '_score': 9.809322, '_source': {'latex': '\\\\beta ^{-1}={{12\\\\ln(2)} \\\\over {\\\\pi ^{2}}}'}}, {'_index': 'search_test', '_type': '_doc', '_id': '240', '_score': 7.5217934, '_source': {'latex': '\\\\;\\\\;\\\\;=e^{{\\\\pi ^{2}} \\\\over {12\\\\ln(2)}}'}}, {'_index': 'search_test', '_type': '_doc', '_id': '247', '_score': 5.7571917, '_source': {'latex': 'L={{1} \\\\over {2\\\\log _{10}(e^{\\\\beta })}}'}}, {'_index': 'search_test', '_type': '_doc', '_id': '238', '_score': 5.5207915, '_source': {'latex': 'O\\\\left(\\\\exp \\\\left({\\\\sqrt {2\\\\ln(p\\\\ln(\\\\ln(p))}}\\\\right)\\\\right)'}}, {'_index': 'search_test', '_type': '_doc', '_id': '239', '_score': 5.0583525, '_source': {'latex': '\\\\lim _{n\\\\to \\\\infty }B_{n}^{{1} \\\\over {n}}=e^{\\\\beta }'}}, {'_index': 'search_test', '_type': '_doc', '_id': '40', '_score': 4.057561, '_source': {'latex': '{1 \\\\over a}'}}, {'_index': 'search_test', '_type': '_doc', '_id': '99', '_score': 4.057561, '_source': {'latex': '{{1} \\\\over {2}}'}}]}}\n"
     ]
    },
    {
     "name": "stderr",
     "output_type": "stream",
     "text": [
      "/var/folders/lp/tb5q9ks973gdt01t1w07s95m0000gn/T/ipykernel_8779/1388031282.py:8: DeprecationWarning: The 'body' parameter is deprecated and will be removed in a future version. Instead use individual parameters.\n",
      "  res = es.search(index=INDEX, body=body)\n",
      "/var/folders/lp/tb5q9ks973gdt01t1w07s95m0000gn/T/ipykernel_8779/1388031282.py:8: ElasticsearchWarning: Elasticsearch built-in security features are not enabled. Without authentication, your cluster could be accessible to anyone. See https://www.elastic.co/guide/en/elasticsearch/reference/7.17/security-minimal-setup.html to enable security.\n",
      "  res = es.search(index=INDEX, body=body)\n"
     ]
    }
   ],
   "source": [
    "body = {\n",
    "\t\t'query': {\n",
    "\t\t\t\t'match': {\n",
    "\t\t\t\t\t\t'latex': '\\\\therefore \\\\beta ={{\\\\ln 50} \\\\over {32L}}'\n",
    "\t\t\t\t}\n",
    "\t\t}\n",
    "}\n",
    "res = es.search(index=INDEX, body=body)\n",
    "print(res)"
   ]
  },
  {
   "cell_type": "code",
   "execution_count": 28,
   "metadata": {},
   "outputs": [
    {
     "name": "stdout",
     "output_type": "stream",
     "text": [
      "{'took': 205, 'timed_out': False, '_shards': {'total': 1, 'successful': 1, 'skipped': 0, 'failed': 0}, 'hits': {'total': {'value': 22, 'relation': 'eq'}, 'max_score': 9.095456, 'hits': [{'_index': 'search_test', '_type': '_doc', '_id': '253', '_score': 9.095456, '_source': {'latex': '{\\\\sqrt[{3}]{152}}=2{\\\\sqrt[{3}]{19}}'}}, {'_index': 'search_test', '_type': '_doc', '_id': '100', '_score': 9.047728, '_source': {'latex': '{\\\\sqrt {3}}'}}, {'_index': 'search_test', '_type': '_doc', '_id': '105', '_score': 8.026233, '_source': {'latex': '{{\\\\sqrt {3}} \\\\over {2}}'}}, {'_index': 'search_test', '_type': '_doc', '_id': '181', '_score': 6.936349, '_source': {'latex': 'A={\\\\frac {3{\\\\sqrt {3}}}{2}}a^{2}\\\\simeq 2.59808a^{2}'}}, {'_index': 'search_test', '_type': '_doc', '_id': '107', '_score': 4.9085503, '_source': {'latex': '{\\\\sqrt {2-{\\\\sqrt {2}}}}'}}, {'_index': 'search_test', '_type': '_doc', '_id': '104', '_score': 4.749742, '_source': {'latex': '{{2{\\\\sqrt {5}}} \\\\over {\\\\sqrt {10+2{\\\\sqrt {5}}}}}'}}, {'_index': 'search_test', '_type': '_doc', '_id': '252', '_score': 4.7408195, '_source': {'latex': '{\\\\sqrt {152}}=2{\\\\sqrt {38}}'}}, {'_index': 'search_test', '_type': '_doc', '_id': '103', '_score': 4.6437545, '_source': {'latex': '{\\\\sqrt {{5+2{\\\\sqrt {5}}} \\\\over {10+2{\\\\sqrt {5}}}}}'}}, {'_index': 'search_test', '_type': '_doc', '_id': '108', '_score': 4.5841727, '_source': {'latex': '{{{\\\\sqrt {6}}-{\\\\sqrt {2}}} \\\\over {2}}'}}, {'_index': 'search_test', '_type': '_doc', '_id': '17', '_score': 4.5685253, '_source': {'latex': '{\\\\frac {1}{2}}(n-3){\\\\binom {n+2}{3}}\\\\qquad (n\\\\geq 3)'}}]}}\n"
     ]
    }
   ],
   "source": [
    "print(res)"
   ]
  },
  {
   "cell_type": "code",
   "execution_count": null,
   "metadata": {},
   "outputs": [],
   "source": []
  }
 ],
 "metadata": {
  "kernelspec": {
   "display_name": "Python 3.8.1 64-bit ('search')",
   "language": "python",
   "name": "python3"
  },
  "language_info": {
   "codemirror_mode": {
    "name": "ipython",
    "version": 3
   },
   "file_extension": ".py",
   "mimetype": "text/x-python",
   "name": "python",
   "nbconvert_exporter": "python",
   "pygments_lexer": "ipython3",
   "version": "3.8.1"
  },
  "vscode": {
   "interpreter": {
    "hash": "158cfa67cb22e04d45aaf053e08c20f748d209cd8afcbc683eea0fb6444962a4"
   }
  }
 },
 "nbformat": 4,
 "nbformat_minor": 4
}
