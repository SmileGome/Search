{
 "cells": [
  {
   "cell_type": "code",
   "execution_count": 1,
   "metadata": {},
   "outputs": [],
   "source": [
    "from elasticsearch import Elasticsearch\n",
    "# from datasets import load_from_disk"
   ]
  },
  {
   "cell_type": "code",
   "execution_count": 2,
   "metadata": {},
   "outputs": [],
   "source": [
    "es = Elasticsearch('http://localhost:9200')"
   ]
  },
  {
   "cell_type": "code",
   "execution_count": 3,
   "metadata": {},
   "outputs": [
    {
     "name": "stderr",
     "output_type": "stream",
     "text": [
      "/var/folders/lp/tb5q9ks973gdt01t1w07s95m0000gn/T/ipykernel_8779/515033876.py:1: ElasticsearchWarning: Elasticsearch built-in security features are not enabled. Without authentication, your cluster could be accessible to anyone. See https://www.elastic.co/guide/en/elasticsearch/reference/7.17/security-minimal-setup.html to enable security.\n",
      "  es.info()\n"
     ]
    },
    {
     "data": {
      "text/plain": [
       "ObjectApiResponse({'name': '82365160d178', 'cluster_name': 'docker-cluster', 'cluster_uuid': 'RSL0QICXQ6uGZJ-EP_X6mA', 'version': {'number': '7.17.4', 'build_flavor': 'default', 'build_type': 'docker', 'build_hash': '79878662c54c886ae89206c685d9f1051a9d6411', 'build_date': '2022-05-18T18:04:20.964345128Z', 'build_snapshot': False, 'lucene_version': '8.11.1', 'minimum_wire_compatibility_version': '6.8.0', 'minimum_index_compatibility_version': '6.0.0-beta1'}, 'tagline': 'You Know, for Search'})"
      ]
     },
     "execution_count": 3,
     "metadata": {},
     "output_type": "execute_result"
    }
   ],
   "source": [
    "es.info()"
   ]
  },
  {
   "cell_type": "code",
   "execution_count": 5,
   "metadata": {},
   "outputs": [
    {
     "name": "stdout",
     "output_type": "stream",
     "text": [
      "{\n",
      "  \"name\" : \"82365160d178\",\n",
      "  \"cluster_name\" : \"docker-cluster\",\n",
      "  \"cluster_uuid\" : \"RSL0QICXQ6uGZJ-EP_X6mA\",\n",
      "  \"version\" : {\n",
      "    \"number\" : \"7.17.4\",\n",
      "    \"build_flavor\" : \"default\",\n",
      "    \"build_type\" : \"docker\",\n",
      "    \"build_hash\" : \"79878662c54c886ae89206c685d9f1051a9d6411\",\n",
      "    \"build_date\" : \"2022-05-18T18:04:20.964345128Z\",\n",
      "    \"build_snapshot\" : false,\n",
      "    \"lucene_version\" : \"8.11.1\",\n",
      "    \"minimum_wire_compatibility_version\" : \"6.8.0\",\n",
      "    \"minimum_index_compatibility_version\" : \"6.0.0-beta1\"\n",
      "  },\n",
      "  \"tagline\" : \"You Know, for Search\"\n",
      "}\n"
     ]
    }
   ],
   "source": [
    "!curl -XGET localhost:9200"
   ]
  },
  {
   "cell_type": "code",
   "execution_count": 45,
   "metadata": {},
   "outputs": [
    {
     "name": "stderr",
     "output_type": "stream",
     "text": [
      "/var/folders/lp/tb5q9ks973gdt01t1w07s95m0000gn/T/ipykernel_8779/515627836.py:2: ElasticsearchWarning: Elasticsearch built-in security features are not enabled. Without authentication, your cluster could be accessible to anyone. See https://www.elastic.co/guide/en/elasticsearch/reference/7.17/security-minimal-setup.html to enable security.\n",
      "  es.indices.create(index=INDEX)\n"
     ]
    },
    {
     "data": {
      "text/plain": [
       "ObjectApiResponse({'acknowledged': True, 'shards_acknowledged': True, 'index': 'search_test'})"
      ]
     },
     "execution_count": 45,
     "metadata": {},
     "output_type": "execute_result"
    }
   ],
   "source": [
    "INDEX = 'search_test'\n",
    "es.indices.create(index=INDEX)"
   ]
  },
  {
   "cell_type": "code",
   "execution_count": 46,
   "metadata": {},
   "outputs": [
    {
     "name": "stdout",
     "output_type": "stream",
     "text": [
      "zsh:1: no matches found: localhost:9200/_cat/indices?v\n"
     ]
    }
   ],
   "source": [
    "!curl -XGET localhost:9200/_cat/indices?v"
   ]
  },
  {
   "cell_type": "code",
   "execution_count": 9,
   "metadata": {},
   "outputs": [],
   "source": [
    "import json\n",
    "with open(\"anno.json\", \"r\", encoding=\"utf-8\") as json_file:\n",
    "    latex_data = json.load(json_file)"
   ]
  },
  {
   "cell_type": "code",
   "execution_count": 36,
   "metadata": {},
   "outputs": [
    {
     "data": {
      "text/plain": [
       "{'latex': ['u,v\\\\in \\\\Gamma (\\\\mathrm {T} M)',\n",
       "  '\\\\operatorname {Riem} (u,v)w=\\\\nabla _{u}\\\\nabla _{v}w-\\\\nabla _{v}\\\\nabla _{u}w-\\\\nabla _{[u,v]}w',\n",
       "  '{\\\\operatorname {Riem} ^{\\\\rho }}_{\\\\sigma \\\\mu \\\\nu }=\\\\partial _{\\\\mu }\\\\Gamma _{\\\\nu \\\\sigma }^{\\\\rho }-\\\\partial _{\\\\nu }\\\\Gamma _{\\\\mu \\\\sigma }^{\\\\rho }+\\\\Gamma _{\\\\mu \\\\lambda }^{\\\\rho }\\\\Gamma _{\\\\nu \\\\sigma }^{\\\\lambda }-\\\\Gamma _{\\\\nu \\\\lambda }^{\\\\rho }\\\\Gamma _{\\\\mu \\\\sigma }^{\\\\lambda }',\n",
       "  '\\\\operatorname {Riem} (u,v)=-\\\\operatorname {Riem} (v,u)',\n",
       "  '\\\\langle \\\\operatorname {Riem} (u,v)w,z\\\\rangle =-\\\\langle \\\\operatorname {Riem} (u,v)z,w\\\\rangle ',\n",
       "  '\\\\langle \\\\operatorname {Riem} (u,v)w,z\\\\rangle =\\\\langle \\\\operatorname {Riem} (w,z)u,v\\\\rangle ',\n",
       "  '\\\\operatorname {Riem} (u,v)w+\\\\operatorname {Riem} (v,w)u+\\\\operatorname {Riem} (w,u)v=0',\n",
       "  '(\\\\nabla _{u}\\\\operatorname {Riem} )(v,w)+(\\\\nabla _{v}\\\\operatorname {Riem} )(w,u)+(\\\\nabla _{w}\\\\operatorname {Riem} )(u,v)=0',\n",
       "  '\\\\operatorname {Riem} _{(\\\\rho \\\\sigma )\\\\mu \\\\nu }=R_{\\\\rho \\\\sigma (\\\\mu \\\\nu )}=0',\n",
       "  '\\\\operatorname {Riem} _{\\\\rho \\\\sigma \\\\mu \\\\nu }=\\\\operatorname {Riem} _{\\\\mu \\\\nu \\\\rho \\\\sigma }',\n",
       "  '\\\\operatorname {Riem} _{\\\\rho [\\\\sigma \\\\mu \\\\nu ]}=0',\n",
       "  '\\\\operatorname {Riem} _{\\\\rho \\\\sigma [\\\\mu \\\\nu ;\\\\tau ]}=0',\n",
       "  '[\\\\mu \\\\nu \\\\rho ]',\n",
       "  '(\\\\mu \\\\nu )',\n",
       "  '{\\\\frac {1}{12}}n^{2}(n^{2}-1)',\n",
       "  '{\\\\tfrac {1}{2}}n(n+1)',\n",
       "  '{\\\\frac {1}{2}}(n-3){\\\\binom {n+2}{3}}\\\\qquad (n\\\\geq 3)',\n",
       "  '(\\\\nabla _{\\\\mu }\\\\nabla _{\\\\nu }-\\\\nabla _{\\\\nu }\\\\nabla _{\\\\mu })X^{\\\\rho }=\\\\operatorname {Riem} ^{\\\\rho }{}_{\\\\sigma \\\\mu \\\\nu }X^{\\\\sigma }',\n",
       "  '(\\\\nabla _{\\\\mu }\\\\nabla _{\\\\nu }-\\\\nabla _{\\\\nu }\\\\nabla _{\\\\mu })\\\\alpha _{\\\\sigma }=-\\\\operatorname {Riem} ^{\\\\rho }{}_{\\\\sigma \\\\mu \\\\nu }\\\\alpha _{\\\\rho }',\n",
       "  '(\\\\nabla _{\\\\mu }\\\\nabla _{\\\\nu }-\\\\nabla _{\\\\nu }\\\\nabla _{\\\\mu })T_{\\\\beta _{1}\\\\dotsi \\\\beta _{s}}^{\\\\alpha _{1}\\\\dotsi \\\\alpha _{r}}=\\\\operatorname {Riem} ^{\\\\alpha _{1}}{}_{\\\\rho \\\\mu \\\\nu }T_{\\\\beta _{1}\\\\dotsi \\\\beta _{s}}^{\\\\rho \\\\alpha _{2}\\\\cdots \\\\alpha _{r}}+\\\\dotsb +\\\\operatorname {Riem} ^{\\\\alpha _{r}}{}_{\\\\rho \\\\mu \\\\nu }T_{\\\\beta _{1}\\\\dotsi \\\\beta _{s}}^{\\\\alpha _{1}\\\\cdots \\\\alpha _{r-1}\\\\rho }-\\\\operatorname {Riem} ^{\\\\sigma }{}_{\\\\beta _{1}\\\\mu \\\\nu }T_{\\\\sigma \\\\beta _{2}\\\\dotsi \\\\beta _{s}}^{\\\\alpha _{1}\\\\cdots \\\\alpha _{r}}-\\\\cdots -\\\\operatorname {Riem} ^{\\\\sigma }{}_{\\\\beta _{s}\\\\mu \\\\nu }T_{\\\\beta _{1}\\\\cdots \\\\beta _{s-1}\\\\sigma }^{\\\\alpha _{1}\\\\dotsi \\\\alpha _{r}}',\n",
       "  '\\\\operatorname {Riem} _{abcd}^{}=K(g_{ac}g_{db}-g_{ad}g_{cb})',\n",
       "  'K={\\\\frac {1}{2}}\\\\operatorname {tr} \\\\operatorname {Ric} ',\n",
       "  '\\\\operatorname {Riem} _{abcd}=F_{ac}g_{bd}-F_{ad}g_{bc}+F_{bd}g_{ac}-F_{bc}g_{ad}',\n",
       "  'F_{ab}=\\\\operatorname {Ric} _{ab}-{\\\\frac {1}{4}}(\\\\operatorname {tr} \\\\operatorname {Ric} )g_{ab}',\n",
       "  \"(\\\\iota \\\\iota ',\\\\iota ''\\\\iota ''')\"],\n",
       " 'id': 'dc9fd2c45824afc',\n",
       " 'link': 'https://ko.wikipedia.org/wiki/%EB%A6%AC%EB%A7%8C_%EA%B3%A1%EB%A5%A0',\n",
       " 'title': '리만 곡률 텐서'}"
      ]
     },
     "execution_count": 36,
     "metadata": {},
     "output_type": "execute_result"
    }
   ],
   "source": [
    "latex_data['latex_anno'][0]"
   ]
  },
  {
   "cell_type": "code",
   "execution_count": 41,
   "metadata": {},
   "outputs": [
    {
     "name": "stdout",
     "output_type": "stream",
     "text": [
      "Lengths of unique contexts : 289\n"
     ]
    }
   ],
   "source": [
    "contexts = list()\n",
    "for v in latex_data['latex_anno']:\n",
    "    id, link, title = v['id'], v['link'], v['title']\n",
    "    for latex in v['latex']:\n",
    "        contexts.append((latex, id, link, title))\n",
    "\n",
    "print(f\"Lengths of unique contexts : {len(contexts)}\")"
   ]
  },
  {
   "cell_type": "code",
   "execution_count": 42,
   "metadata": {},
   "outputs": [
    {
     "name": "stdout",
     "output_type": "stream",
     "text": [
      "('u,v\\\\in \\\\Gamma (\\\\mathrm {T} M)', 'dc9fd2c45824afc', 'https://ko.wikipedia.org/wiki/%EB%A6%AC%EB%A7%8C_%EA%B3%A1%EB%A5%A0', '리만 곡률 텐서')\n",
      "('\\\\operatorname {Riem} (u,v)w=\\\\nabla _{u}\\\\nabla _{v}w-\\\\nabla _{v}\\\\nabla _{u}w-\\\\nabla _{[u,v]}w', 'dc9fd2c45824afc', 'https://ko.wikipedia.org/wiki/%EB%A6%AC%EB%A7%8C_%EA%B3%A1%EB%A5%A0', '리만 곡률 텐서')\n"
     ]
    }
   ],
   "source": [
    "print(contexts[0])\n",
    "print(contexts[1])"
   ]
  },
  {
   "cell_type": "code",
   "execution_count": null,
   "metadata": {},
   "outputs": [],
   "source": [
    "# contexts = list(\n",
    "#     dict.fromkeys([latex for latex in v[\"latex\"] for v in latex_data[\"latex_anno\"]])\n",
    "# )  # set 은 매번 순서가 바뀌므로\n",
    "# print(f\"Lengths of unique contexts : {len(contexts)}\")"
   ]
  },
  {
   "cell_type": "code",
   "execution_count": 52,
   "metadata": {},
   "outputs": [
    {
     "name": "stdout",
     "output_type": "stream",
     "text": [
      "{'latex': 'u,v\\\\in \\\\Gamma (\\\\mathrm {T} M)', 'id': 'dc9fd2c45824afc', 'link': 'https://ko.wikipedia.org/wiki/%EB%A6%AC%EB%A7%8C_%EA%B3%A1%EB%A5%A0', 'title': '리만 곡률 텐서'}\n"
     ]
    },
    {
     "name": "stderr",
     "output_type": "stream",
     "text": [
      "/var/folders/lp/tb5q9ks973gdt01t1w07s95m0000gn/T/ipykernel_8779/3789976582.py:5: DeprecationWarning: The 'body' parameter is deprecated and will be removed in a future version. Instead use the 'document' parameter. See https://github.com/elastic/elasticsearch-py/issues/1698 for more information\n",
      "  es.index(index=INDEX, id=idx+1, body=body)\n",
      "/var/folders/lp/tb5q9ks973gdt01t1w07s95m0000gn/T/ipykernel_8779/3789976582.py:5: ElasticsearchWarning: Elasticsearch built-in security features are not enabled. Without authentication, your cluster could be accessible to anyone. See https://www.elastic.co/guide/en/elasticsearch/reference/7.17/security-minimal-setup.html to enable security.\n",
      "  es.index(index=INDEX, id=idx+1, body=body)\n"
     ]
    },
    {
     "name": "stdout",
     "output_type": "stream",
     "text": [
      "{'latex': '\\\\operatorname {Riem} (u,v)w=\\\\nabla _{u}\\\\nabla _{v}w-\\\\nabla _{v}\\\\nabla _{u}w-\\\\nabla _{[u,v]}w', 'id': 'dc9fd2c45824afc', 'link': 'https://ko.wikipedia.org/wiki/%EB%A6%AC%EB%A7%8C_%EA%B3%A1%EB%A5%A0', 'title': '리만 곡률 텐서'}\n",
      "{'latex': '{\\\\operatorname {Riem} ^{\\\\rho }}_{\\\\sigma \\\\mu \\\\nu }=\\\\partial _{\\\\mu }\\\\Gamma _{\\\\nu \\\\sigma }^{\\\\rho }-\\\\partial _{\\\\nu }\\\\Gamma _{\\\\mu \\\\sigma }^{\\\\rho }+\\\\Gamma _{\\\\mu \\\\lambda }^{\\\\rho }\\\\Gamma _{\\\\nu \\\\sigma }^{\\\\lambda }-\\\\Gamma _{\\\\nu \\\\lambda }^{\\\\rho }\\\\Gamma _{\\\\mu \\\\sigma }^{\\\\lambda }', 'id': 'dc9fd2c45824afc', 'link': 'https://ko.wikipedia.org/wiki/%EB%A6%AC%EB%A7%8C_%EA%B3%A1%EB%A5%A0', 'title': '리만 곡률 텐서'}\n",
      "{'latex': '\\\\operatorname {Riem} (u,v)=-\\\\operatorname {Riem} (v,u)', 'id': 'dc9fd2c45824afc', 'link': 'https://ko.wikipedia.org/wiki/%EB%A6%AC%EB%A7%8C_%EA%B3%A1%EB%A5%A0', 'title': '리만 곡률 텐서'}\n",
      "{'latex': '\\\\langle \\\\operatorname {Riem} (u,v)w,z\\\\rangle =-\\\\langle \\\\operatorname {Riem} (u,v)z,w\\\\rangle ', 'id': 'dc9fd2c45824afc', 'link': 'https://ko.wikipedia.org/wiki/%EB%A6%AC%EB%A7%8C_%EA%B3%A1%EB%A5%A0', 'title': '리만 곡률 텐서'}\n",
      "{'latex': '\\\\langle \\\\operatorname {Riem} (u,v)w,z\\\\rangle =\\\\langle \\\\operatorname {Riem} (w,z)u,v\\\\rangle ', 'id': 'dc9fd2c45824afc', 'link': 'https://ko.wikipedia.org/wiki/%EB%A6%AC%EB%A7%8C_%EA%B3%A1%EB%A5%A0', 'title': '리만 곡률 텐서'}\n",
      "{'latex': '\\\\operatorname {Riem} (u,v)w+\\\\operatorname {Riem} (v,w)u+\\\\operatorname {Riem} (w,u)v=0', 'id': 'dc9fd2c45824afc', 'link': 'https://ko.wikipedia.org/wiki/%EB%A6%AC%EB%A7%8C_%EA%B3%A1%EB%A5%A0', 'title': '리만 곡률 텐서'}\n",
      "{'latex': '(\\\\nabla _{u}\\\\operatorname {Riem} )(v,w)+(\\\\nabla _{v}\\\\operatorname {Riem} )(w,u)+(\\\\nabla _{w}\\\\operatorname {Riem} )(u,v)=0', 'id': 'dc9fd2c45824afc', 'link': 'https://ko.wikipedia.org/wiki/%EB%A6%AC%EB%A7%8C_%EA%B3%A1%EB%A5%A0', 'title': '리만 곡률 텐서'}\n",
      "{'latex': '\\\\operatorname {Riem} _{(\\\\rho \\\\sigma )\\\\mu \\\\nu }=R_{\\\\rho \\\\sigma (\\\\mu \\\\nu )}=0', 'id': 'dc9fd2c45824afc', 'link': 'https://ko.wikipedia.org/wiki/%EB%A6%AC%EB%A7%8C_%EA%B3%A1%EB%A5%A0', 'title': '리만 곡률 텐서'}\n",
      "{'latex': '\\\\operatorname {Riem} _{\\\\rho \\\\sigma \\\\mu \\\\nu }=\\\\operatorname {Riem} _{\\\\mu \\\\nu \\\\rho \\\\sigma }', 'id': 'dc9fd2c45824afc', 'link': 'https://ko.wikipedia.org/wiki/%EB%A6%AC%EB%A7%8C_%EA%B3%A1%EB%A5%A0', 'title': '리만 곡률 텐서'}\n",
      "{'latex': '\\\\operatorname {Riem} _{\\\\rho [\\\\sigma \\\\mu \\\\nu ]}=0', 'id': 'dc9fd2c45824afc', 'link': 'https://ko.wikipedia.org/wiki/%EB%A6%AC%EB%A7%8C_%EA%B3%A1%EB%A5%A0', 'title': '리만 곡률 텐서'}\n",
      "{'latex': '\\\\operatorname {Riem} _{\\\\rho \\\\sigma [\\\\mu \\\\nu ;\\\\tau ]}=0', 'id': 'dc9fd2c45824afc', 'link': 'https://ko.wikipedia.org/wiki/%EB%A6%AC%EB%A7%8C_%EA%B3%A1%EB%A5%A0', 'title': '리만 곡률 텐서'}\n",
      "{'latex': '[\\\\mu \\\\nu \\\\rho ]', 'id': 'dc9fd2c45824afc', 'link': 'https://ko.wikipedia.org/wiki/%EB%A6%AC%EB%A7%8C_%EA%B3%A1%EB%A5%A0', 'title': '리만 곡률 텐서'}\n",
      "{'latex': '(\\\\mu \\\\nu )', 'id': 'dc9fd2c45824afc', 'link': 'https://ko.wikipedia.org/wiki/%EB%A6%AC%EB%A7%8C_%EA%B3%A1%EB%A5%A0', 'title': '리만 곡률 텐서'}\n",
      "{'latex': '{\\\\frac {1}{12}}n^{2}(n^{2}-1)', 'id': 'dc9fd2c45824afc', 'link': 'https://ko.wikipedia.org/wiki/%EB%A6%AC%EB%A7%8C_%EA%B3%A1%EB%A5%A0', 'title': '리만 곡률 텐서'}\n",
      "{'latex': '{\\\\tfrac {1}{2}}n(n+1)', 'id': 'dc9fd2c45824afc', 'link': 'https://ko.wikipedia.org/wiki/%EB%A6%AC%EB%A7%8C_%EA%B3%A1%EB%A5%A0', 'title': '리만 곡률 텐서'}\n",
      "{'latex': '{\\\\frac {1}{2}}(n-3){\\\\binom {n+2}{3}}\\\\qquad (n\\\\geq 3)', 'id': 'dc9fd2c45824afc', 'link': 'https://ko.wikipedia.org/wiki/%EB%A6%AC%EB%A7%8C_%EA%B3%A1%EB%A5%A0', 'title': '리만 곡률 텐서'}\n",
      "{'latex': '(\\\\nabla _{\\\\mu }\\\\nabla _{\\\\nu }-\\\\nabla _{\\\\nu }\\\\nabla _{\\\\mu })X^{\\\\rho }=\\\\operatorname {Riem} ^{\\\\rho }{}_{\\\\sigma \\\\mu \\\\nu }X^{\\\\sigma }', 'id': 'dc9fd2c45824afc', 'link': 'https://ko.wikipedia.org/wiki/%EB%A6%AC%EB%A7%8C_%EA%B3%A1%EB%A5%A0', 'title': '리만 곡률 텐서'}\n",
      "{'latex': '(\\\\nabla _{\\\\mu }\\\\nabla _{\\\\nu }-\\\\nabla _{\\\\nu }\\\\nabla _{\\\\mu })\\\\alpha _{\\\\sigma }=-\\\\operatorname {Riem} ^{\\\\rho }{}_{\\\\sigma \\\\mu \\\\nu }\\\\alpha _{\\\\rho }', 'id': 'dc9fd2c45824afc', 'link': 'https://ko.wikipedia.org/wiki/%EB%A6%AC%EB%A7%8C_%EA%B3%A1%EB%A5%A0', 'title': '리만 곡률 텐서'}\n",
      "{'latex': '(\\\\nabla _{\\\\mu }\\\\nabla _{\\\\nu }-\\\\nabla _{\\\\nu }\\\\nabla _{\\\\mu })T_{\\\\beta _{1}\\\\dotsi \\\\beta _{s}}^{\\\\alpha _{1}\\\\dotsi \\\\alpha _{r}}=\\\\operatorname {Riem} ^{\\\\alpha _{1}}{}_{\\\\rho \\\\mu \\\\nu }T_{\\\\beta _{1}\\\\dotsi \\\\beta _{s}}^{\\\\rho \\\\alpha _{2}\\\\cdots \\\\alpha _{r}}+\\\\dotsb +\\\\operatorname {Riem} ^{\\\\alpha _{r}}{}_{\\\\rho \\\\mu \\\\nu }T_{\\\\beta _{1}\\\\dotsi \\\\beta _{s}}^{\\\\alpha _{1}\\\\cdots \\\\alpha _{r-1}\\\\rho }-\\\\operatorname {Riem} ^{\\\\sigma }{}_{\\\\beta _{1}\\\\mu \\\\nu }T_{\\\\sigma \\\\beta _{2}\\\\dotsi \\\\beta _{s}}^{\\\\alpha _{1}\\\\cdots \\\\alpha _{r}}-\\\\cdots -\\\\operatorname {Riem} ^{\\\\sigma }{}_{\\\\beta _{s}\\\\mu \\\\nu }T_{\\\\beta _{1}\\\\cdots \\\\beta _{s-1}\\\\sigma }^{\\\\alpha _{1}\\\\dotsi \\\\alpha _{r}}', 'id': 'dc9fd2c45824afc', 'link': 'https://ko.wikipedia.org/wiki/%EB%A6%AC%EB%A7%8C_%EA%B3%A1%EB%A5%A0', 'title': '리만 곡률 텐서'}\n",
      "{'latex': '\\\\operatorname {Riem} _{abcd}^{}=K(g_{ac}g_{db}-g_{ad}g_{cb})', 'id': 'dc9fd2c45824afc', 'link': 'https://ko.wikipedia.org/wiki/%EB%A6%AC%EB%A7%8C_%EA%B3%A1%EB%A5%A0', 'title': '리만 곡률 텐서'}\n",
      "{'latex': 'K={\\\\frac {1}{2}}\\\\operatorname {tr} \\\\operatorname {Ric} ', 'id': 'dc9fd2c45824afc', 'link': 'https://ko.wikipedia.org/wiki/%EB%A6%AC%EB%A7%8C_%EA%B3%A1%EB%A5%A0', 'title': '리만 곡률 텐서'}\n",
      "{'latex': '\\\\operatorname {Riem} _{abcd}=F_{ac}g_{bd}-F_{ad}g_{bc}+F_{bd}g_{ac}-F_{bc}g_{ad}', 'id': 'dc9fd2c45824afc', 'link': 'https://ko.wikipedia.org/wiki/%EB%A6%AC%EB%A7%8C_%EA%B3%A1%EB%A5%A0', 'title': '리만 곡률 텐서'}\n",
      "{'latex': 'F_{ab}=\\\\operatorname {Ric} _{ab}-{\\\\frac {1}{4}}(\\\\operatorname {tr} \\\\operatorname {Ric} )g_{ab}', 'id': 'dc9fd2c45824afc', 'link': 'https://ko.wikipedia.org/wiki/%EB%A6%AC%EB%A7%8C_%EA%B3%A1%EB%A5%A0', 'title': '리만 곡률 텐서'}\n",
      "{'latex': \"(\\\\iota \\\\iota ',\\\\iota ''\\\\iota ''')\", 'id': 'dc9fd2c45824afc', 'link': 'https://ko.wikipedia.org/wiki/%EB%A6%AC%EB%A7%8C_%EA%B3%A1%EB%A5%A0', 'title': '리만 곡률 텐서'}\n",
      "{'latex': 'a+b=c', 'id': 'dce660e5737d80c', 'link': 'https://ko.wikipedia.org/wiki/%EC%82%B0%EC%88%A0#사칙연산', 'title': '산술'}\n",
      "{'latex': 'a=c-b,b=c-a', 'id': 'dce660e5737d80c', 'link': 'https://ko.wikipedia.org/wiki/%EC%82%B0%EC%88%A0#사칙연산', 'title': '산술'}\n",
      "{'latex': 'a+b=0', 'id': 'dce660e5737d80c', 'link': 'https://ko.wikipedia.org/wiki/%EC%82%B0%EC%88%A0#사칙연산', 'title': '산술'}\n",
      "{'latex': 'b', 'id': 'dce660e5737d80c', 'link': 'https://ko.wikipedia.org/wiki/%EC%82%B0%EC%88%A0#사칙연산', 'title': '산술'}\n",
      "{'latex': '-a', 'id': 'dce660e5737d80c', 'link': 'https://ko.wikipedia.org/wiki/%EC%82%B0%EC%88%A0#사칙연산', 'title': '산술'}\n",
      "{'latex': 'a-b=0', 'id': 'dce660e5737d80c', 'link': 'https://ko.wikipedia.org/wiki/%EC%82%B0%EC%88%A0#사칙연산', 'title': '산술'}\n",
      "{'latex': '-b', 'id': 'dce660e5737d80c', 'link': 'https://ko.wikipedia.org/wiki/%EC%82%B0%EC%88%A0#사칙연산', 'title': '산술'}\n",
      "{'latex': '-a', 'id': 'dce660e5737d80c', 'link': 'https://ko.wikipedia.org/wiki/%EC%82%B0%EC%88%A0#사칙연산', 'title': '산술'}\n",
      "{'latex': 'a-b', 'id': 'dce660e5737d80c', 'link': 'https://ko.wikipedia.org/wiki/%EC%82%B0%EC%88%A0#사칙연산', 'title': '산술'}\n",
      "{'latex': 'a+(-b)', 'id': 'dce660e5737d80c', 'link': 'https://ko.wikipedia.org/wiki/%EC%82%B0%EC%88%A0#사칙연산', 'title': '산술'}\n",
      "{'latex': 'a\\\\times b=c', 'id': 'dce660e5737d80c', 'link': 'https://ko.wikipedia.org/wiki/%EC%82%B0%EC%88%A0#사칙연산', 'title': '산술'}\n",
      "{'latex': 'a=c\\\\div b,b=c\\\\div a', 'id': 'dce660e5737d80c', 'link': 'https://ko.wikipedia.org/wiki/%EC%82%B0%EC%88%A0#사칙연산', 'title': '산술'}\n",
      "{'latex': 'a\\\\times b=1', 'id': 'dce660e5737d80c', 'link': 'https://ko.wikipedia.org/wiki/%EC%82%B0%EC%88%A0#사칙연산', 'title': '산술'}\n",
      "{'latex': 'b', 'id': 'dce660e5737d80c', 'link': 'https://ko.wikipedia.org/wiki/%EC%82%B0%EC%88%A0#사칙연산', 'title': '산술'}\n",
      "{'latex': '{1 \\\\over a}', 'id': 'dce660e5737d80c', 'link': 'https://ko.wikipedia.org/wiki/%EC%82%B0%EC%88%A0#사칙연산', 'title': '산술'}\n",
      "{'latex': '\\\\scriptstyle \\\\mathrm {distance\\\\ in\\\\ parsecs} ={\\\\frac {1000}{\\\\mathrm {parallax\\\\ in\\\\ milliarcseconds} }}', 'id': 'f49097b47f255c6', 'link': 'https://ko.wikipedia.org/wiki/HR_8799_b', 'title': 'HR 8799 b'}\n",
      "{'latex': '\\\\phi \\\\colon {\\\\mathcal {A}}\\\\to \\\\mathbb {C} ', 'id': 'c3abc58b90a6c2f', 'link': 'https://ko.wikipedia.org/wiki/%EA%B5%AC%EB%B3%B4-%EB%A7%88%ED%8B%B4-%EC%8A%88%EC%9C%99%EA%B1%B0_%EC%83%81%ED%83%9C', 'title': '구보-마틴-슈윙거 상태'}\n",
      "{'latex': '\\\\beta \\\\in \\\\mathbb {R} ^{+}', 'id': 'c3abc58b90a6c2f', 'link': 'https://ko.wikipedia.org/wiki/%EA%B5%AC%EB%B3%B4-%EB%A7%88%ED%8B%B4-%EC%8A%88%EC%9C%99%EA%B1%B0_%EC%83%81%ED%83%9C', 'title': '구보-마틴-슈윙거 상태'}\n",
      "{'latex': '\\\\alpha \\\\colon (\\\\mathbb {R} ,+)\\\\to \\\\operatorname {Aut} ({\\\\mathcal {A}})', 'id': 'c3abc58b90a6c2f', 'link': 'https://ko.wikipedia.org/wiki/%EA%B5%AC%EB%B3%B4-%EB%A7%88%ED%8B%B4-%EC%8A%88%EC%9C%99%EA%B1%B0_%EC%83%81%ED%83%9C', 'title': '구보-마틴-슈윙거 상태'}\n",
      "{'latex': 't\\\\mapsto \\\\alpha _{t}', 'id': 'c3abc58b90a6c2f', 'link': 'https://ko.wikipedia.org/wiki/%EA%B5%AC%EB%B3%B4-%EB%A7%88%ED%8B%B4-%EC%8A%88%EC%9C%99%EA%B1%B0_%EC%83%81%ED%83%9C', 'title': '구보-마틴-슈윙거 상태'}\n",
      "{'latex': 'A,B\\\\in {\\\\mathcal {A}}', 'id': 'c3abc58b90a6c2f', 'link': 'https://ko.wikipedia.org/wiki/%EA%B5%AC%EB%B3%B4-%EB%A7%88%ED%8B%B4-%EC%8A%88%EC%9C%99%EA%B1%B0_%EC%83%81%ED%83%9C', 'title': '구보-마틴-슈윙거 상태'}\n",
      "{'latex': 'F_{AB}\\\\colon \\\\mathbb {R} +\\\\mathrm {i} [0,\\\\beta ]\\\\to \\\\mathbb {C} ', 'id': 'c3abc58b90a6c2f', 'link': 'https://ko.wikipedia.org/wiki/%EA%B5%AC%EB%B3%B4-%EB%A7%88%ED%8B%B4-%EC%8A%88%EC%9C%99%EA%B1%B0_%EC%83%81%ED%83%9C', 'title': '구보-마틴-슈윙거 상태'}\n",
      "{'latex': 'F_{AB}', 'id': 'c3abc58b90a6c2f', 'link': 'https://ko.wikipedia.org/wiki/%EA%B5%AC%EB%B3%B4-%EB%A7%88%ED%8B%B4-%EC%8A%88%EC%9C%99%EA%B1%B0_%EC%83%81%ED%83%9C', 'title': '구보-마틴-슈윙거 상태'}\n",
      "{'latex': 'F_{AB}\\\\upharpoonright \\\\left(\\\\mathbb {R} +\\\\mathrm {i} (0,\\\\beta )\\\\right)', 'id': 'c3abc58b90a6c2f', 'link': 'https://ko.wikipedia.org/wiki/%EA%B5%AC%EB%B3%B4-%EB%A7%88%ED%8B%B4-%EC%8A%88%EC%9C%99%EA%B1%B0_%EC%83%81%ED%83%9C', 'title': '구보-마틴-슈윙거 상태'}\n",
      "{'latex': 'F_{AB}(t)=\\\\phi (A\\\\alpha _{t}B)\\\\qquad \\\\forall t\\\\in \\\\mathbb {R} ', 'id': 'c3abc58b90a6c2f', 'link': 'https://ko.wikipedia.org/wiki/%EA%B5%AC%EB%B3%B4-%EB%A7%88%ED%8B%B4-%EC%8A%88%EC%9C%99%EA%B1%B0_%EC%83%81%ED%83%9C', 'title': '구보-마틴-슈윙거 상태'}\n",
      "{'latex': 'F_{AB}(t+\\\\mathrm {i} \\\\beta )=\\\\phi ((\\\\alpha _{t}B)A)\\\\qquad \\\\forall t\\\\in \\\\mathbb {R} ', 'id': 'c3abc58b90a6c2f', 'link': 'https://ko.wikipedia.org/wiki/%EA%B5%AC%EB%B3%B4-%EB%A7%88%ED%8B%B4-%EC%8A%88%EC%9C%99%EA%B1%B0_%EC%83%81%ED%83%9C', 'title': '구보-마틴-슈윙거 상태'}\n",
      "{'latex': '+\\\\mathrm {i} \\\\beta ', 'id': 'c3abc58b90a6c2f', 'link': 'https://ko.wikipedia.org/wiki/%EA%B5%AC%EB%B3%B4-%EB%A7%88%ED%8B%B4-%EC%8A%88%EC%9C%99%EA%B1%B0_%EC%83%81%ED%83%9C', 'title': '구보-마틴-슈윙거 상태'}\n",
      "{'latex': 'F_{AB}', 'id': 'c3abc58b90a6c2f', 'link': 'https://ko.wikipedia.org/wiki/%EA%B5%AC%EB%B3%B4-%EB%A7%88%ED%8B%B4-%EC%8A%88%EC%9C%99%EA%B1%B0_%EC%83%81%ED%83%9C', 'title': '구보-마틴-슈윙거 상태'}\n",
      "{'latex': '\\\\phi \\\\circ \\\\alpha _{t}=\\\\phi \\\\qquad \\\\forall t\\\\in \\\\mathbb {R} ', 'id': 'c3abc58b90a6c2f', 'link': 'https://ko.wikipedia.org/wiki/%EA%B5%AC%EB%B3%B4-%EB%A7%88%ED%8B%B4-%EC%8A%88%EC%9C%99%EA%B1%B0_%EC%83%81%ED%83%9C', 'title': '구보-마틴-슈윙거 상태'}\n",
      "{'latex': 'V=\\\\mathbb {C} ^{N}', 'id': 'c3abc58b90a6c2f', 'link': 'https://ko.wikipedia.org/wiki/%EA%B5%AC%EB%B3%B4-%EB%A7%88%ED%8B%B4-%EC%8A%88%EC%9C%99%EA%B1%B0_%EC%83%81%ED%83%9C', 'title': '구보-마틴-슈윙거 상태'}\n",
      "{'latex': 'N\\\\times N', 'id': 'c3abc58b90a6c2f', 'link': 'https://ko.wikipedia.org/wiki/%EA%B5%AC%EB%B3%B4-%EB%A7%88%ED%8B%B4-%EC%8A%88%EC%9C%99%EA%B1%B0_%EC%83%81%ED%83%9C', 'title': '구보-마틴-슈윙거 상태'}\n",
      "{'latex': '\\\\beta \\\\in \\\\mathbb {R} ^{+}', 'id': 'c3abc58b90a6c2f', 'link': 'https://ko.wikipedia.org/wiki/%EA%B5%AC%EB%B3%B4-%EB%A7%88%ED%8B%B4-%EC%8A%88%EC%9C%99%EA%B1%B0_%EC%83%81%ED%83%9C', 'title': '구보-마틴-슈윙거 상태'}\n",
      "{'latex': 'N\\\\times N', 'id': 'c3abc58b90a6c2f', 'link': 'https://ko.wikipedia.org/wiki/%EA%B5%AC%EB%B3%B4-%EB%A7%88%ED%8B%B4-%EC%8A%88%EC%9C%99%EA%B1%B0_%EC%83%81%ED%83%9C', 'title': '구보-마틴-슈윙거 상태'}\n",
      "{'latex': '\\\\operatorname {B} (V,V)=\\\\operatorname {Mat} (n,n;\\\\mathbb {C} )', 'id': 'c3abc58b90a6c2f', 'link': 'https://ko.wikipedia.org/wiki/%EA%B5%AC%EB%B3%B4-%EB%A7%88%ED%8B%B4-%EC%8A%88%EC%9C%99%EA%B1%B0_%EC%83%81%ED%83%9C', 'title': '구보-마틴-슈윙거 상태'}\n",
      "{'latex': '\\\\alpha _{t}\\\\colon A\\\\mapsto \\\\exp(\\\\mathrm {i} tH)A\\\\exp(-\\\\mathrm {i} tH)', 'id': 'c3abc58b90a6c2f', 'link': 'https://ko.wikipedia.org/wiki/%EA%B5%AC%EB%B3%B4-%EB%A7%88%ED%8B%B4-%EC%8A%88%EC%9C%99%EA%B1%B0_%EC%83%81%ED%83%9C', 'title': '구보-마틴-슈윙거 상태'}\n",
      "{'latex': '\\\\alpha \\\\colon (\\\\mathbb {R} ,+)\\\\to \\\\operatorname {Aut} (\\\\operatorname {Mat} (n,n;\\\\mathbb {C} ))\\\\cong \\\\operatorname {U} (n)', 'id': 'c3abc58b90a6c2f', 'link': 'https://ko.wikipedia.org/wiki/%EA%B5%AC%EB%B3%B4-%EB%A7%88%ED%8B%B4-%EC%8A%88%EC%9C%99%EA%B1%B0_%EC%83%81%ED%83%9C', 'title': '구보-마틴-슈윙거 상태'}\n",
      "{'latex': '\\\\alpha \\\\colon t\\\\mapsto \\\\alpha _{t}', 'id': 'c3abc58b90a6c2f', 'link': 'https://ko.wikipedia.org/wiki/%EA%B5%AC%EB%B3%B4-%EB%A7%88%ED%8B%B4-%EC%8A%88%EC%9C%99%EA%B1%B0_%EC%83%81%ED%83%9C', 'title': '구보-마틴-슈윙거 상태'}\n",
      "{'latex': 'M\\\\in \\\\operatorname {Mat} (n,n;\\\\mathbb {C} )', 'id': 'c3abc58b90a6c2f', 'link': 'https://ko.wikipedia.org/wiki/%EA%B5%AC%EB%B3%B4-%EB%A7%88%ED%8B%B4-%EC%8A%88%EC%9C%99%EA%B1%B0_%EC%83%81%ED%83%9C', 'title': '구보-마틴-슈윙거 상태'}\n",
      "{'latex': '\\\\omega (A;\\\\beta )={\\\\frac {\\\\operatorname {tr} \\\\left(\\\\exp(-\\\\beta H)A\\\\right)}{\\\\operatorname {tr} \\\\exp(-\\\\beta H)}}', 'id': 'c3abc58b90a6c2f', 'link': 'https://ko.wikipedia.org/wiki/%EA%B5%AC%EB%B3%B4-%EB%A7%88%ED%8B%B4-%EC%8A%88%EC%9C%99%EA%B1%B0_%EC%83%81%ED%83%9C', 'title': '구보-마틴-슈윙거 상태'}\n",
      "{'latex': 'F_{AB}\\\\colon \\\\mathbb {R} +\\\\mathrm {i} [0,\\\\beta ]\\\\to \\\\mathbb {C} ', 'id': 'c3abc58b90a6c2f', 'link': 'https://ko.wikipedia.org/wiki/%EA%B5%AC%EB%B3%B4-%EB%A7%88%ED%8B%B4-%EC%8A%88%EC%9C%99%EA%B1%B0_%EC%83%81%ED%83%9C', 'title': '구보-마틴-슈윙거 상태'}\n",
      "{'latex': 'F_{AB}(z)=\\\\omega (A\\\\exp(\\\\mathrm {i} zH)B;\\\\beta )', 'id': 'c3abc58b90a6c2f', 'link': 'https://ko.wikipedia.org/wiki/%EA%B5%AC%EB%B3%B4-%EB%A7%88%ED%8B%B4-%EC%8A%88%EC%9C%99%EA%B1%B0_%EC%83%81%ED%83%9C', 'title': '구보-마틴-슈윙거 상태'}\n",
      "{'latex': 'F_{AB}(-)', 'id': 'c3abc58b90a6c2f', 'link': 'https://ko.wikipedia.org/wiki/%EA%B5%AC%EB%B3%B4-%EB%A7%88%ED%8B%B4-%EC%8A%88%EC%9C%99%EA%B1%B0_%EC%83%81%ED%83%9C', 'title': '구보-마틴-슈윙거 상태'}\n",
      "{'latex': '\\\\omega (-;\\\\beta )', 'id': 'c3abc58b90a6c2f', 'link': 'https://ko.wikipedia.org/wiki/%EA%B5%AC%EB%B3%B4-%EB%A7%88%ED%8B%B4-%EC%8A%88%EC%9C%99%EA%B1%B0_%EC%83%81%ED%83%9C', 'title': '구보-마틴-슈윙거 상태'}\n",
      "{'latex': 'z\\\\in \\\\mathbb {R} +\\\\mathrm {i} \\\\beta ', 'id': 'c3abc58b90a6c2f', 'link': 'https://ko.wikipedia.org/wiki/%EA%B5%AC%EB%B3%B4-%EB%A7%88%ED%8B%B4-%EC%8A%88%EC%9C%99%EA%B1%B0_%EC%83%81%ED%83%9C', 'title': '구보-마틴-슈윙거 상태'}\n",
      "{'latex': '{\\\\begin{aligned}\\\\left(\\\\operatorname {tr} \\\\exp(-\\\\beta H)\\\\right)F_{AB}(t+\\\\mathrm {i} \\\\beta )&=\\\\operatorname {tr} \\\\left(\\\\exp(-\\\\beta H)A\\\\exp(\\\\mathrm {i} (t+\\\\mathrm {i} \\\\beta )H)B\\\\exp(-\\\\mathrm {i} (t+\\\\mathrm {i} \\\\beta )H)\\\\right)\\\\\\\\&=\\\\operatorname {tr} \\\\left(\\\\exp(\\\\mathrm {i} (t+\\\\mathrm {i} \\\\beta )H)B\\\\exp(-\\\\mathrm {i} (t+\\\\mathrm {i} \\\\beta )H)\\\\exp(-\\\\beta H)A\\\\right)\\\\\\\\&=\\\\operatorname {tr} \\\\left(\\\\exp(-\\\\beta H)\\\\exp(\\\\mathrm {i} tH)B\\\\exp(-\\\\mathrm {i} tH)A\\\\right)\\\\end{aligned}}', 'id': 'c3abc58b90a6c2f', 'link': 'https://ko.wikipedia.org/wiki/%EA%B5%AC%EB%B3%B4-%EB%A7%88%ED%8B%B4-%EC%8A%88%EC%9C%99%EA%B1%B0_%EC%83%81%ED%83%9C', 'title': '구보-마틴-슈윙거 상태'}\n",
      "{'latex': 'H\\\\colon D\\\\to V', 'id': 'c3abc58b90a6c2f', 'link': 'https://ko.wikipedia.org/wiki/%EA%B5%AC%EB%B3%B4-%EB%A7%88%ED%8B%B4-%EC%8A%88%EC%9C%99%EA%B1%B0_%EC%83%81%ED%83%9C', 'title': '구보-마틴-슈윙거 상태'}\n",
      "{'latex': '\\\\exp(\\\\mathrm {i} tH)\\\\colon V\\\\to V', 'id': 'c3abc58b90a6c2f', 'link': 'https://ko.wikipedia.org/wiki/%EA%B5%AC%EB%B3%B4-%EB%A7%88%ED%8B%B4-%EC%8A%88%EC%9C%99%EA%B1%B0_%EC%83%81%ED%83%9C', 'title': '구보-마틴-슈윙거 상태'}\n",
      "{'latex': '\\\\operatorname {B} (V,V)', 'id': 'c3abc58b90a6c2f', 'link': 'https://ko.wikipedia.org/wiki/%EA%B5%AC%EB%B3%B4-%EB%A7%88%ED%8B%B4-%EC%8A%88%EC%9C%99%EA%B1%B0_%EC%83%81%ED%83%9C', 'title': '구보-마틴-슈윙거 상태'}\n",
      "{'latex': '\\\\alpha _{t}\\\\colon A\\\\mapsto \\\\exp(\\\\mathrm {i} tH)A\\\\exp(-\\\\mathrm {i} tH)', 'id': 'c3abc58b90a6c2f', 'link': 'https://ko.wikipedia.org/wiki/%EA%B5%AC%EB%B3%B4-%EB%A7%88%ED%8B%B4-%EC%8A%88%EC%9C%99%EA%B1%B0_%EC%83%81%ED%83%9C', 'title': '구보-마틴-슈윙거 상태'}\n",
      "{'latex': '\\\\exp(-\\\\beta H)', 'id': 'c3abc58b90a6c2f', 'link': 'https://ko.wikipedia.org/wiki/%EA%B5%AC%EB%B3%B4-%EB%A7%88%ED%8B%B4-%EC%8A%88%EC%9C%99%EA%B1%B0_%EC%83%81%ED%83%9C', 'title': '구보-마틴-슈윙거 상태'}\n",
      "{'latex': '\\\\phi _{H}\\\\colon A\\\\mapsto {\\\\frac {\\\\operatorname {tr} (\\\\exp(-\\\\beta H)A)}{\\\\operatorname {tr} \\\\exp(-\\\\beta H)}}', 'id': 'c3abc58b90a6c2f', 'link': 'https://ko.wikipedia.org/wiki/%EA%B5%AC%EB%B3%B4-%EB%A7%88%ED%8B%B4-%EC%8A%88%EC%9C%99%EA%B1%B0_%EC%83%81%ED%83%9C', 'title': '구보-마틴-슈윙거 상태'}\n",
      "{'latex': 'PV=C\\\\times {\\\\frac {1}{1+r}}', 'id': '398aed79bc9722d', 'link': 'https://ko.wikipedia.org/wiki/%EC%8B%9C%EA%B0%84%EC%84%A0%ED%98%B8%EC%9C%A8', 'title': '시간선호'}\n",
      "{'latex': 'PV', 'id': '398aed79bc9722d', 'link': 'https://ko.wikipedia.org/wiki/%EC%8B%9C%EA%B0%84%EC%84%A0%ED%98%B8%EC%9C%A8', 'title': '시간선호'}\n",
      "{'latex': '{\\\\frac {1}{1+r}}', 'id': '398aed79bc9722d', 'link': 'https://ko.wikipedia.org/wiki/%EC%8B%9C%EA%B0%84%EC%84%A0%ED%98%B8%EC%9C%A8', 'title': '시간선호'}\n",
      "{'latex': 'PV={\\\\frac {C}{(1+r)^{t}}}=\\\\left[{\\\\frac {C}{1+r}}\\\\right]^{t}', 'id': '398aed79bc9722d', 'link': 'https://ko.wikipedia.org/wiki/%EC%8B%9C%EA%B0%84%EC%84%A0%ED%98%B8%EC%9C%A8', 'title': '시간선호'}\n",
      "{'latex': 'PV={\\\\frac {C}{1+d}}', 'id': '398aed79bc9722d', 'link': 'https://ko.wikipedia.org/wiki/%EC%8B%9C%EA%B0%84%EC%84%A0%ED%98%B8%EC%9C%A8', 'title': '시간선호'}\n",
      "{'latex': 'E=eV=mv^{2}/2', 'id': 'a55bbad0c973f24', 'link': 'https://ko.wikipedia.org/wiki/X-%EB%A0%88%EC%9D%B4', 'title': '엑스선'}\n",
      "{'latex': 'E_{n}={\\\\frac {E_{1}}{n^{2}}}={\\\\frac {-13.6{\\\\text{ eV}}}{n^{2}}},\\\\quad n=1,2,3,\\\\ldots ', 'id': 'd3431a3483b1cf4', 'link': 'https://ko.wikipedia.org/wiki/%EC%A3%BC_%EC%96%91%EC%9E%90%EC%88%98', 'title': '주양자수'}\n",
      "{'latex': '\\\\mathbf {L} =n\\\\cdot \\\\hbar =n\\\\cdot {h \\\\over 2\\\\pi }', 'id': 'd3431a3483b1cf4', 'link': 'https://ko.wikipedia.org/wiki/%EC%A3%BC_%EC%96%91%EC%9E%90%EC%88%98', 'title': '주양자수'}\n",
      "{'latex': 'n=n_{r}+\\\\ell +1\\\\,', 'id': 'd3431a3483b1cf4', 'link': 'https://ko.wikipedia.org/wiki/%EC%A3%BC_%EC%96%91%EC%9E%90%EC%88%98', 'title': '주양자수'}\n",
      "{'latex': '{\\\\frac {(x-h)^{2}}{a^{2}}}+{\\\\frac {(y-k)^{2}}{b^{2}}}=1;\\\\,\\\\!', 'id': '8d421caf07032c0', 'link': 'https://ko.wikipedia.org/wiki/%EB%B0%98%EB%8B%A8%EC%B6%95', 'title': '짧은반지름'}\n",
      "{'latex': 'b=a{\\\\sqrt {1-e^{2}}}\\\\,\\\\!', 'id': '8d421caf07032c0', 'link': 'https://ko.wikipedia.org/wiki/%EB%B0%98%EB%8B%A8%EC%B6%95', 'title': '짧은반지름'}\n",
      "{'latex': '{{AB}}', 'id': '4099927ad13f8b2', 'link': 'https://ko.wikipedia.org/wiki/%ED%98%84_(%EC%88%98%ED%95%99)', 'title': '현 (기하학)'}\n",
      "{'latex': '{{CD}}', 'id': '4099927ad13f8b2', 'link': 'https://ko.wikipedia.org/wiki/%ED%98%84_(%EC%88%98%ED%95%99)', 'title': '현 (기하학)'}\n",
      "{'latex': '{{OC}}^{2}={{CE}}^{2}+{{OE}}^{2}', 'id': '4099927ad13f8b2', 'link': 'https://ko.wikipedia.org/wiki/%ED%98%84_(%EC%88%98%ED%95%99)', 'title': '현 (기하학)'}\n",
      "{'latex': '{{OC}}={{OB}}={{AO}}', 'id': '4099927ad13f8b2', 'link': 'https://ko.wikipedia.org/wiki/%ED%98%84_(%EC%88%98%ED%95%99)', 'title': '현 (기하학)'}\n",
      "{'latex': '{{OB}}={{OE}}+{{EB}}', 'id': '4099927ad13f8b2', 'link': 'https://ko.wikipedia.org/wiki/%ED%98%84_(%EC%88%98%ED%95%99)', 'title': '현 (기하학)'}\n",
      "{'latex': '{{CE}}^{2}={{OC}}^{2}-{{OE}}^{2}', 'id': '4099927ad13f8b2', 'link': 'https://ko.wikipedia.org/wiki/%ED%98%84_(%EC%88%98%ED%95%99)', 'title': '현 (기하학)'}\n",
      "{'latex': '{{CE}}^{2}={{AO}}^{2}-{{OE}}^{2}', 'id': '4099927ad13f8b2', 'link': 'https://ko.wikipedia.org/wiki/%ED%98%84_(%EC%88%98%ED%95%99)', 'title': '현 (기하학)'}\n",
      "{'latex': '{{AO}}^{2}-{{OE}}^{2}=\\\\left({{AO}}-{{OE}}\\\\right)\\\\left({{AO}}+{{OE}}\\\\right)', 'id': '4099927ad13f8b2', 'link': 'https://ko.wikipedia.org/wiki/%ED%98%84_(%EC%88%98%ED%95%99)', 'title': '현 (기하학)'}\n",
      "{'latex': '{{AO}}^{2}-{{OE}}^{2}=\\\\left({{EB}}\\\\right)\\\\left({{AE}}\\\\right)', 'id': '4099927ad13f8b2', 'link': 'https://ko.wikipedia.org/wiki/%ED%98%84_(%EC%88%98%ED%95%99)', 'title': '현 (기하학)'}\n",
      "{'latex': '\\\\left({{CE}}\\\\right)\\\\left({{CE}}\\\\right)=\\\\left({{EB}}\\\\right)\\\\left({{AE}}\\\\right)', 'id': '4099927ad13f8b2', 'link': 'https://ko.wikipedia.org/wiki/%ED%98%84_(%EC%88%98%ED%95%99)', 'title': '현 (기하학)'}\n",
      "{'latex': '\\\\left({{CE}}\\\\right)\\\\left({{ED}}\\\\right)=\\\\left({{EB}}\\\\right)\\\\left({{AE}}\\\\right)', 'id': '4099927ad13f8b2', 'link': 'https://ko.wikipedia.org/wiki/%ED%98%84_(%EC%88%98%ED%95%99)', 'title': '현 (기하학)'}\n",
      "{'latex': '{{1} \\\\over {2}}', 'id': '4099927ad13f8b2', 'link': 'https://ko.wikipedia.org/wiki/%ED%98%84_(%EC%88%98%ED%95%99)', 'title': '현 (기하학)'}\n",
      "{'latex': '{\\\\sqrt {3}}', 'id': '4099927ad13f8b2', 'link': 'https://ko.wikipedia.org/wiki/%ED%98%84_(%EC%88%98%ED%95%99)', 'title': '현 (기하학)'}\n",
      "{'latex': '{{\\\\sqrt {2}} \\\\over {2}}', 'id': '4099927ad13f8b2', 'link': 'https://ko.wikipedia.org/wiki/%ED%98%84_(%EC%88%98%ED%95%99)', 'title': '현 (기하학)'}\n",
      "{'latex': '{\\\\sqrt {2}}', 'id': '4099927ad13f8b2', 'link': 'https://ko.wikipedia.org/wiki/%ED%98%84_(%EC%88%98%ED%95%99)', 'title': '현 (기하학)'}\n",
      "{'latex': '{\\\\sqrt {{5+2{\\\\sqrt {5}}} \\\\over {10+2{\\\\sqrt {5}}}}}', 'id': '4099927ad13f8b2', 'link': 'https://ko.wikipedia.org/wiki/%ED%98%84_(%EC%88%98%ED%95%99)', 'title': '현 (기하학)'}\n",
      "{'latex': '{{2{\\\\sqrt {5}}} \\\\over {\\\\sqrt {10+2{\\\\sqrt {5}}}}}', 'id': '4099927ad13f8b2', 'link': 'https://ko.wikipedia.org/wiki/%ED%98%84_(%EC%88%98%ED%95%99)', 'title': '현 (기하학)'}\n",
      "{'latex': '{{\\\\sqrt {3}} \\\\over {2}}', 'id': '4099927ad13f8b2', 'link': 'https://ko.wikipedia.org/wiki/%ED%98%84_(%EC%88%98%ED%95%99)', 'title': '현 (기하학)'}\n",
      "{'latex': '{\\\\sqrt {1}}', 'id': '4099927ad13f8b2', 'link': 'https://ko.wikipedia.org/wiki/%ED%98%84_(%EC%88%98%ED%95%99)', 'title': '현 (기하학)'}\n",
      "{'latex': '{\\\\sqrt {2-{\\\\sqrt {2}}}}', 'id': '4099927ad13f8b2', 'link': 'https://ko.wikipedia.org/wiki/%ED%98%84_(%EC%88%98%ED%95%99)', 'title': '현 (기하학)'}\n",
      "{'latex': '{{{\\\\sqrt {6}}-{\\\\sqrt {2}}} \\\\over {2}}', 'id': '4099927ad13f8b2', 'link': 'https://ko.wikipedia.org/wiki/%ED%98%84_(%EC%88%98%ED%95%99)', 'title': '현 (기하학)'}\n",
      "{'latex': '\\\\operatorname {ad} \\\\colon {\\\\mathfrak {g}}\\\\to \\\\operatorname {GL} ({\\\\mathfrak {g}};k)', 'id': 'c4a7747d36d738d', 'link': 'https://ko.wikipedia.org/wiki/%ED%82%AC%EB%A7%81_%ED%98%95%EC%8B%9D', 'title': '킬링 형식'}\n",
      "{'latex': 'B\\\\colon {\\\\mathfrak {g}}\\\\times {\\\\mathfrak {g}}\\\\to K', 'id': 'c4a7747d36d738d', 'link': 'https://ko.wikipedia.org/wiki/%ED%82%AC%EB%A7%81_%ED%98%95%EC%8B%9D', 'title': '킬링 형식'}\n",
      "{'latex': 'B(a,b)=\\\\operatorname {tr} \\\\left(\\\\operatorname {ad} (a)\\\\operatorname {ad} (b)\\\\right)', 'id': 'c4a7747d36d738d', 'link': 'https://ko.wikipedia.org/wiki/%ED%82%AC%EB%A7%81_%ED%98%95%EC%8B%9D', 'title': '킬링 형식'}\n",
      "{'latex': '\\\\operatorname {ad} \\\\colon {\\\\mathfrak {g}}\\\\to \\\\operatorname {End} ({\\\\mathfrak {g}};K)', 'id': 'c4a7747d36d738d', 'link': 'https://ko.wikipedia.org/wiki/%ED%82%AC%EB%A7%81_%ED%98%95%EC%8B%9D', 'title': '킬링 형식'}\n",
      "{'latex': '\\\\operatorname {ad} (x)\\\\colon y\\\\mapsto [x,y\\\\}', 'id': 'c4a7747d36d738d', 'link': 'https://ko.wikipedia.org/wiki/%ED%82%AC%EB%A7%81_%ED%98%95%EC%8B%9D', 'title': '킬링 형식'}\n",
      "{'latex': 'B\\\\colon {\\\\mathfrak {g}}\\\\times {\\\\mathfrak {g}}\\\\to K', 'id': 'c4a7747d36d738d', 'link': 'https://ko.wikipedia.org/wiki/%ED%82%AC%EB%A7%81_%ED%98%95%EC%8B%9D', 'title': '킬링 형식'}\n",
      "{'latex': 'B(a,b)=\\\\operatorname {str} \\\\left(\\\\operatorname {ad} (a)\\\\operatorname {ad} (b)\\\\right)', 'id': 'c4a7747d36d738d', 'link': 'https://ko.wikipedia.org/wiki/%ED%82%AC%EB%A7%81_%ED%98%95%EC%8B%9D', 'title': '킬링 형식'}\n",
      "{'latex': '[x_{i},x_{j}]=f_{ij}{}^{k}x_{k}', 'id': 'c4a7747d36d738d', 'link': 'https://ko.wikipedia.org/wiki/%ED%82%AC%EB%A7%81_%ED%98%95%EC%8B%9D', 'title': '킬링 형식'}\n",
      "{'latex': 'B(x_{i},x_{j})=B_{ij}=\\\\sum _{k}\\\\sum _{l}f_{ik}{}^{l}f_{jl}{}^{k}', 'id': 'c4a7747d36d738d', 'link': 'https://ko.wikipedia.org/wiki/%ED%82%AC%EB%A7%81_%ED%98%95%EC%8B%9D', 'title': '킬링 형식'}\n",
      "{'latex': '\\\\operatorname {tr} (XY)=\\\\operatorname {tr} (YX)', 'id': 'c4a7747d36d738d', 'link': 'https://ko.wikipedia.org/wiki/%ED%82%AC%EB%A7%81_%ED%98%95%EC%8B%9D', 'title': '킬링 형식'}\n",
      "{'latex': 'B([x,y],z)=B(x,[y,z])', 'id': 'c4a7747d36d738d', 'link': 'https://ko.wikipedia.org/wiki/%ED%82%AC%EB%A7%81_%ED%98%95%EC%8B%9D', 'title': '킬링 형식'}\n",
      "{'latex': 'B({\\\\mathfrak {g}}_{0},{\\\\mathfrak {g}}_{1})=0', 'id': 'c4a7747d36d738d', 'link': 'https://ko.wikipedia.org/wiki/%ED%82%AC%EB%A7%81_%ED%98%95%EC%8B%9D', 'title': '킬링 형식'}\n",
      "{'latex': 'B(x,y)=(-)^{\\\\deg x\\\\deg y}B(y,x)\\\\qquad \\\\forall x,y\\\\in {\\\\mathfrak {g}}_{0}\\\\cup {\\\\mathfrak {g}}_{1}', 'id': 'c4a7747d36d738d', 'link': 'https://ko.wikipedia.org/wiki/%ED%82%AC%EB%A7%81_%ED%98%95%EC%8B%9D', 'title': '킬링 형식'}\n",
      "{'latex': 'B([x,y\\\\},z)=B(x,[y,z\\\\})\\\\qquad \\\\forall x,y,z\\\\in {\\\\mathfrak {g}}', 'id': 'c4a7747d36d738d', 'link': 'https://ko.wikipedia.org/wiki/%ED%82%AC%EB%A7%81_%ED%98%95%EC%8B%9D', 'title': '킬링 형식'}\n",
      "{'latex': '{\\\\mathfrak {sl}}(n|n)', 'id': 'c4a7747d36d738d', 'link': 'https://ko.wikipedia.org/wiki/%ED%82%AC%EB%A7%81_%ED%98%95%EC%8B%9D', 'title': '킬링 형식'}\n",
      "{'latex': '{\\\\mathfrak {osp}}(4|2;\\\\alpha )', 'id': 'c4a7747d36d738d', 'link': 'https://ko.wikipedia.org/wiki/%ED%82%AC%EB%A7%81_%ED%98%95%EC%8B%9D', 'title': '킬링 형식'}\n",
      "{'latex': '{\\\\mathfrak {osp}}(2n+2|2n)', 'id': 'c4a7747d36d738d', 'link': 'https://ko.wikipedia.org/wiki/%ED%82%AC%EB%A7%81_%ED%98%95%EC%8B%9D', 'title': '킬링 형식'}\n",
      "{'latex': \"{\\\\mathfrak {g}}'\", 'id': 'c4a7747d36d738d', 'link': 'https://ko.wikipedia.org/wiki/%ED%82%AC%EB%A7%81_%ED%98%95%EC%8B%9D', 'title': '킬링 형식'}\n",
      "{'latex': \"{\\\\mathfrak {g}}\\\\oplus {\\\\mathfrak {g}}'\", 'id': 'c4a7747d36d738d', 'link': 'https://ko.wikipedia.org/wiki/%ED%82%AC%EB%A7%81_%ED%98%95%EC%8B%9D', 'title': '킬링 형식'}\n",
      "{'latex': \"B_{{\\\\mathfrak {g}}\\\\oplus {\\\\mathfrak {g}}'}(x\\\\oplus x',y\\\\oplus y')=B_{\\\\mathfrak {g}}(x,y)+B_{\\\\mathfrak {h}}(x',y')\\\\qquad (x,y\\\\in {\\\\mathfrak {g}},\\\\;x',y'\\\\in {\\\\mathfrak {g}}')\", 'id': 'c4a7747d36d738d', 'link': 'https://ko.wikipedia.org/wiki/%ED%82%AC%EB%A7%81_%ED%98%95%EC%8B%9D', 'title': '킬링 형식'}\n",
      "{'latex': '\\\\operatorname {\\\\mathfrak {gl}} (n;K)', 'id': 'c4a7747d36d738d', 'link': 'https://ko.wikipedia.org/wiki/%ED%82%AC%EB%A7%81_%ED%98%95%EC%8B%9D', 'title': '킬링 형식'}\n",
      "{'latex': 'B_{{\\\\mathfrak {gl}}(n)}(X,Y)=2n\\\\operatorname {tr} (XY)-2\\\\operatorname {tr} (X)\\\\operatorname {tr} (Y)', 'id': 'c4a7747d36d738d', 'link': 'https://ko.wikipedia.org/wiki/%ED%82%AC%EB%A7%81_%ED%98%95%EC%8B%9D', 'title': '킬링 형식'}\n",
      "{'latex': '\\\\operatorname {\\\\mathfrak {sl}} (n;K)', 'id': 'c4a7747d36d738d', 'link': 'https://ko.wikipedia.org/wiki/%ED%82%AC%EB%A7%81_%ED%98%95%EC%8B%9D', 'title': '킬링 형식'}\n",
      "{'latex': 'B_{{\\\\mathfrak {sl}}(n)}(X,Y)=2n\\\\operatorname {tr} (XY)', 'id': 'c4a7747d36d738d', 'link': 'https://ko.wikipedia.org/wiki/%ED%82%AC%EB%A7%81_%ED%98%95%EC%8B%9D', 'title': '킬링 형식'}\n",
      "{'latex': '(e_{ij})_{1\\\\leq i,j\\\\leq n}', 'id': 'c4a7747d36d738d', 'link': 'https://ko.wikipedia.org/wiki/%ED%82%AC%EB%A7%81_%ED%98%95%EC%8B%9D', 'title': '킬링 형식'}\n",
      "{'latex': '[M,e_{ij}]_{ab}=\\\\delta _{jb}M_{ai}-\\\\delta _{ia}M_{jb}', 'id': 'c4a7747d36d738d', 'link': 'https://ko.wikipedia.org/wiki/%ED%82%AC%EB%A7%81_%ED%98%95%EC%8B%9D', 'title': '킬링 형식'}\n",
      "{'latex': '[M,[N,e_{ij}]]+[e_{ij},[M,N]]+[N,[e_{ij},M]]=0', 'id': 'c4a7747d36d738d', 'link': 'https://ko.wikipedia.org/wiki/%ED%82%AC%EB%A7%81_%ED%98%95%EC%8B%9D', 'title': '킬링 형식'}\n",
      "{'latex': 'c_{ij}=([M,[N,e_{ij}])_{ij}', 'id': 'c4a7747d36d738d', 'link': 'https://ko.wikipedia.org/wiki/%ED%82%AC%EB%A7%81_%ED%98%95%EC%8B%9D', 'title': '킬링 형식'}\n",
      "{'latex': 'B(M,N)=\\\\sum _{ij}c_{ij}', 'id': 'c4a7747d36d738d', 'link': 'https://ko.wikipedia.org/wiki/%ED%82%AC%EB%A7%81_%ED%98%95%EC%8B%9D', 'title': '킬링 형식'}\n",
      "{'latex': 'c_{ij}=\\\\left(\\\\sum _{a=1}^{n}M_{ia}N_{ai}\\\\right)-M_{ii}N_{jj}-N_{ii}M_{jj}+\\\\left(\\\\sum _{a=1}^{n}N_{ja}M_{aj}\\\\right)', 'id': 'c4a7747d36d738d', 'link': 'https://ko.wikipedia.org/wiki/%ED%82%AC%EB%A7%81_%ED%98%95%EC%8B%9D', 'title': '킬링 형식'}\n",
      "{'latex': 'B(M,N)=\\\\sum _{i,j=1}^{n}\\\\left(\\\\left(\\\\sum _{a=1}^{n}M_{ia}N_{ai}\\\\right)-M_{ii}N_{jj}-N_{ii}M_{jj}+\\\\left(\\\\sum _{a=1}^{n}N_{ja}M_{aj}\\\\right)\\\\right)=2n\\\\operatorname {tr} (MN)-2\\\\operatorname {tr} M\\\\operatorname {tr} N', 'id': 'c4a7747d36d738d', 'link': 'https://ko.wikipedia.org/wiki/%ED%82%AC%EB%A7%81_%ED%98%95%EC%8B%9D', 'title': '킬링 형식'}\n",
      "{'latex': '{\\\\mathfrak {sl}}(n;K)\\\\oplus K\\\\cong {\\\\mathfrak {gl}}(n;K)', 'id': 'c4a7747d36d738d', 'link': 'https://ko.wikipedia.org/wiki/%ED%82%AC%EB%A7%81_%ED%98%95%EC%8B%9D', 'title': '킬링 형식'}\n",
      "{'latex': 'f\\\\colon \\\\mathbb {S} ^{3}\\\\to G', 'id': 'c4a7747d36d738d', 'link': 'https://ko.wikipedia.org/wiki/%ED%82%AC%EB%A7%81_%ED%98%95%EC%8B%9D', 'title': '킬링 형식'}\n",
      "{'latex': '\\\\operatorname {cl} X', 'id': '656a29b7c1c525d', 'link': 'https://ko.wikipedia.org/wiki/%EB%8B%AB%ED%9E%98_(%EC%88%98%ED%95%99)', 'title': '폐포 (수학)'}\n",
      "{'latex': 'S\\\\cup \\\\{\\\\bullet \\\\}', 'id': '656a29b7c1c525d', 'link': 'https://ko.wikipedia.org/wiki/%EB%8B%AB%ED%9E%98_(%EC%88%98%ED%95%99)', 'title': '폐포 (수학)'}\n",
      "{'latex': '{\\\\operatorname {Ord} }+1', 'id': '656a29b7c1c525d', 'link': 'https://ko.wikipedia.org/wiki/%EB%8B%AB%ED%9E%98_(%EC%88%98%ED%95%99)', 'title': '폐포 (수학)'}\n",
      "{'latex': 'R\\\\subset (S\\\\cup \\\\{\\\\bullet \\\\})^{\\\\times ({\\\\operatorname {Ord} }+1)}', 'id': '656a29b7c1c525d', 'link': 'https://ko.wikipedia.org/wiki/%EB%8B%AB%ED%9E%98_(%EC%88%98%ED%95%99)', 'title': '폐포 (수학)'}\n",
      "{'latex': 'r_{\\\\operatorname {Ord} }\\\\in S', 'id': '656a29b7c1c525d', 'link': 'https://ko.wikipedia.org/wiki/%EB%8B%AB%ED%9E%98_(%EC%88%98%ED%95%99)', 'title': '폐포 (수학)'}\n",
      "{'latex': 'r_{\\\\alpha }\\\\not \\\\in S\\\\implies r_{\\\\beta }\\\\not \\\\in S\\\\forall \\\\alpha <\\\\beta <\\\\operatorname {Ord} ', 'id': '656a29b7c1c525d', 'link': 'https://ko.wikipedia.org/wiki/%EB%8B%AB%ED%9E%98_(%EC%88%98%ED%95%99)', 'title': '폐포 (수학)'}\n",
      "{'latex': '\\\\alpha <\\\\operatorname {Ord} ', 'id': '656a29b7c1c525d', 'link': 'https://ko.wikipedia.org/wiki/%EB%8B%AB%ED%9E%98_(%EC%88%98%ED%95%99)', 'title': '폐포 (수학)'}\n",
      "{'latex': '\\\\min\\\\{\\\\beta \\\\colon r_{\\\\beta }\\\\not \\\\in S\\\\}=\\\\alpha ', 'id': '656a29b7c1c525d', 'link': 'https://ko.wikipedia.org/wiki/%EB%8B%AB%ED%9E%98_(%EC%88%98%ED%95%99)', 'title': '폐포 (수학)'}\n",
      "{'latex': '{\\\\operatorname {Ord} }+1', 'id': '656a29b7c1c525d', 'link': 'https://ko.wikipedia.org/wiki/%EB%8B%AB%ED%9E%98_(%EC%88%98%ED%95%99)', 'title': '폐포 (수학)'}\n",
      "{'latex': '(t_{\\\\alpha })_{\\\\alpha <\\\\operatorname {Ord} }\\\\subset T\\\\cup \\\\{\\\\bullet \\\\}', 'id': '656a29b7c1c525d', 'link': 'https://ko.wikipedia.org/wiki/%EB%8B%AB%ED%9E%98_(%EC%88%98%ED%95%99)', 'title': '폐포 (수학)'}\n",
      "{'latex': 't_{\\\\operatorname {Ord} }\\\\in S', 'id': '656a29b7c1c525d', 'link': 'https://ko.wikipedia.org/wiki/%EB%8B%AB%ED%9E%98_(%EC%88%98%ED%95%99)', 'title': '폐포 (수학)'}\n",
      "{'latex': '(t_{\\\\alpha })_{\\\\alpha \\\\leq \\\\operatorname {Ord} }\\\\in R', 'id': '656a29b7c1c525d', 'link': 'https://ko.wikipedia.org/wiki/%EB%8B%AB%ED%9E%98_(%EC%88%98%ED%95%99)', 'title': '폐포 (수학)'}\n",
      "{'latex': 't_{\\\\operatorname {Ord} }\\\\in T', 'id': '656a29b7c1c525d', 'link': 'https://ko.wikipedia.org/wiki/%EB%8B%AB%ED%9E%98_(%EC%88%98%ED%95%99)', 'title': '폐포 (수학)'}\n",
      "{'latex': 'S\\\\cup \\\\{\\\\bullet \\\\}', 'id': '656a29b7c1c525d', 'link': 'https://ko.wikipedia.org/wiki/%EB%8B%AB%ED%9E%98_(%EC%88%98%ED%95%99)', 'title': '폐포 (수학)'}\n",
      "{'latex': '{\\\\operatorname {Ord} }+1', 'id': '656a29b7c1c525d', 'link': 'https://ko.wikipedia.org/wiki/%EB%8B%AB%ED%9E%98_(%EC%88%98%ED%95%99)', 'title': '폐포 (수학)'}\n",
      "{'latex': '\\\\bigcup {\\\\mathcal {R}}', 'id': '656a29b7c1c525d', 'link': 'https://ko.wikipedia.org/wiki/%EB%8B%AB%ED%9E%98_(%EC%88%98%ED%95%99)', 'title': '폐포 (수학)'}\n",
      "{'latex': 'R\\\\in {\\\\mathcal {R}}', 'id': '656a29b7c1c525d', 'link': 'https://ko.wikipedia.org/wiki/%EB%8B%AB%ED%9E%98_(%EC%88%98%ED%95%99)', 'title': '폐포 (수학)'}\n",
      "{'latex': '\\\\operatorname {cl} _{P}T', 'id': '656a29b7c1c525d', 'link': 'https://ko.wikipedia.org/wiki/%EB%8B%AB%ED%9E%98_(%EC%88%98%ED%95%99)', 'title': '폐포 (수학)'}\n",
      "{'latex': 'T\\\\subset \\\\operatorname {cl} _{P}T\\\\in P', 'id': '656a29b7c1c525d', 'link': 'https://ko.wikipedia.org/wiki/%EB%8B%AB%ED%9E%98_(%EC%88%98%ED%95%99)', 'title': '폐포 (수학)'}\n",
      "{'latex': 'T\\\\subset U\\\\in P', 'id': '656a29b7c1c525d', 'link': 'https://ko.wikipedia.org/wiki/%EB%8B%AB%ED%9E%98_(%EC%88%98%ED%95%99)', 'title': '폐포 (수학)'}\n",
      "{'latex': '\\\\operatorname {cl} _{P}T\\\\subset U', 'id': '656a29b7c1c525d', 'link': 'https://ko.wikipedia.org/wiki/%EB%8B%AB%ED%9E%98_(%EC%88%98%ED%95%99)', 'title': '폐포 (수학)'}\n",
      "{'latex': '|X|+1', 'id': '656a29b7c1c525d', 'link': 'https://ko.wikipedia.org/wiki/%EB%8B%AB%ED%9E%98_(%EC%88%98%ED%95%99)', 'title': '폐포 (수학)'}\n",
      "{'latex': 'x_{0},x_{1},\\\\dots ,x_{|X|}\\\\in X', 'id': '656a29b7c1c525d', 'link': 'https://ko.wikipedia.org/wiki/%EB%8B%AB%ED%9E%98_(%EC%88%98%ED%95%99)', 'title': '폐포 (수학)'}\n",
      "{'latex': '(x_{0},x_{1},\\\\dots ,x_{|X|})\\\\in R\\\\iff x_{|X|}\\\\in \\\\operatorname {acc\\\\,pt} _{2}(\\\\{x_{\\\\alpha }\\\\}_{\\\\alpha <|X|})', 'id': '656a29b7c1c525d', 'link': 'https://ko.wikipedia.org/wiki/%EB%8B%AB%ED%9E%98_(%EC%88%98%ED%95%99)', 'title': '폐포 (수학)'}\n",
      "{'latex': '\\\\operatorname {acc\\\\,pt} _{2}', 'id': '656a29b7c1c525d', 'link': 'https://ko.wikipedia.org/wiki/%EB%8B%AB%ED%9E%98_(%EC%88%98%ED%95%99)', 'title': '폐포 (수학)'}\n",
      "{'latex': 'Y\\\\subset \\\\operatorname {cl} Y\\\\subset X', 'id': '656a29b7c1c525d', 'link': 'https://ko.wikipedia.org/wiki/%EB%8B%AB%ED%9E%98_(%EC%88%98%ED%95%99)', 'title': '폐포 (수학)'}\n",
      "{'latex': 'x_{0},x_{1},\\\\dots ,x_{\\\\omega }\\\\in X', 'id': '656a29b7c1c525d', 'link': 'https://ko.wikipedia.org/wiki/%EB%8B%AB%ED%9E%98_(%EC%88%98%ED%95%99)', 'title': '폐포 (수학)'}\n",
      "{'latex': '(x_{0},x_{1},\\\\dots ,x_{\\\\omega })\\\\in R\\\\iff x_{n}\\\\to x_{\\\\omega }', 'id': '656a29b7c1c525d', 'link': 'https://ko.wikipedia.org/wiki/%EB%8B%AB%ED%9E%98_(%EC%88%98%ED%95%99)', 'title': '폐포 (수학)'}\n",
      "{'latex': '\\\\{1_{G},\\\\cdot ,{}^{-1}\\\\}', 'id': '656a29b7c1c525d', 'link': 'https://ko.wikipedia.org/wiki/%EB%8B%AB%ED%9E%98_(%EC%88%98%ED%95%99)', 'title': '폐포 (수학)'}\n",
      "{'latex': 'S\\\\subset \\\\langle S\\\\rangle \\\\subset G', 'id': '656a29b7c1c525d', 'link': 'https://ko.wikipedia.org/wiki/%EB%8B%AB%ED%9E%98_(%EC%88%98%ED%95%99)', 'title': '폐포 (수학)'}\n",
      "{'latex': '{\\\\bar {L}}', 'id': '656a29b7c1c525d', 'link': 'https://ko.wikipedia.org/wiki/%EB%8B%AB%ED%9E%98_(%EC%88%98%ED%95%99)', 'title': '폐포 (수학)'}\n",
      "{'latex': 'K/{\\\\bar {L}}/L', 'id': '656a29b7c1c525d', 'link': 'https://ko.wikipedia.org/wiki/%EB%8B%AB%ED%9E%98_(%EC%88%98%ED%95%99)', 'title': '폐포 (수학)'}\n",
      "{'latex': 'X\\\\subset \\\\operatorname {cl_{trn}} X\\\\subset V', 'id': '656a29b7c1c525d', 'link': 'https://ko.wikipedia.org/wiki/%EB%8B%AB%ED%9E%98_(%EC%88%98%ED%95%99)', 'title': '폐포 (수학)'}\n",
      "{'latex': 'R\\\\subset S\\\\times S', 'id': '656a29b7c1c525d', 'link': 'https://ko.wikipedia.org/wiki/%EB%8B%AB%ED%9E%98_(%EC%88%98%ED%95%99)', 'title': '폐포 (수학)'}\n",
      "{'latex': 'S\\\\times S', 'id': '656a29b7c1c525d', 'link': 'https://ko.wikipedia.org/wiki/%EB%8B%AB%ED%9E%98_(%EC%88%98%ED%95%99)', 'title': '폐포 (수학)'}\n",
      "{'latex': '\\\\{(s,s)|s\\\\in S\\\\}\\\\subset S\\\\times S', 'id': '656a29b7c1c525d', 'link': 'https://ko.wikipedia.org/wiki/%EB%8B%AB%ED%9E%98_(%EC%88%98%ED%95%99)', 'title': '폐포 (수학)'}\n",
      "{'latex': '\\\\{(s,s)|s\\\\in S\\\\}\\\\subset R', 'id': '656a29b7c1c525d', 'link': 'https://ko.wikipedia.org/wiki/%EB%8B%AB%ED%9E%98_(%EC%88%98%ED%95%99)', 'title': '폐포 (수학)'}\n",
      "{'latex': 'R\\\\subset S\\\\times S', 'id': '656a29b7c1c525d', 'link': 'https://ko.wikipedia.org/wiki/%EB%8B%AB%ED%9E%98_(%EC%88%98%ED%95%99)', 'title': '폐포 (수학)'}\n",
      "{'latex': 'R\\\\subset \\\\operatorname {cl_{ref}} R\\\\subset S\\\\times S', 'id': '656a29b7c1c525d', 'link': 'https://ko.wikipedia.org/wiki/%EB%8B%AB%ED%9E%98_(%EC%88%98%ED%95%99)', 'title': '폐포 (수학)'}\n",
      "{'latex': 'A={\\\\frac {3{\\\\sqrt {3}}}{2}}a^{2}\\\\simeq 2.59808a^{2}', 'id': '0f3d9794ed69434', 'link': 'https://ko.wikipedia.org/wiki/%EC%A0%95%EC%9C%A1%EA%B0%81%ED%98%95', 'title': '육각형'}\n",
      "{'latex': '\\\\omega \\\\in \\\\Omega ^{k+1}(M)', 'id': '054fe3de8658684', 'link': 'https://ko.wikipedia.org/wiki/%EB%A9%80%ED%8B%B0%EC%8B%AC%ED%94%8C%EB%A0%89%ED%8B%B1_%EB%8B%A4%EC%96%91%EC%B2%B4', 'title': '멀티심플렉틱 다양체'}\n",
      "{'latex': 'v\\\\in \\\\mathrm {T} _{x}M\\\\setminus \\\\{0\\\\}', 'id': '054fe3de8658684', 'link': 'https://ko.wikipedia.org/wiki/%EB%A9%80%ED%8B%B0%EC%8B%AC%ED%94%8C%EB%A0%89%ED%8B%B1_%EB%8B%A4%EC%96%91%EC%B2%B4', 'title': '멀티심플렉틱 다양체'}\n",
      "{'latex': 'v\\\\lrcorner \\\\omega _{x}\\\\neq 0\\\\in \\\\textstyle \\\\bigwedge ^{k}\\\\mathrm {T} _{x}^{*}M', 'id': '054fe3de8658684', 'link': 'https://ko.wikipedia.org/wiki/%EB%A9%80%ED%8B%B0%EC%8B%AC%ED%94%8C%EB%A0%89%ED%8B%B1_%EB%8B%A4%EC%96%91%EC%B2%B4', 'title': '멀티심플렉틱 다양체'}\n",
      "{'latex': '\\\\lrcorner \\\\colon \\\\mathrm {T} _{x}M\\\\times \\\\bigwedge ^{k+1}\\\\mathrm {T} ^{*}M\\\\to \\\\bigwedge ^{k}\\\\mathrm {T} ^{*}M', 'id': '054fe3de8658684', 'link': 'https://ko.wikipedia.org/wiki/%EB%A9%80%ED%8B%B0%EC%8B%AC%ED%94%8C%EB%A0%89%ED%8B%B1_%EB%8B%A4%EC%96%91%EC%B2%B4', 'title': '멀티심플렉틱 다양체'}\n",
      "{'latex': 'k+1\\\\leq n\\\\leq {\\\\binom {n}{k}}', 'id': '054fe3de8658684', 'link': 'https://ko.wikipedia.org/wiki/%EB%A9%80%ED%8B%B0%EC%8B%AC%ED%94%8C%EB%A0%89%ED%8B%B1_%EB%8B%A4%EC%96%91%EC%B2%B4', 'title': '멀티심플렉틱 다양체'}\n",
      "{'latex': '\\\\textstyle \\\\bigwedge ^{k}\\\\mathrm {T} _{x}^{*}M', 'id': '054fe3de8658684', 'link': 'https://ko.wikipedia.org/wiki/%EB%A9%80%ED%8B%B0%EC%8B%AC%ED%94%8C%EB%A0%89%ED%8B%B1_%EB%8B%A4%EC%96%91%EC%B2%B4', 'title': '멀티심플렉틱 다양체'}\n",
      "{'latex': '\\\\mathrm {T} _{x}M', 'id': '054fe3de8658684', 'link': 'https://ko.wikipedia.org/wiki/%EB%A9%80%ED%8B%B0%EC%8B%AC%ED%94%8C%EB%A0%89%ED%8B%B1_%EB%8B%A4%EC%96%91%EC%B2%B4', 'title': '멀티심플렉틱 다양체'}\n",
      "{'latex': 'n\\\\geq 6', 'id': '054fe3de8658684', 'link': 'https://ko.wikipedia.org/wiki/%EB%A9%80%ED%8B%B0%EC%8B%AC%ED%94%8C%EB%A0%89%ED%8B%B1_%EB%8B%A4%EC%96%91%EC%B2%B4', 'title': '멀티심플렉틱 다양체'}\n",
      "{'latex': 'n-4', 'id': '054fe3de8658684', 'link': 'https://ko.wikipedia.org/wiki/%EB%A9%80%ED%8B%B0%EC%8B%AC%ED%94%8C%EB%A0%89%ED%8B%B1_%EB%8B%A4%EC%96%91%EC%B2%B4', 'title': '멀티심플렉틱 다양체'}\n",
      "{'latex': '\\\\alpha \\\\in \\\\Omega ^{k-1}(M)', 'id': '054fe3de8658684', 'link': 'https://ko.wikipedia.org/wiki/%EB%A9%80%ED%8B%B0%EC%8B%AC%ED%94%8C%EB%A0%89%ED%8B%B1_%EB%8B%A4%EC%96%91%EC%B2%B4', 'title': '멀티심플렉틱 다양체'}\n",
      "{'latex': '\\\\exists X\\\\in \\\\operatorname {Vect} (M)\\\\colon \\\\mathrm {d} \\\\alpha =X\\\\lrcorner \\\\omega ', 'id': '054fe3de8658684', 'link': 'https://ko.wikipedia.org/wiki/%EB%A9%80%ED%8B%B0%EC%8B%AC%ED%94%8C%EB%A0%89%ED%8B%B1_%EB%8B%A4%EC%96%91%EC%B2%B4', 'title': '멀티심플렉틱 다양체'}\n",
      "{'latex': '\\\\Omega _{\\\\operatorname {Ham} }^{k-1}(M)', 'id': '054fe3de8658684', 'link': 'https://ko.wikipedia.org/wiki/%EB%A9%80%ED%8B%B0%EC%8B%AC%ED%94%8C%EB%A0%89%ED%8B%B1_%EB%8B%A4%EC%96%91%EC%B2%B4', 'title': '멀티심플렉틱 다양체'}\n",
      "{'latex': 'L=\\\\bigoplus _{i=0}^{n-1}L_{i}', 'id': '054fe3de8658684', 'link': 'https://ko.wikipedia.org/wiki/%EB%A9%80%ED%8B%B0%EC%8B%AC%ED%94%8C%EB%A0%89%ED%8B%B1_%EB%8B%A4%EC%96%91%EC%B2%B4', 'title': '멀티심플렉틱 다양체'}\n",
      "{'latex': 'L_{0}=\\\\Omega _{\\\\operatorname {Ham} }^{k-1}(M)', 'id': '054fe3de8658684', 'link': 'https://ko.wikipedia.org/wiki/%EB%A9%80%ED%8B%B0%EC%8B%AC%ED%94%8C%EB%A0%89%ED%8B%B1_%EB%8B%A4%EC%96%91%EC%B2%B4', 'title': '멀티심플렉틱 다양체'}\n",
      "{'latex': 'L_{i}=\\\\Omega ^{k-1-i}(M)\\\\qquad (i\\\\in \\\\{1,2,\\\\dotsc ,n-1\\\\}', 'id': '054fe3de8658684', 'link': 'https://ko.wikipedia.org/wiki/%EB%A9%80%ED%8B%B0%EC%8B%AC%ED%94%8C%EB%A0%89%ED%8B%B1_%EB%8B%A4%EC%96%91%EC%B2%B4', 'title': '멀티심플렉틱 다양체'}\n",
      "{'latex': '[\\\\alpha ]=\\\\mathrm {d} \\\\alpha \\\\qquad \\\\forall \\\\alpha \\\\in L,\\\\;\\\\deg \\\\alpha >0', 'id': '054fe3de8658684', 'link': 'https://ko.wikipedia.org/wiki/%EB%A9%80%ED%8B%B0%EC%8B%AC%ED%94%8C%EB%A0%89%ED%8B%B1_%EB%8B%A4%EC%96%91%EC%B2%B4', 'title': '멀티심플렉틱 다양체'}\n",
      "{'latex': '[\\\\alpha _{1},\\\\dotsc ,\\\\alpha _{p}]=(-)^{1+\\\\lceil p/2\\\\rceil }(X_{1}\\\\wedge \\\\dotsb \\\\wedge X_{p})\\\\lrcorner \\\\omega \\\\qquad (\\\\alpha _{1},\\\\dotsc ,\\\\alpha _{k}\\\\in \\\\Omega _{\\\\operatorname {Ham} }^{k-1}(M),\\\\;\\\\forall i\\\\colon \\\\mathrm {d} \\\\alpha _{i}=X_{i}\\\\lrcorner \\\\omega )', 'id': '054fe3de8658684', 'link': 'https://ko.wikipedia.org/wiki/%EB%A9%80%ED%8B%B0%EC%8B%AC%ED%94%8C%EB%A0%89%ED%8B%B1_%EB%8B%A4%EC%96%91%EC%B2%B4', 'title': '멀티심플렉틱 다양체'}\n",
      "{'latex': 'M=M_{1}\\\\times M_{2}', 'id': '054fe3de8658684', 'link': 'https://ko.wikipedia.org/wiki/%EB%A9%80%ED%8B%B0%EC%8B%AC%ED%94%8C%EB%A0%89%ED%8B%B1_%EB%8B%A4%EC%96%91%EC%B2%B4', 'title': '멀티심플렉틱 다양체'}\n",
      "{'latex': '\\\\pi _{i}\\\\colon M\\\\twoheadrightarrow M_{i}', 'id': '054fe3de8658684', 'link': 'https://ko.wikipedia.org/wiki/%EB%A9%80%ED%8B%B0%EC%8B%AC%ED%94%8C%EB%A0%89%ED%8B%B1_%EB%8B%A4%EC%96%91%EC%B2%B4', 'title': '멀티심플렉틱 다양체'}\n",
      "{'latex': '\\\\omega =\\\\pi _{1}^{*}\\\\omega _{1}+\\\\pi _{2}^{*}\\\\omega _{2}', 'id': '054fe3de8658684', 'link': 'https://ko.wikipedia.org/wiki/%EB%A9%80%ED%8B%B0%EC%8B%AC%ED%94%8C%EB%A0%89%ED%8B%B1_%EB%8B%A4%EC%96%91%EC%B2%B4', 'title': '멀티심플렉틱 다양체'}\n",
      "{'latex': 'x=(x_{1},x_{2})\\\\in M', 'id': '054fe3de8658684', 'link': 'https://ko.wikipedia.org/wiki/%EB%A9%80%ED%8B%B0%EC%8B%AC%ED%94%8C%EB%A0%89%ED%8B%B1_%EB%8B%A4%EC%96%91%EC%B2%B4', 'title': '멀티심플렉틱 다양체'}\n",
      "{'latex': 'v=(v_{1},v_{2})\\\\in \\\\mathrm {T} _{x}M=\\\\mathrm {T} _{x_{1}}M_{1}\\\\oplus \\\\mathrm {T} _{x_{2}}M_{2}', 'id': '054fe3de8658684', 'link': 'https://ko.wikipedia.org/wiki/%EB%A9%80%ED%8B%B0%EC%8B%AC%ED%94%8C%EB%A0%89%ED%8B%B1_%EB%8B%A4%EC%96%91%EC%B2%B4', 'title': '멀티심플렉틱 다양체'}\n",
      "{'latex': 'v\\\\lrcorner \\\\omega =v_{1}\\\\lrcorner \\\\omega _{1}+v_{2}\\\\lrcorner \\\\omega _{2}', 'id': '054fe3de8658684', 'link': 'https://ko.wikipedia.org/wiki/%EB%A9%80%ED%8B%B0%EC%8B%AC%ED%94%8C%EB%A0%89%ED%8B%B1_%EB%8B%A4%EC%96%91%EC%B2%B4', 'title': '멀티심플렉틱 다양체'}\n",
      "{'latex': 'M_{1}', 'id': '054fe3de8658684', 'link': 'https://ko.wikipedia.org/wiki/%EB%A9%80%ED%8B%B0%EC%8B%AC%ED%94%8C%EB%A0%89%ED%8B%B1_%EB%8B%A4%EC%96%91%EC%B2%B4', 'title': '멀티심플렉틱 다양체'}\n",
      "{'latex': '{\\\\mathfrak {g}}={\\\\mathfrak {lie}}(G)', 'id': '054fe3de8658684', 'link': 'https://ko.wikipedia.org/wiki/%EB%A9%80%ED%8B%B0%EC%8B%AC%ED%94%8C%EB%A0%89%ED%8B%B1_%EB%8B%A4%EC%96%91%EC%B2%B4', 'title': '멀티심플렉틱 다양체'}\n",
      "{'latex': '{\\\\mathfrak {string}}({\\\\mathfrak {g}})={\\\\mathfrak {g}}\\\\oplus \\\\mathbb {R} [1]', 'id': '054fe3de8658684', 'link': 'https://ko.wikipedia.org/wiki/%EB%A9%80%ED%8B%B0%EC%8B%AC%ED%94%8C%EB%A0%89%ED%8B%B1_%EB%8B%A4%EC%96%91%EC%B2%B4', 'title': '멀티심플렉틱 다양체'}\n",
      "{'latex': '[x,y,z]=\\\\mu (x,y,z)\\\\in \\\\mathbb {R} [1]\\\\qquad \\\\forall x,y,z\\\\in {\\\\mathfrak {g}}', 'id': '054fe3de8658684', 'link': 'https://ko.wikipedia.org/wiki/%EB%A9%80%ED%8B%B0%EC%8B%AC%ED%94%8C%EB%A0%89%ED%8B%B1_%EB%8B%A4%EC%96%91%EC%B2%B4', 'title': '멀티심플렉틱 다양체'}\n",
      "{'latex': 'L(G)=\\\\Omega _{\\\\operatorname {Ham} }^{1}(G)\\\\oplus \\\\Omega ^{0}(G)[1]', 'id': '054fe3de8658684', 'link': 'https://ko.wikipedia.org/wiki/%EB%A9%80%ED%8B%B0%EC%8B%AC%ED%94%8C%EB%A0%89%ED%8B%B1_%EB%8B%A4%EC%96%91%EC%B2%B4', 'title': '멀티심플렉틱 다양체'}\n",
      "{'latex': 'L(G)^{G}=\\\\Omega _{\\\\operatorname {Ham} }^{1}(G)^{G}\\\\oplus \\\\Omega ^{0}(G)^{G}[1]', 'id': '054fe3de8658684', 'link': 'https://ko.wikipedia.org/wiki/%EB%A9%80%ED%8B%B0%EC%8B%AC%ED%94%8C%EB%A0%89%ED%8B%B1_%EB%8B%A4%EC%96%91%EC%B2%B4', 'title': '멀티심플렉틱 다양체'}\n",
      "{'latex': '\\\\Omega _{\\\\operatorname {Ham} }^{1}(G)^{G}\\\\cong {\\\\mathfrak {g}}^{*}\\\\cong {\\\\mathfrak {g}}', 'id': '054fe3de8658684', 'link': 'https://ko.wikipedia.org/wiki/%EB%A9%80%ED%8B%B0%EC%8B%AC%ED%94%8C%EB%A0%89%ED%8B%B1_%EB%8B%A4%EC%96%91%EC%B2%B4', 'title': '멀티심플렉틱 다양체'}\n",
      "{'latex': '\\\\Omega ^{0}(G)^{G}\\\\cong \\\\mathbb {R} ', 'id': '054fe3de8658684', 'link': 'https://ko.wikipedia.org/wiki/%EB%A9%80%ED%8B%B0%EC%8B%AC%ED%94%8C%EB%A0%89%ED%8B%B1_%EB%8B%A4%EC%96%91%EC%B2%B4', 'title': '멀티심플렉틱 다양체'}\n",
      "{'latex': '\\\\omega _{1},\\\\omega _{2},\\\\omega _{3}', 'id': '054fe3de8658684', 'link': 'https://ko.wikipedia.org/wiki/%EB%A9%80%ED%8B%B0%EC%8B%AC%ED%94%8C%EB%A0%89%ED%8B%B1_%EB%8B%A4%EC%96%91%EC%B2%B4', 'title': '멀티심플렉틱 다양체'}\n",
      "{'latex': '\\\\omega _{1}\\\\wedge \\\\omega _{1}+\\\\omega _{2}\\\\wedge \\\\omega _{2}+\\\\omega _{3}\\\\wedge \\\\omega _{3}', 'id': '054fe3de8658684', 'link': 'https://ko.wikipedia.org/wiki/%EB%A9%80%ED%8B%B0%EC%8B%AC%ED%94%8C%EB%A0%89%ED%8B%B1_%EB%8B%A4%EC%96%91%EC%B2%B4', 'title': '멀티심플렉틱 다양체'}\n",
      "{'latex': '\\\\bigwedge ^{k}\\\\mathrm {T} ^{*}M', 'id': '054fe3de8658684', 'link': 'https://ko.wikipedia.org/wiki/%EB%A9%80%ED%8B%B0%EC%8B%AC%ED%94%8C%EB%A0%89%ED%8B%B1_%EB%8B%A4%EC%96%91%EC%B2%B4', 'title': '멀티심플렉틱 다양체'}\n",
      "{'latex': '\\\\theta \\\\in \\\\Omega ^{k}\\\\left(\\\\bigwedge ^{k}\\\\mathrm {T} _{x}^{*}M\\\\right)', 'id': '054fe3de8658684', 'link': 'https://ko.wikipedia.org/wiki/%EB%A9%80%ED%8B%B0%EC%8B%AC%ED%94%8C%EB%A0%89%ED%8B%B1_%EB%8B%A4%EC%96%91%EC%B2%B4', 'title': '멀티심플렉틱 다양체'}\n",
      "{'latex': '\\\\theta |_{(x,p)}=p_{i_{1}\\\\dotso i_{k}}\\\\,\\\\mathrm {d} x^{i_{1}}\\\\wedge \\\\dotsb \\\\wedge \\\\mathrm {d} x^{i_{k}}\\\\qquad \\\\left(x\\\\in M,\\\\;p\\\\in \\\\bigwedge ^{k}\\\\mathrm {T} _{x}^{*}M\\\\right)', 'id': '054fe3de8658684', 'link': 'https://ko.wikipedia.org/wiki/%EB%A9%80%ED%8B%B0%EC%8B%AC%ED%94%8C%EB%A0%89%ED%8B%B1_%EB%8B%A4%EC%96%91%EC%B2%B4', 'title': '멀티심플렉틱 다양체'}\n",
      "{'latex': '\\\\omega =\\\\mathrm {d} \\\\theta \\\\in \\\\Omega ^{k+1}\\\\left(\\\\bigwedge ^{k}\\\\mathrm {T} _{x}^{*}M\\\\right)', 'id': '054fe3de8658684', 'link': 'https://ko.wikipedia.org/wiki/%EB%A9%80%ED%8B%B0%EC%8B%AC%ED%94%8C%EB%A0%89%ED%8B%B1_%EB%8B%A4%EC%96%91%EC%B2%B4', 'title': '멀티심플렉틱 다양체'}\n",
      "{'latex': '\\\\omega |_{(x,p)}=\\\\mathrm {d} p_{i_{1}\\\\dotso i_{k}}\\\\,\\\\mathrm {d} x^{i_{1}}\\\\wedge \\\\dotsb \\\\wedge \\\\mathrm {d} x^{i_{k}}\\\\qquad \\\\left(x\\\\in M,\\\\;p\\\\in \\\\bigwedge ^{k}\\\\mathrm {T} _{x}^{*}M\\\\right)', 'id': '054fe3de8658684', 'link': 'https://ko.wikipedia.org/wiki/%EB%A9%80%ED%8B%B0%EC%8B%AC%ED%94%8C%EB%A0%89%ED%8B%B1_%EB%8B%A4%EC%96%91%EC%B2%B4', 'title': '멀티심플렉틱 다양체'}\n",
      "{'latex': 'n+\\\\textstyle {\\\\binom {n}{k}}', 'id': '054fe3de8658684', 'link': 'https://ko.wikipedia.org/wiki/%EB%A9%80%ED%8B%B0%EC%8B%AC%ED%94%8C%EB%A0%89%ED%8B%B1_%EB%8B%A4%EC%96%91%EC%B2%B4', 'title': '멀티심플렉틱 다양체'}\n",
      "{'latex': '\\\\textstyle \\\\bigwedge ^{k}\\\\mathrm {T} ^{*}M', 'id': '054fe3de8658684', 'link': 'https://ko.wikipedia.org/wiki/%EB%A9%80%ED%8B%B0%EC%8B%AC%ED%94%8C%EB%A0%89%ED%8B%B1_%EB%8B%A4%EC%96%91%EC%B2%B4', 'title': '멀티심플렉틱 다양체'}\n",
      "{'latex': '\\\\omega \\\\in \\\\Omega ^{k}(\\\\Sigma )', 'id': '054fe3de8658684', 'link': 'https://ko.wikipedia.org/wiki/%EB%A9%80%ED%8B%B0%EC%8B%AC%ED%94%8C%EB%A0%89%ED%8B%B1_%EB%8B%A4%EC%96%91%EC%B2%B4', 'title': '멀티심플렉틱 다양체'}\n",
      "{'latex': '\\\\mathrm {T} \\\\Sigma \\\\otimes _{M\\\\times \\\\Sigma }\\\\mathrm {T} ^{*}M', 'id': '054fe3de8658684', 'link': 'https://ko.wikipedia.org/wiki/%EB%A9%80%ED%8B%B0%EC%8B%AC%ED%94%8C%EB%A0%89%ED%8B%B1_%EB%8B%A4%EC%96%91%EC%B2%B4', 'title': '멀티심플렉틱 다양체'}\n",
      "{'latex': '(x^{\\\\mu },\\\\phi ^{i},\\\\pi _{i}^{\\\\mu })\\\\qquad (x\\\\in \\\\Sigma ,\\\\;\\\\phi \\\\in M,\\\\;\\\\pi \\\\in \\\\mathrm {T} _{x}\\\\Sigma \\\\otimes \\\\mathrm {T} _{x}^{*}M)', 'id': '054fe3de8658684', 'link': 'https://ko.wikipedia.org/wiki/%EB%A9%80%ED%8B%B0%EC%8B%AC%ED%94%8C%EB%A0%89%ED%8B%B1_%EB%8B%A4%EC%96%91%EC%B2%B4', 'title': '멀티심플렉틱 다양체'}\n",
      "{'latex': '\\\\theta =\\\\pi _{i}^{\\\\mu }\\\\mathrm {d} \\\\phi ^{i}\\\\wedge {\\\\frac {\\\\partial }{\\\\partial x^{\\\\mu }}}\\\\lrcorner \\\\omega ', 'id': '054fe3de8658684', 'link': 'https://ko.wikipedia.org/wiki/%EB%A9%80%ED%8B%B0%EC%8B%AC%ED%94%8C%EB%A0%89%ED%8B%B1_%EB%8B%A4%EC%96%91%EC%B2%B4', 'title': '멀티심플렉틱 다양체'}\n",
      "{'latex': '\\\\mathrm {d} \\\\theta =\\\\mathrm {d} \\\\pi _{i}^{\\\\mu }\\\\mathrm {d} \\\\phi ^{i}\\\\wedge {\\\\frac {\\\\partial }{\\\\partial x^{\\\\mu }}}\\\\lrcorner \\\\omega ', 'id': '054fe3de8658684', 'link': 'https://ko.wikipedia.org/wiki/%EB%A9%80%ED%8B%B0%EC%8B%AC%ED%94%8C%EB%A0%89%ED%8B%B1_%EB%8B%A4%EC%96%91%EC%B2%B4', 'title': '멀티심플렉틱 다양체'}\n",
      "{'latex': 'x\\\\in \\\\Sigma ', 'id': '054fe3de8658684', 'link': 'https://ko.wikipedia.org/wiki/%EB%A9%80%ED%8B%B0%EC%8B%AC%ED%94%8C%EB%A0%89%ED%8B%B1_%EB%8B%A4%EC%96%91%EC%B2%B4', 'title': '멀티심플렉틱 다양체'}\n",
      "{'latex': 'v^{\\\\mu }{\\\\frac {\\\\partial }{\\\\partial x^{\\\\mu }}}\\\\in \\\\mathrm {T} _{x}\\\\Sigma ', 'id': '054fe3de8658684', 'link': 'https://ko.wikipedia.org/wiki/%EB%A9%80%ED%8B%B0%EC%8B%AC%ED%94%8C%EB%A0%89%ED%8B%B1_%EB%8B%A4%EC%96%91%EC%B2%B4', 'title': '멀티심플렉틱 다양체'}\n",
      "{'latex': '\\\\chi ^{i}{\\\\frac {\\\\partial }{\\\\partial \\\\phi ^{i}}}\\\\in \\\\mathrm {T} _{\\\\phi }M', 'id': '054fe3de8658684', 'link': 'https://ko.wikipedia.org/wiki/%EB%A9%80%ED%8B%B0%EC%8B%AC%ED%94%8C%EB%A0%89%ED%8B%B1_%EB%8B%A4%EC%96%91%EC%B2%B4', 'title': '멀티심플렉틱 다양체'}\n",
      "{'latex': '\\\\nu _{\\\\mu }^{i}\\\\,\\\\mathrm {d} \\\\pi _{i}^{\\\\mu }\\\\in \\\\mathrm {T} _{\\\\phi }M\\\\otimes \\\\mathrm {T} _{x}^{*}N', 'id': '054fe3de8658684', 'link': 'https://ko.wikipedia.org/wiki/%EB%A9%80%ED%8B%B0%EC%8B%AC%ED%94%8C%EB%A0%89%ED%8B%B1_%EB%8B%A4%EC%96%91%EC%B2%B4', 'title': '멀티심플렉틱 다양체'}\n",
      "{'latex': '(v,\\\\chi ,\\\\nu )\\\\lrcorner \\\\mathrm {d} \\\\theta =\\\\mathrm {d} \\\\pi _{i}^{\\\\mu }\\\\wedge \\\\mathrm {d} \\\\phi ^{i}\\\\wedge v^{\\\\nu }\\\\psi _{\\\\nu \\\\mu }-\\\\chi ^{i}\\\\mathrm {d} \\\\pi _{i}^{\\\\mu }\\\\wedge \\\\psi _{\\\\mu }+\\\\nu _{i}^{\\\\mu }\\\\mathrm {d} \\\\phi ^{i}\\\\wedge \\\\psi _{\\\\mu }', 'id': '054fe3de8658684', 'link': 'https://ko.wikipedia.org/wiki/%EB%A9%80%ED%8B%B0%EC%8B%AC%ED%94%8C%EB%A0%89%ED%8B%B1_%EB%8B%A4%EC%96%91%EC%B2%B4', 'title': '멀티심플렉틱 다양체'}\n",
      "{'latex': '\\\\psi _{\\\\mu }={\\\\frac {\\\\partial }{\\\\partial x^{\\\\nu }}}\\\\lrcorner \\\\omega ', 'id': '054fe3de8658684', 'link': 'https://ko.wikipedia.org/wiki/%EB%A9%80%ED%8B%B0%EC%8B%AC%ED%94%8C%EB%A0%89%ED%8B%B1_%EB%8B%A4%EC%96%91%EC%B2%B4', 'title': '멀티심플렉틱 다양체'}\n",
      "{'latex': '\\\\psi _{\\\\mu \\\\nu }={\\\\frac {\\\\partial }{\\\\partial x^{\\\\mu }}}\\\\lrcorner {\\\\frac {\\\\partial }{\\\\partial x^{\\\\nu }}}\\\\lrcorner \\\\omega ', 'id': '054fe3de8658684', 'link': 'https://ko.wikipedia.org/wiki/%EB%A9%80%ED%8B%B0%EC%8B%AC%ED%94%8C%EB%A0%89%ED%8B%B1_%EB%8B%A4%EC%96%91%EC%B2%B4', 'title': '멀티심플렉틱 다양체'}\n",
      "{'latex': '\\\\psi _{\\\\nu \\\\mu }\\\\neq 0', 'id': '054fe3de8658684', 'link': 'https://ko.wikipedia.org/wiki/%EB%A9%80%ED%8B%B0%EC%8B%AC%ED%94%8C%EB%A0%89%ED%8B%B1_%EB%8B%A4%EC%96%91%EC%B2%B4', 'title': '멀티심플렉틱 다양체'}\n",
      "{'latex': '\\\\pi _{i}^{\\\\mu }', 'id': '054fe3de8658684', 'link': 'https://ko.wikipedia.org/wiki/%EB%A9%80%ED%8B%B0%EC%8B%AC%ED%94%8C%EB%A0%89%ED%8B%B1_%EB%8B%A4%EC%96%91%EC%B2%B4', 'title': '멀티심플렉틱 다양체'}\n",
      "{'latex': '{\\\\mathcal {L}}={{\\\\psi }}(i\\\\gamma ^{\\\\mu }\\\\partial _{\\\\mu }-m)\\\\psi -{\\\\frac {1}{2}}g(\\\\psi \\\\gamma ^{\\\\mu }\\\\psi )^{2}', 'id': '77e840f5bef1b29', 'link': 'https://ko.wikipedia.org/wiki/%ED%8B%B0%EB%A7%81_%EB%AA%A8%ED%98%95', 'title': '티링 모형'}\n",
      "{'latex': '{\\\\begin{bmatrix}{\\\\nu _{e}}\\\\\\\\{\\\\nu _{\\\\mu }}\\\\\\\\{\\\\nu _{\\\\tau }}\\\\end{bmatrix}}={\\\\begin{bmatrix}U_{e1}&U_{e2}&U_{e3}\\\\\\\\U_{\\\\mu 1}&U_{\\\\mu 2}&U_{\\\\mu 3}\\\\\\\\U_{\\\\tau 1}&U_{\\\\tau 2}&U_{\\\\tau 3}\\\\end{bmatrix}}{\\\\begin{bmatrix}\\\\nu _{1}\\\\\\\\\\\\nu _{2}\\\\\\\\\\\\nu _{3}\\\\end{bmatrix}}\\\\ ', 'id': 'f7f6f6d8ca13199', 'link': 'https://ko.wikipedia.org/wiki/%EB%A0%99%ED%86%A4_%EC%84%9E%EC%9E%84', 'title': '렙톤 섞임'}\n",
      "{'latex': 'O\\\\left(\\\\exp \\\\left({\\\\sqrt {2\\\\ln(p\\\\ln(\\\\ln(p))}}\\\\right)\\\\right)', 'id': '5abc7fedb03c347', 'link': 'https://ko.wikipedia.org/wiki/%EC%86%8C%EC%9D%B8%EC%88%98_%EB%B6%84%ED%95%B4', 'title': '소인수분해'}\n",
      "{'latex': '\\\\lim _{n\\\\to \\\\infty }B_{n}^{{1} \\\\over {n}}=e^{\\\\beta }', 'id': '88e49440a52b8bd', 'link': 'https://ko.wikipedia.org/wiki/%EB%A0%88%EB%B9%84_%EC%83%81%EC%88%98', 'title': '레비 상수'}\n",
      "{'latex': '\\\\;\\\\;\\\\;=e^{{\\\\pi ^{2}} \\\\over {12\\\\ln(2)}}', 'id': '88e49440a52b8bd', 'link': 'https://ko.wikipedia.org/wiki/%EB%A0%88%EB%B9%84_%EC%83%81%EC%88%98', 'title': '레비 상수'}\n",
      "{'latex': '\\\\;\\\\;\\\\;=3.275823...(OEISA086702)', 'id': '88e49440a52b8bd', 'link': 'https://ko.wikipedia.org/wiki/%EB%A0%88%EB%B9%84_%EC%83%81%EC%88%98', 'title': '레비 상수'}\n",
      "{'latex': '\\\\beta ={{\\\\pi ^{2}} \\\\over {12\\\\ln(2)}}', 'id': '88e49440a52b8bd', 'link': 'https://ko.wikipedia.org/wiki/%EB%A0%88%EB%B9%84_%EC%83%81%EC%88%98', 'title': '레비 상수'}\n",
      "{'latex': '\\\\;\\\\;\\\\;=1.1865691104....', 'id': '88e49440a52b8bd', 'link': 'https://ko.wikipedia.org/wiki/%EB%A0%88%EB%B9%84_%EC%83%81%EC%88%98', 'title': '레비 상수'}\n",
      "{'latex': '\\\\beta ^{-1}={{12\\\\ln(2)} \\\\over {\\\\pi ^{2}}}', 'id': '88e49440a52b8bd', 'link': 'https://ko.wikipedia.org/wiki/%EB%A0%88%EB%B9%84_%EC%83%81%EC%88%98', 'title': '레비 상수'}\n",
      "{'latex': '\\\\;\\\\;\\\\;=0.8427659....(OEISA089729)', 'id': '88e49440a52b8bd', 'link': 'https://ko.wikipedia.org/wiki/%EB%A0%88%EB%B9%84_%EC%83%81%EC%88%98', 'title': '레비 상수'}\n",
      "{'latex': '', 'id': '88e49440a52b8bd', 'link': 'https://ko.wikipedia.org/wiki/%EB%A0%88%EB%B9%84_%EC%83%81%EC%88%98', 'title': '레비 상수'}\n",
      "{'latex': 'L={{1} \\\\over {2\\\\log _{10}(e^{\\\\beta })}}', 'id': '88e49440a52b8bd', 'link': 'https://ko.wikipedia.org/wiki/%EB%A0%88%EB%B9%84_%EC%83%81%EC%88%98', 'title': '레비 상수'}\n",
      "{'latex': '\\\\qquad e^{\\\\beta }', 'id': '88e49440a52b8bd', 'link': 'https://ko.wikipedia.org/wiki/%EB%A0%88%EB%B9%84_%EC%83%81%EC%88%98', 'title': '레비 상수'}\n",
      "{'latex': '\\\\;\\\\;\\\\;={{\\\\ln 10} \\\\over {2\\\\beta }}', 'id': '88e49440a52b8bd', 'link': 'https://ko.wikipedia.org/wiki/%EB%A0%88%EB%B9%84_%EC%83%81%EC%88%98', 'title': '레비 상수'}\n",
      "{'latex': '\\\\therefore \\\\beta ={{\\\\ln 10} \\\\over {2L}}', 'id': '88e49440a52b8bd', 'link': 'https://ko.wikipedia.org/wiki/%EB%A0%88%EB%B9%84_%EC%83%81%EC%88%98', 'title': '레비 상수'}\n",
      "{'latex': '', 'id': '88e49440a52b8bd', 'link': 'https://ko.wikipedia.org/wiki/%EB%A0%88%EB%B9%84_%EC%83%81%EC%88%98', 'title': '레비 상수'}\n",
      "{'latex': '{\\\\sqrt {152}}=2{\\\\sqrt {38}}', 'id': '203a0eea7014e0b', 'link': 'https://ko.wikipedia.org/wiki/152', 'title': '152'}\n",
      "{'latex': '{\\\\sqrt[{3}]{152}}=2{\\\\sqrt[{3}]{19}}', 'id': '203a0eea7014e0b', 'link': 'https://ko.wikipedia.org/wiki/152', 'title': '152'}\n",
      "{'latex': '(n+1)(n+2)/2', 'id': 'fa9b06265c0f6c9', 'link': 'https://ko.wikipedia.org/wiki/%EA%B0%88%EB%A6%B4%EB%A0%88%EC%9D%B4_%EA%B5%B0', 'title': '갈릴레이 군'}\n",
      "{'latex': '{\\\\mathfrak {gal}}(n+1)', 'id': 'fa9b06265c0f6c9', 'link': 'https://ko.wikipedia.org/wiki/%EA%B0%88%EB%A6%B4%EB%A0%88%EC%9D%B4_%EA%B5%B0', 'title': '갈릴레이 군'}\n",
      "{'latex': 'J_{ij}=-J_{ji}', 'id': 'fa9b06265c0f6c9', 'link': 'https://ko.wikipedia.org/wiki/%EA%B0%88%EB%A6%B4%EB%A0%88%EC%9D%B4_%EA%B5%B0', 'title': '갈릴레이 군'}\n",
      "{'latex': '[H,P_{i}]=[P_{i},P_{j}]=[J_{ij},H]=[C_{i},C_{j}]=[C_{i},P_{j}]=0', 'id': 'fa9b06265c0f6c9', 'link': 'https://ko.wikipedia.org/wiki/%EA%B0%88%EB%A6%B4%EB%A0%88%EC%9D%B4_%EA%B5%B0', 'title': '갈릴레이 군'}\n",
      "{'latex': '[J_{ij},J_{kl}]=i[\\\\delta _{ik}J_{jl}-\\\\delta _{il}J_{jk}-\\\\delta _{jk}J_{il}+\\\\delta _{jl}J_{ik}]', 'id': 'fa9b06265c0f6c9', 'link': 'https://ko.wikipedia.org/wiki/%EA%B0%88%EB%A6%B4%EB%A0%88%EC%9D%B4_%EA%B5%B0', 'title': '갈릴레이 군'}\n",
      "{'latex': '\\\\dim \\\\operatorname {H} ^{2}({\\\\mathfrak {gal}}(3+1))=1', 'id': 'fa9b06265c0f6c9', 'link': 'https://ko.wikipedia.org/wiki/%EA%B0%88%EB%A6%B4%EB%A0%88%EC%9D%B4_%EA%B5%B0', 'title': '갈릴레이 군'}\n",
      "{'latex': '[H,P_{i}]=[P_{i},P_{j}]=[J_{ij},H]=[C_{i},C_{j}]=0', 'id': 'fa9b06265c0f6c9', 'link': 'https://ko.wikipedia.org/wiki/%EA%B0%88%EB%A6%B4%EB%A0%88%EC%9D%B4_%EA%B5%B0', 'title': '갈릴레이 군'}\n",
      "{'latex': '[J_{ij},J_{kl}]=i[\\\\delta _{ik}J_{jl}-\\\\delta _{il}J_{jk}-\\\\delta _{jk}J_{il}+\\\\delta _{jl}J_{ik}]', 'id': 'fa9b06265c0f6c9', 'link': 'https://ko.wikipedia.org/wiki/%EA%B0%88%EB%A6%B4%EB%A0%88%EC%9D%B4_%EA%B5%B0', 'title': '갈릴레이 군'}\n",
      "{'latex': '[C_{i},P_{j}]=iM\\\\delta _{ij}', 'id': 'fa9b06265c0f6c9', 'link': 'https://ko.wikipedia.org/wiki/%EA%B0%88%EB%A6%B4%EB%A0%88%EC%9D%B4_%EA%B5%B0', 'title': '갈릴레이 군'}\n",
      "{'latex': '{\\\\mathfrak {gal}}(3+1)', 'id': 'fa9b06265c0f6c9', 'link': 'https://ko.wikipedia.org/wiki/%EA%B0%88%EB%A6%B4%EB%A0%88%EC%9D%B4_%EA%B5%B0', 'title': '갈릴레이 군'}\n",
      "{'latex': 'ME-P^{2}/2', 'id': 'fa9b06265c0f6c9', 'link': 'https://ko.wikipedia.org/wiki/%EA%B0%88%EB%A6%B4%EB%A0%88%EC%9D%B4_%EA%B5%B0', 'title': '갈릴레이 군'}\n",
      "{'latex': 'W_{ij}=MJ_{ij}+P_{i}C_{j}-P_{j}C_{i}', 'id': 'fa9b06265c0f6c9', 'link': 'https://ko.wikipedia.org/wiki/%EA%B0%88%EB%A6%B4%EB%A0%88%EC%9D%B4_%EA%B5%B0', 'title': '갈릴레이 군'}\n",
      "{'latex': 'W_{ijk}=P_{i}J_{jk}+P_{j}J_{ki}+P_{k}J_{ij}', 'id': 'fa9b06265c0f6c9', 'link': 'https://ko.wikipedia.org/wiki/%EA%B0%88%EB%A6%B4%EB%A0%88%EC%9D%B4_%EA%B5%B0', 'title': '갈릴레이 군'}\n",
      "{'latex': 'W_{ij}', 'id': 'fa9b06265c0f6c9', 'link': 'https://ko.wikipedia.org/wiki/%EA%B0%88%EB%A6%B4%EB%A0%88%EC%9D%B4_%EA%B5%B0', 'title': '갈릴레이 군'}\n",
      "{'latex': 'W_{ijk}', 'id': 'fa9b06265c0f6c9', 'link': 'https://ko.wikipedia.org/wiki/%EA%B0%88%EB%A6%B4%EB%A0%88%EC%9D%B4_%EA%B5%B0', 'title': '갈릴레이 군'}\n",
      "{'latex': 'mE_{0}', 'id': 'fa9b06265c0f6c9', 'link': 'https://ko.wikipedia.org/wiki/%EA%B0%88%EB%A6%B4%EB%A0%88%EC%9D%B4_%EA%B5%B0', 'title': '갈릴레이 군'}\n",
      "{'latex': 'w_{ij}', 'id': 'fa9b06265c0f6c9', 'link': 'https://ko.wikipedia.org/wiki/%EA%B0%88%EB%A6%B4%EB%A0%88%EC%9D%B4_%EA%B5%B0', 'title': '갈릴레이 군'}\n",
      "{'latex': 'w_{ijk}', 'id': 'fa9b06265c0f6c9', 'link': 'https://ko.wikipedia.org/wiki/%EA%B0%88%EB%A6%B4%EB%A0%88%EC%9D%B4_%EA%B5%B0', 'title': '갈릴레이 군'}\n",
      "{'latex': 'E_{0}\\\\geq 0', 'id': 'fa9b06265c0f6c9', 'link': 'https://ko.wikipedia.org/wiki/%EA%B0%88%EB%A6%B4%EB%A0%88%EC%9D%B4_%EA%B5%B0', 'title': '갈릴레이 군'}\n",
      "{'latex': '(E,\\\\mathbf {P} )', 'id': 'fa9b06265c0f6c9', 'link': 'https://ko.wikipedia.org/wiki/%EA%B0%88%EB%A6%B4%EB%A0%88%EC%9D%B4_%EA%B5%B0', 'title': '갈릴레이 군'}\n",
      "{'latex': 'mE=mE_{0}+P^{2}/2', 'id': 'fa9b06265c0f6c9', 'link': 'https://ko.wikipedia.org/wiki/%EA%B0%88%EB%A6%B4%EB%A0%88%EC%9D%B4_%EA%B5%B0', 'title': '갈릴레이 군'}\n",
      "{'latex': '\\\\operatorname {Spin} (3)=\\\\operatorname {SU} (2)', 'id': 'fa9b06265c0f6c9', 'link': 'https://ko.wikipedia.org/wiki/%EA%B0%88%EB%A6%B4%EB%A0%88%EC%9D%B4_%EA%B5%B0', 'title': '갈릴레이 군'}\n",
      "{'latex': 's\\\\in \\\\{0,1/2,1,3/2,\\\\dots \\\\}', 'id': 'fa9b06265c0f6c9', 'link': 'https://ko.wikipedia.org/wiki/%EA%B0%88%EB%A6%B4%EB%A0%88%EC%9D%B4_%EA%B5%B0', 'title': '갈릴레이 군'}\n",
      "{'latex': 'mE-\\\\mathbf {p} ^{2}/2=-\\\\mathbf {p} ^{2}/2\\\\leq 0', 'id': 'fa9b06265c0f6c9', 'link': 'https://ko.wikipedia.org/wiki/%EA%B0%88%EB%A6%B4%EB%A0%88%EC%9D%B4_%EA%B5%B0', 'title': '갈릴레이 군'}\n",
      "{'latex': '(E,\\\\mathbf {P} )', 'id': 'fa9b06265c0f6c9', 'link': 'https://ko.wikipedia.org/wiki/%EA%B0%88%EB%A6%B4%EB%A0%88%EC%9D%B4_%EA%B5%B0', 'title': '갈릴레이 군'}\n",
      "{'latex': '\\\\mathbf {p} ^{2}=0', 'id': 'fa9b06265c0f6c9', 'link': 'https://ko.wikipedia.org/wiki/%EA%B0%88%EB%A6%B4%EB%A0%88%EC%9D%B4_%EA%B5%B0', 'title': '갈릴레이 군'}\n",
      "{'latex': '\\\\operatorname {ISO} (n)\\\\cong \\\\mathbb {R} ^{n}\\\\rtimes \\\\operatorname {SO} (n)', 'id': 'fa9b06265c0f6c9', 'link': 'https://ko.wikipedia.org/wiki/%EA%B0%88%EB%A6%B4%EB%A0%88%EC%9D%B4_%EA%B5%B0', 'title': '갈릴레이 군'}\n",
      "{'latex': '\\\\mathbf {p} ^{2}>0', 'id': 'fa9b06265c0f6c9', 'link': 'https://ko.wikipedia.org/wiki/%EA%B0%88%EB%A6%B4%EB%A0%88%EC%9D%B4_%EA%B5%B0', 'title': '갈릴레이 군'}\n",
      "{'latex': '\\\\operatorname {ISO} (n-1)', 'id': 'fa9b06265c0f6c9', 'link': 'https://ko.wikipedia.org/wiki/%EA%B0%88%EB%A6%B4%EB%A0%88%EC%9D%B4_%EA%B5%B0', 'title': '갈릴레이 군'}\n",
      "{'latex': '\\\\mathbf p', 'id': 'fa9b06265c0f6c9', 'link': 'https://ko.wikipedia.org/wiki/%EA%B0%88%EB%A6%B4%EB%A0%88%EC%9D%B4_%EA%B5%B0', 'title': '갈릴레이 군'}\n",
      "{'latex': '\\\\operatorname {ISO} (n-1)', 'id': 'fa9b06265c0f6c9', 'link': 'https://ko.wikipedia.org/wiki/%EA%B0%88%EB%A6%B4%EB%A0%88%EC%9D%B4_%EA%B5%B0', 'title': '갈릴레이 군'}\n",
      "{'latex': 'C\\\\mapsto x', 'id': 'fa9b06265c0f6c9', 'link': 'https://ko.wikipedia.org/wiki/%EA%B0%88%EB%A6%B4%EB%A0%88%EC%9D%B4_%EA%B5%B0', 'title': '갈릴레이 군'}\n",
      "{'latex': 'H\\\\mapsto p', 'id': 'fa9b06265c0f6c9', 'link': 'https://ko.wikipedia.org/wiki/%EA%B0%88%EB%A6%B4%EB%A0%88%EC%9D%B4_%EA%B5%B0', 'title': '갈릴레이 군'}\n",
      "{'latex': 'E=mc^{2}', 'id': 'fa9b06265c0f6c9', 'link': 'https://ko.wikipedia.org/wiki/%EA%B0%88%EB%A6%B4%EB%A0%88%EC%9D%B4_%EA%B5%B0', 'title': '갈릴레이 군'}\n",
      "{'latex': '\\\\mathbf {G} ={\\\\frac {8\\\\pi G}{c^{4}}}\\\\mathbf {T} ', 'id': 'fa9b06265c0f6c9', 'link': 'https://ko.wikipedia.org/wiki/%EA%B0%88%EB%A6%B4%EB%A0%88%EC%9D%B4_%EA%B5%B0', 'title': '갈릴레이 군'}\n",
      "{'latex': '{\\\\tfrac {p^{n}-1}{p-1}}', 'id': '904ae0a1584e6f1', 'link': 'https://ko.wikipedia.org/wiki/%EB%B6%88%EA%B0%80%EC%B4%89_%EC%88%98', 'title': '불가촉 수'}\n"
     ]
    }
   ],
   "source": [
    "for idx, data in enumerate(contexts):\n",
    "    latex, id, link, title = data\n",
    "    body = {'latex': latex, 'id': id, 'link': link, 'title': title}\n",
    "    print(body)\n",
    "    es.index(index=INDEX, id=idx+1, body=body)"
   ]
  },
  {
   "cell_type": "code",
   "execution_count": 53,
   "metadata": {},
   "outputs": [
    {
     "name": "stderr",
     "output_type": "stream",
     "text": [
      "/var/folders/lp/tb5q9ks973gdt01t1w07s95m0000gn/T/ipykernel_8779/3179673133.py:1: ElasticsearchWarning: Elasticsearch built-in security features are not enabled. Without authentication, your cluster could be accessible to anyone. See https://www.elastic.co/guide/en/elasticsearch/reference/7.17/security-minimal-setup.html to enable security.\n",
      "  es.get(index=INDEX, id=250)\n"
     ]
    },
    {
     "data": {
      "text/plain": [
       "ObjectApiResponse({'_index': 'search_test', '_type': '_doc', '_id': '250', '_version': 1, '_seq_no': 249, '_primary_term': 1, 'found': True, '_source': {'latex': '\\\\therefore \\\\beta ={{\\\\ln 10} \\\\over {2L}}', 'id': '88e49440a52b8bd', 'link': 'https://ko.wikipedia.org/wiki/%EB%A0%88%EB%B9%84_%EC%83%81%EC%88%98', 'title': '레비 상수'}})"
      ]
     },
     "execution_count": 53,
     "metadata": {},
     "output_type": "execute_result"
    }
   ],
   "source": [
    "es.get(index=INDEX, id=250)"
   ]
  },
  {
   "cell_type": "markdown",
   "metadata": {},
   "source": []
  },
  {
   "cell_type": "code",
   "execution_count": 54,
   "metadata": {},
   "outputs": [
    {
     "name": "stderr",
     "output_type": "stream",
     "text": [
      "/var/folders/lp/tb5q9ks973gdt01t1w07s95m0000gn/T/ipykernel_8779/1388031282.py:8: DeprecationWarning: The 'body' parameter is deprecated and will be removed in a future version. Instead use individual parameters.\n",
      "  res = es.search(index=INDEX, body=body)\n"
     ]
    },
    {
     "name": "stdout",
     "output_type": "stream",
     "text": [
      "{'took': 804, 'timed_out': False, '_shards': {'total': 1, 'successful': 1, 'skipped': 0, 'failed': 0}, 'hits': {'total': {'value': 34, 'relation': 'eq'}, 'max_score': 16.99393, 'hits': [{'_index': 'search_test', '_type': '_doc', '_id': '250', '_score': 16.99393, '_source': {'latex': '\\\\therefore \\\\beta ={{\\\\ln 10} \\\\over {2L}}', 'id': '88e49440a52b8bd', 'link': 'https://ko.wikipedia.org/wiki/%EB%A0%88%EB%B9%84_%EC%83%81%EC%88%98', 'title': '레비 상수'}}, {'_index': 'search_test', '_type': '_doc', '_id': '249', '_score': 11.381777, '_source': {'latex': '\\\\;\\\\;\\\\;={{\\\\ln 10} \\\\over {2\\\\beta }}', 'id': '88e49440a52b8bd', 'link': 'https://ko.wikipedia.org/wiki/%EB%A0%88%EB%B9%84_%EC%83%81%EC%88%98', 'title': '레비 상수'}}, {'_index': 'search_test', '_type': '_doc', '_id': '242', '_score': 10.282867, '_source': {'latex': '\\\\beta ={{\\\\pi ^{2}} \\\\over {12\\\\ln(2)}}', 'id': '88e49440a52b8bd', 'link': 'https://ko.wikipedia.org/wiki/%EB%A0%88%EB%B9%84_%EC%83%81%EC%88%98', 'title': '레비 상수'}}, {'_index': 'search_test', '_type': '_doc', '_id': '244', '_score': 9.809322, '_source': {'latex': '\\\\beta ^{-1}={{12\\\\ln(2)} \\\\over {\\\\pi ^{2}}}', 'id': '88e49440a52b8bd', 'link': 'https://ko.wikipedia.org/wiki/%EB%A0%88%EB%B9%84_%EC%83%81%EC%88%98', 'title': '레비 상수'}}, {'_index': 'search_test', '_type': '_doc', '_id': '240', '_score': 7.5217934, '_source': {'latex': '\\\\;\\\\;\\\\;=e^{{\\\\pi ^{2}} \\\\over {12\\\\ln(2)}}', 'id': '88e49440a52b8bd', 'link': 'https://ko.wikipedia.org/wiki/%EB%A0%88%EB%B9%84_%EC%83%81%EC%88%98', 'title': '레비 상수'}}, {'_index': 'search_test', '_type': '_doc', '_id': '247', '_score': 5.7571917, '_source': {'latex': 'L={{1} \\\\over {2\\\\log _{10}(e^{\\\\beta })}}', 'id': '88e49440a52b8bd', 'link': 'https://ko.wikipedia.org/wiki/%EB%A0%88%EB%B9%84_%EC%83%81%EC%88%98', 'title': '레비 상수'}}, {'_index': 'search_test', '_type': '_doc', '_id': '238', '_score': 5.5207915, '_source': {'latex': 'O\\\\left(\\\\exp \\\\left({\\\\sqrt {2\\\\ln(p\\\\ln(\\\\ln(p))}}\\\\right)\\\\right)', 'id': '5abc7fedb03c347', 'link': 'https://ko.wikipedia.org/wiki/%EC%86%8C%EC%9D%B8%EC%88%98_%EB%B6%84%ED%95%B4', 'title': '소인수분해'}}, {'_index': 'search_test', '_type': '_doc', '_id': '239', '_score': 5.0583525, '_source': {'latex': '\\\\lim _{n\\\\to \\\\infty }B_{n}^{{1} \\\\over {n}}=e^{\\\\beta }', 'id': '88e49440a52b8bd', 'link': 'https://ko.wikipedia.org/wiki/%EB%A0%88%EB%B9%84_%EC%83%81%EC%88%98', 'title': '레비 상수'}}, {'_index': 'search_test', '_type': '_doc', '_id': '40', '_score': 4.057561, '_source': {'latex': '{1 \\\\over a}', 'id': 'dce660e5737d80c', 'link': 'https://ko.wikipedia.org/wiki/%EC%82%B0%EC%88%A0#사칙연산', 'title': '산술'}}, {'_index': 'search_test', '_type': '_doc', '_id': '99', '_score': 4.057561, '_source': {'latex': '{{1} \\\\over {2}}', 'id': '4099927ad13f8b2', 'link': 'https://ko.wikipedia.org/wiki/%ED%98%84_(%EC%88%98%ED%95%99)', 'title': '현 (기하학)'}}]}}\n"
     ]
    },
    {
     "name": "stderr",
     "output_type": "stream",
     "text": [
      "/var/folders/lp/tb5q9ks973gdt01t1w07s95m0000gn/T/ipykernel_8779/1388031282.py:8: ElasticsearchWarning: Elasticsearch built-in security features are not enabled. Without authentication, your cluster could be accessible to anyone. See https://www.elastic.co/guide/en/elasticsearch/reference/7.17/security-minimal-setup.html to enable security.\n",
      "  res = es.search(index=INDEX, body=body)\n"
     ]
    }
   ],
   "source": [
    "body = {\n",
    "\t\t'query': {\n",
    "\t\t\t\t'match': {\n",
    "\t\t\t\t\t\t'latex': '\\\\therefore \\\\beta ={{\\\\ln 50} \\\\over {32L}}'\n",
    "\t\t\t\t}\n",
    "\t\t}\n",
    "}\n",
    "res = es.search(index=INDEX, body=body)\n",
    "print(res)"
   ]
  },
  {
   "cell_type": "code",
   "execution_count": null,
   "metadata": {},
   "outputs": [],
   "source": []
  }
 ],
 "metadata": {
  "kernelspec": {
   "display_name": "Python 3.8.1 64-bit ('search')",
   "language": "python",
   "name": "python3"
  },
  "language_info": {
   "codemirror_mode": {
    "name": "ipython",
    "version": 3
   },
   "file_extension": ".py",
   "mimetype": "text/x-python",
   "name": "python",
   "nbconvert_exporter": "python",
   "pygments_lexer": "ipython3",
   "version": "3.8.1"
  },
  "vscode": {
   "interpreter": {
    "hash": "158cfa67cb22e04d45aaf053e08c20f748d209cd8afcbc683eea0fb6444962a4"
   }
  }
 },
 "nbformat": 4,
 "nbformat_minor": 4
}
